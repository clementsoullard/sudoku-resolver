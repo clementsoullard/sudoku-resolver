{
 "cells": [
  {
   "cell_type": "code",
   "execution_count": 33,
   "id": "fdfd9b3e-d130-4771-8204-d799e5016e4e",
   "metadata": {},
   "outputs": [
    {
     "name": "stdout",
     "output_type": "stream",
     "text": [
      "Max audio avant filtre 24739.692516830088\n",
      "Max audio après filtre 822.5164303298047\n",
      "Frequence d'échantillonage 8820\n",
      "Nombre de sample 1886976\n",
      "Fenêtre d'échantillon pour la spline de flottaison 132300\n",
      "Nombre de points de franchissement positif de la ligne de flottaison 246\n",
      "Bpm 109.94675286720657\n"
     ]
    }
   ],
   "source": [
    "import computebpm as bpm\n",
    "from importlib import reload \n",
    "reload(bpm)\n",
    "bpm.computebpm(wavpath=\"content/anotheronebust.wav\",percentileflottaison=85)"
   ]
  }
 ],
 "metadata": {
  "kernelspec": {
   "display_name": "Python 3 (ipykernel)",
   "language": "python",
   "name": "python3"
  },
  "language_info": {
   "codemirror_mode": {
    "name": "ipython",
    "version": 3
   },
   "file_extension": ".py",
   "mimetype": "text/x-python",
   "name": "python",
   "nbconvert_exporter": "python",
   "pygments_lexer": "ipython3",
   "version": "3.11.9"
  }
 },
 "nbformat": 4,
 "nbformat_minor": 5
}
