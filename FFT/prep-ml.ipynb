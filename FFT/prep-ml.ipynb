{
 "cells": [
  {
   "cell_type": "markdown",
   "id": "a1efb5ca-4abb-4042-9f37-a4134481c7c8",
   "metadata": {},
   "source": [
    "# This file to prepare the machine learning"
   ]
  },
  {
   "cell_type": "code",
   "execution_count": 43,
   "id": "4d9c1081-16c1-4f8c-be9a-14dc6f8452d8",
   "metadata": {},
   "outputs": [
    {
     "name": "stdout",
     "output_type": "stream",
     "text": [
      "Track 0: \n",
      "MetaMessage('time_signature', numerator=4, denominator=4, clocks_per_click=24, notated_32nd_notes_per_beat=8, time=0)\n",
      "Spectro 0.6813223361968994\n",
      "Spectro 0.6846439838409424\n",
      "Spectro 0.6226608753204346\n",
      "Spectro 0.579777717590332\n",
      "Spectro 0.22568917274475098\n",
      "Fin danalyse SFFTT 3.158982276916504\n",
      "Fin Map to note 3.697113275527954\n",
      "(170, 2501) (102, 3000) 2485\n",
      "(170, 2485) (102, 2485) 2485\n"
     ]
    }
   ],
   "source": [
    "import midiprocessor as midip\n",
    "import guessnote as guessnote\n",
    "from importlib import reload \n",
    "reload(midip)\n",
    "reload(guessnote)\n",
    "\n",
    "\n",
    "def buildLearningDataset(radicalFileName):\n",
    "    Y=midip.buildY('midicontent/'+radicalFileName+'.mid')\n",
    "    X=guessnote.prepareInputX('wavcontent/'+radicalFileName+'.wav',tolerance=1/40,attenuationfloordb=-5)\n",
    "    X=X-X.min()\n",
    "    X=X/X.max()\n",
    "    \n",
    "    ymaxindex=np.max(np.where(Y.sum(axis=0)>0))\n",
    "    xmaxindex=np.max(np.where(X.sum(axis=0)>0))\n",
    "    \n",
    "    if ymaxindex>xmaxindex:   \n",
    "        print(X.shape,Y.shape,xmaxindex)\n",
    "        Y=Y[:,:xmaxindex]\n",
    "        X=X[:,:xmaxindex]\n",
    "        print(X.shape,Y.shape,xmaxindex)\n",
    "    else:\n",
    "        Y=Y[:,:ymaxindex]\n",
    "        X=X[:,:ymaxindex]\n",
    "    \n",
    "    np.save(\"learningdataset/\"+radicalFileName+\"Y.npy\",Y)\n",
    "    np.save(\"learningdataset/\"+radicalFileName+\"X.npy\",X)\n",
    "\n",
    "buildLearningDataset(\"let-it-be\")"
   ]
  },
  {
   "cell_type": "code",
   "execution_count": 44,
   "id": "4b48eb94-5b44-4575-ae94-eff42ff4a039",
   "metadata": {},
   "outputs": [
    {
     "name": "stdout",
     "output_type": "stream",
     "text": [
      "Track 0: \n",
      "MetaMessage('time_signature', numerator=4, denominator=4, clocks_per_click=24, notated_32nd_notes_per_beat=8, time=0)\n",
      "Spectro 0.7463822364807129\n",
      "Spectro 0.7268097400665283\n",
      "Spectro 0.67897629737854\n",
      "Spectro 0.6244966983795166\n",
      "Spectro 0.2779717445373535\n",
      "Fin danalyse SFFTT 3.683565616607666\n",
      "Fin Map to note 4.129568576812744\n"
     ]
    }
   ],
   "source": [
    "buildLearningDataset(\"hey-jude\")"
   ]
  },
  {
   "cell_type": "code",
   "execution_count": 48,
   "id": "f800b035-0bcf-4a35-8225-ed347eb3c556",
   "metadata": {},
   "outputs": [
    {
     "name": "stdout",
     "output_type": "stream",
     "text": [
      "Track 0: \n",
      "MetaMessage('time_signature', numerator=4, denominator=4, clocks_per_click=24, notated_32nd_notes_per_beat=8, time=0)\n",
      "Track 1: Rock Organ\n",
      "Track 2: Overdriven Guitar\n",
      "Track 3: Overdriven Guitar\n",
      "Track 4: Overdriven Guitar\n",
      "Track 5: Overdriven Guitar\n",
      "Track 6: Electric Bass\n",
      "Track 7: Bass Drum\n",
      "Track 8: Snare Drum\n",
      "Track 9: Tom Drum\n",
      "Track 10: Open Hi-Hat\n",
      "Track 11: Crash Cymbal\n",
      "Track 12: Come Together\n",
      "Track 13: by The Beatles\n",
      "Track 14: Arranged by\n",
      "Track 15: David R.\n",
      "Spectro 0.5154616832733154\n",
      "Spectro 0.5135962963104248\n",
      "Spectro 0.47902488708496094\n",
      "Spectro 0.4413907527923584\n",
      "Spectro 0.1789696216583252\n",
      "Fin danalyse SFFTT 2.4157495498657227\n",
      "Fin Map to note 2.8999884128570557\n",
      "(170, 1921) (102, 3000) 1907\n",
      "(170, 1907) (102, 1907) 1907\n"
     ]
    }
   ],
   "source": [
    "import midiprocessor as midip\n",
    "import guessnote as guessnote\n",
    "from importlib import reload \n",
    "reload(midip)\n",
    "reload(guessnote)\n",
    "buildLearningDataset(\"come-together\")"
   ]
  },
  {
   "cell_type": "code",
   "execution_count": 49,
   "id": "f257f691-e1c4-430f-a889-1eba59b0047b",
   "metadata": {},
   "outputs": [
    {
     "name": "stdout",
     "output_type": "stream",
     "text": [
      "Track 0: \n",
      "MetaMessage('time_signature', numerator=4, denominator=4, clocks_per_click=24, notated_32nd_notes_per_beat=8, time=0)\n",
      "Spectro 0.520606279373169\n",
      "Spectro 0.4929192066192627\n",
      "Spectro 0.46752405166625977\n",
      "Spectro 0.4233689308166504\n",
      "Spectro 0.1724863052368164\n",
      "Fin danalyse SFFTT 2.3707830905914307\n",
      "Fin Map to note 2.8689587116241455\n"
     ]
    }
   ],
   "source": [
    "import midiprocessor as midip\n",
    "import guessnote as guessnote\n",
    "from importlib import reload \n",
    "reload(midip)\n",
    "reload(guessnote)\n",
    "buildLearningDataset(\"highway\")"
   ]
  },
  {
   "cell_type": "code",
   "execution_count": 37,
   "id": "8f8cc583-4f4e-4cd6-9f22-e55106c421fb",
   "metadata": {},
   "outputs": [
    {
     "name": "stdout",
     "output_type": "stream",
     "text": [
      "Track 0: \n",
      "MetaMessage('time_signature', numerator=4, denominator=4, clocks_per_click=24, notated_32nd_notes_per_beat=8, time=0)\n",
      "max de Y 1\n",
      "(170, 2501) (102, 3000) 2485\n",
      "(170, 2485) (102, 2485) 2485\n",
      "(170, 2485)\n",
      "(102, 2485)\n"
     ]
    }
   ],
   "source": [
    "import midiprocessor as midip\n",
    "import guessnote as guessnote\n",
    "from importlib import reload \n",
    "reload(midip)\n",
    "reload(guessnote)\n",
    "\n",
    "import numpy as np\n",
    "Y=midip.buildY('midicontent/let-it-be.mid')\n",
    "print(\"max de Y\",Y.max())\n",
    "len(Y.sum(axis=0))\n",
    "ymaxindex=np.max(np.where(Y.sum(axis=0)>0))\n",
    "xmaxindex=np.max(np.where(X.sum(axis=0)>0))\n",
    "\n",
    "if ymaxindex>xmaxindex:   \n",
    "    print(X.shape,Y.shape,xmaxindex)\n",
    "    Y=Y[:,:xmaxindex].copy()\n",
    "    X=X[:,:xmaxindex].copy()\n",
    "    print(X.shape,Y.shape,xmaxindex)\n",
    "\n",
    "else:\n",
    "    Y=Y[:,:ymaxindex].copy()\n",
    "    X=X[:,:ymaxindex].copy()\n",
    "\n",
    "print(X.shape)\n",
    "print(Y.shape)\n",
    "\n"
   ]
  },
  {
   "cell_type": "markdown",
   "id": "d99c305f-f977-40c2-a94c-44fb317fa228",
   "metadata": {},
   "source": [
    "Tonalité: Killing me = F mineur F G G# A# C D D# \n",
    "\n",
    "Tonalité: Billy Jean = F# mineur F# G# A B C# D# F#\n",
    "\n",
    "Tonalité: Forever Man = Bb majeur (Lydian) Bb C D E F G A\n",
    "\n",
    "Tonalité: I love Rnr = Em mineur harmonique E \n",
    "\n",
    "Let it be = C majeur\n",
    "\n",
    "Get Lucky = B mineeur\n"
   ]
  },
  {
   "cell_type": "code",
   "execution_count": 69,
   "id": "564dd3a6-bd2c-44cd-ae63-c73c2bbd4089",
   "metadata": {},
   "outputs": [
    {
     "name": "stderr",
     "output_type": "stream",
     "text": [
      "/tmp/ipykernel_122/964485256.py:26: RuntimeWarning: invalid value encountered in scalar divide\n",
      "  y=y/np.max(y)*2\n",
      "/tmp/ipykernel_122/964485256.py:47: RuntimeWarning: divide by zero encountered in log2\n",
      "  c=np.log2(c)\n"
     ]
    },
    {
     "data": {
      "text/plain": [
       "11346"
      ]
     },
     "execution_count": 69,
     "metadata": {},
     "output_type": "execute_result"
    },
    {
     "data": {
      "image/png": "[encoded data removed]",
      "text/plain": [
       "<Figure size 1600x500 with 1 Axes>"
      ]
     },
     "metadata": {},
     "output_type": "display_data"
    }
   ],
   "source": [
    "# This Library takes wave file and serializes it recognition formatsit as an array. \n",
    "from scipy.io import wavfile # get the api\n",
    "import numpy as np\n",
    "import matplotlib.pyplot as plt\n",
    "from scipy.signal import ShortTimeFFT\n",
    "from scipy.signal.windows import gaussian\n",
    "from scipy.signal.windows import tukey\n",
    "import os\n",
    "import scipy.signal as signal\n",
    "from math import log2\n",
    "from math import pow\n",
    "import re\n",
    "import guessnote as guessnote\n",
    "from importlib import reload \n",
    "import random\n",
    "reload(guessnote)\n",
    "\n",
    "import matplotlib.pyplot as plt\n",
    "import numpy as np\n",
    "from scipy.signal import square, ShortTimeFFT\n",
    "\n",
    "plt.rcParams['figure.figsize'] = [16, 5]\n",
    "\n",
    "fs,y = wavfile.read(\"content/norvegian.wav\") # load the data\n",
    "y=y.T[0]\n",
    "y=y/np.max(y)*2\n",
    "# how many seconds of audio make up an FFT window\n",
    "[8.662,8.1658,9.177,9.723,15.4439]\n",
    "win = np.ones(int(fs/8.662))  # symmetric Gaussian window\n",
    "SFT = ShortTimeFFT(win, hop=fs//10, fs=fs,  scale_to='psd')\n",
    "a=SFT.f\n",
    "win = np.ones(int(fs/8.1658))  # symmetric Gaussian window\n",
    "SFT = ShortTimeFFT(win, hop=int(fs//10), fs=fs,  scale_to='psd')\n",
    "b=SFT.f\n",
    "win = np.ones(int(fs/9.177))  # symmetric Gaussian window\n",
    "SFT = ShortTimeFFT(win, hop=fs//10, fs=fs,  scale_to='psd')\n",
    "c=SFT.f\n",
    "win = np.ones(int(fs/9.723))  # symmetric Gaussian window\n",
    "SFT = ShortTimeFFT(win, hop=fs//10, fs=fs,  scale_to='psd')\n",
    "d=SFT.f\n",
    "win = np.ones(int(fs/15.4439))  # symmetric Gaussian window\n",
    "SFT = ShortTimeFFT(win, hop=fs//10, fs=fs,  scale_to='psd')\n",
    "e=SFT.f\n",
    "\n",
    "c=np.concatenate([a,b,c,d,e])\n",
    "scale=guessnote.buildScale(tolerance=1/40)\n",
    "c=np.log2(c)\n",
    "plt.scatter(c,np.random.random((len(c))))\n",
    "for i in scale:\n",
    "    #print(i)\n",
    "    plt.plot([np.log2(i),np.log2(i)],[0,1],c='r')\n",
    "\n",
    "plt.xlim(5,7)\n",
    "len(c)"
   ]
  },
  {
   "cell_type": "code",
   "execution_count": null,
   "id": "1b3d4da4-9d49-4bcd-baf6-8c507f58993f",
   "metadata": {},
   "outputs": [],
   "source": []
  },
  {
   "cell_type": "markdown",
   "id": "6d431242-7d20-4bb1-b0f3-3913db3bd029",
   "metadata": {},
   "source": [
    "# "
   ]
  },
  {
   "cell_type": "code",
   "execution_count": 1,
   "id": "5da0b7ae-90b1-41b3-958f-53004e219540",
   "metadata": {},
   "outputs": [
    {
     "name": "stderr",
     "output_type": "stream",
     "text": [
      "/home/jovyan/FFT/guessnote.py:64: WavFileWarning: Chunk (non-data) not understood, skipping it.\n",
      "  fs,y = wavfile.read(filename) # load the data\n"
     ]
    },
    {
     "name": "stdout",
     "output_type": "stream",
     "text": [
      "Spectro 0.7770564556121826\n",
      "Spectro 0.7432873249053955\n",
      "Spectro 0.6863059997558594\n",
      "Spectro 0.6286754608154297\n",
      "Spectro 0.2795994281768799\n",
      "Fin danalyse SFFTT 3.739448070526123\n",
      "Map2note\n",
      "Serializing file content/hey-jude.npy\n",
      "End of serialization content/hey-jude.npy\n",
      "Fichier de Wav content/hey-jude.wav convertit en représentation npy content/hey-jude.npy\n"
     ]
    }
   ],
   "source": [
    "import guessnote as guessnote\n",
    "from importlib import reload \n",
    "reload(guessnote)\n",
    "#SFFT,Sx_dB=guessnote.getSFFT(\"content/killme.wav\",-5,FFT_WINDOW_SECONDS = 1)\n",
    "#bornes=guessnote.buildScale(tolerance=1/40)\n",
    "#guessnote.mapFreq2Note(SFFT, Sx_dB,bornes)\n",
    "\n",
    "guessnote.serialize(\"content/hey-jude.wav\",tolerance=1/40,attenuationfloordb=-5)\n",
    "\n",
    " \n",
    "\n",
    "\n",
    "    "
   ]
  },
  {
   "cell_type": "code",
   "execution_count": 12,
   "id": "c2984e41-f57c-4fae-ae99-76a2713752b4",
   "metadata": {},
   "outputs": [
    {
     "data": {
      "text/plain": [
       "array([0.0000e+00, 2.0000e+00, 4.0000e+00, ..., 2.3996e+04, 2.3998e+04,\n",
       "       2.4000e+04])"
      ]
     },
     "execution_count": 12,
     "metadata": {},
     "output_type": "execute_result"
    }
   ],
   "source": [
    "inv_map = guessnote.getMapFreq2Note(SFFT,bornes)\n",
    "#print(inv_map)\n",
    "\n",
    "notetable=np.full((len(bornes)+1,Sx_dB.shape[1]),-50.)\n",
    "# On parcours tous les instants du spectrogramme.\n",
    "for i in range(Sx_dB.shape[1]):\n",
    "    #Pour chaque bin de fréquence (note ou intervalle entre note) nous aggrégeons sur la puissance maximale de de fréquence\n",
    "    for k,v in inv_map.items():\n",
    "#        print(k)\n",
    "#        print(Sx_dB[v,i])\n",
    "        notetable[k,i]=np.max(Sx_dB[v,i])   "
   ]
  },
  {
   "cell_type": "code",
   "execution_count": 65,
   "id": "804baeb1-158a-4f82-994a-479cb6580ec2",
   "metadata": {},
   "outputs": [
    {
     "data": {
      "text/plain": [
       "array([[-50., -50., -50., ..., -50., -50., -50.],\n",
       "       [-50., -50., -50., ..., -50., -50., -50.],\n",
       "       [-50., -50., -50., ..., -50., -50., -50.],\n",
       "       ...,\n",
       "       [-50., -50., -50., ..., -50., -50., -50.],\n",
       "       [-50., -50., -50., ..., -50., -50., -50.],\n",
       "       [-50., -50., -50., ..., -50., -50., -50.]])"
      ]
     },
     "execution_count": 65,
     "metadata": {},
     "output_type": "execute_result"
    }
   ],
   "source": [
    "import numpy as np\n",
    "\n",
    "\n",
    "X=np.load(\"content/killme.npy\")\n",
    "X"
   ]
  },
  {
   "cell_type": "code",
   "execution_count": 175,
   "id": "f975e90f-8a5e-49ad-b253-ab5e26936a01",
   "metadata": {
    "scrolled": true
   },
   "outputs": [
    {
     "data": {
      "image/png": "[encoded data removed]",
      "text/plain": [
       "<Figure size 1600x500 with 1 Axes>"
      ]
     },
     "metadata": {},
     "output_type": "display_data"
    },
    {
     "data": {
      "image/png": "[encoded data removed]",
      "text/plain": [
       "<Figure size 1600x500 with 1 Axes>"
      ]
     },
     "metadata": {},
     "output_type": "display_data"
    }
   ],
   "source": [
    "import re\n",
    "import matplotlib.pyplot as plt\n",
    "\n",
    "X=np.load(\"content/killme.npy\")\n",
    "plt.rcParams['figure.figsize'] = [16, 5]\n",
    "\n",
    "tona=X.sum(axis=1)\n",
    "tona=tona-np.min(tona)\n",
    "tona=tona/np.max(tona)\n",
    "tona=tona[range(1,len(tona),2)]\n",
    "\n",
    "convolvevect=[-.25,-.25,1,-.25,-.25]\n",
    "tonaconvolved=np.convolve(tona,convolvevect,mode='same')\n",
    "tonaconvolved=tonaconvolved.clip(min=0)\n",
    "\n",
    "binsids=np.where(tonaconvolved>.2)[0]+1\n",
    "np.unique([re.sub(\"[0-9]$\",\"\",i) for i in keyboard[binsids]]) \n",
    "\n",
    "\n",
    "plt.stem(tona)\n",
    "plt.xticks(range(0,len(tona)),keyboard[1:],rotation=90)\n",
    "plt.show()\n",
    "\n",
    "\n",
    "\n",
    "plt.stem(tonaconvolved)\n",
    "plt.xticks(range(0,len(tona)),keyboard[1:],rotation=90)\n",
    "plt.show()\n"
   ]
  },
  {
   "cell_type": "code",
   "execution_count": 23,
   "id": "b3d04eb6-c7ae-4eca-ab08-81fa6c2cf837",
   "metadata": {},
   "outputs": [
    {
     "name": "stdout",
     "output_type": "stream",
     "text": [
      "Gamme Mineur Harmonique Premier degre 6\n"
     ]
    },
    {
     "data": {
      "text/html": [
       "<div>\n",
       "<style scoped>\n",
       "    .dataframe tbody tr th:only-of-type {\n",
       "        vertical-align: middle;\n",
       "    }\n",
       "\n",
       "    .dataframe tbody tr th {\n",
       "        vertical-align: top;\n",
       "    }\n",
       "\n",
       "    .dataframe thead th {\n",
       "        text-align: right;\n",
       "    }\n",
       "</style>\n",
       "<table border=\"1\" class=\"dataframe\">\n",
       "  <thead>\n",
       "    <tr style=\"text-align: right;\">\n",
       "      <th></th>\n",
       "      <th></th>\n",
       "      <th>resonnance</th>\n",
       "    </tr>\n",
       "    <tr>\n",
       "      <th>mode</th>\n",
       "      <th>premierdegre</th>\n",
       "      <th></th>\n",
       "    </tr>\n",
       "  </thead>\n",
       "  <tbody>\n",
       "    <tr>\n",
       "      <th>Mineur Harmonique</th>\n",
       "      <th>6</th>\n",
       "      <td>1.511493</td>\n",
       "    </tr>\n",
       "    <tr>\n",
       "      <th>Melodique Descendant</th>\n",
       "      <th>6</th>\n",
       "      <td>1.495426</td>\n",
       "    </tr>\n",
       "    <tr>\n",
       "      <th>Mineur naturel</th>\n",
       "      <th>6</th>\n",
       "      <td>1.495426</td>\n",
       "    </tr>\n",
       "    <tr>\n",
       "      <th>Majeur</th>\n",
       "      <th>6</th>\n",
       "      <td>1.485409</td>\n",
       "    </tr>\n",
       "    <tr>\n",
       "      <th>Mixolydien</th>\n",
       "      <th>6</th>\n",
       "      <td>1.477963</td>\n",
       "    </tr>\n",
       "    <tr>\n",
       "      <th>...</th>\n",
       "      <th>...</th>\n",
       "      <td>...</td>\n",
       "    </tr>\n",
       "    <tr>\n",
       "      <th>Lydien</th>\n",
       "      <th>8</th>\n",
       "      <td>0.187415</td>\n",
       "    </tr>\n",
       "    <tr>\n",
       "      <th>Mineur Harmonique</th>\n",
       "      <th>0</th>\n",
       "      <td>0.166993</td>\n",
       "    </tr>\n",
       "    <tr>\n",
       "      <th>Mixolydien</th>\n",
       "      <th>0</th>\n",
       "      <td>0.150508</td>\n",
       "    </tr>\n",
       "    <tr>\n",
       "      <th>Mineur naturel</th>\n",
       "      <th>0</th>\n",
       "      <td>0.140765</td>\n",
       "    </tr>\n",
       "    <tr>\n",
       "      <th>Melodique Descendant</th>\n",
       "      <th>0</th>\n",
       "      <td>0.140765</td>\n",
       "    </tr>\n",
       "  </tbody>\n",
       "</table>\n",
       "<p>72 rows × 1 columns</p>\n",
       "</div>"
      ],
      "text/plain": [
       "                                   resonnance\n",
       "mode                 premierdegre            \n",
       "Mineur Harmonique    6               1.511493\n",
       "Melodique Descendant 6               1.495426\n",
       "Mineur naturel       6               1.495426\n",
       "Majeur               6               1.485409\n",
       "Mixolydien           6               1.477963\n",
       "...                                       ...\n",
       "Lydien               8               0.187415\n",
       "Mineur Harmonique    0               0.166993\n",
       "Mixolydien           0               0.150508\n",
       "Mineur naturel       0               0.140765\n",
       "Melodique Descendant 0               0.140765\n",
       "\n",
       "[72 rows x 1 columns]"
      ]
     },
     "execution_count": 23,
     "metadata": {},
     "output_type": "execute_result"
    }
   ],
   "source": [
    "import re\n",
    "import matplotlib.pyplot as plt\n",
    "import pandas as pd\n",
    "\n",
    "X=np.load(\"content/billyjean.npy\")\n",
    "plt.rcParams['figure.figsize'] = [16, 5]\n",
    "\n",
    "tona=X.sum(axis=1)\n",
    "tona=tona-np.min(tona)\n",
    "tona=tona/np.max(tona)\n",
    "tona=tona[range(1,len(tona),2)]\n",
    "\n",
    "convolvevect=[-.25,-.25,1,-.25,-.25]\n",
    "tonaconvolved=np.convolve(tona,convolvevect,mode='same')\n",
    "tonaconvolved=tonaconvolved.clip(min=0)\n",
    "\n",
    "\n",
    "binsids=np.where(tonaconvolved>.2)[0]+1\n",
    "np.unique([re.sub(\"[0-9]$\",\"\",i) for i in keyboard[binsids]]) \n",
    "\n",
    "note=[i%12 for i in range(len(tonaconvolved))]\n",
    "#print(note)\n",
    "dftona=pd.DataFrame(tonaconvolved,columns=[\"powerfreqnote\"])\n",
    "dftona[\"note\"]=[i%12 for i in dftona.index]\n",
    "signature=dftona.groupby(\"note\").sum()\n",
    "signature=signature/signature.max()\n",
    "\n",
    "bestreso=0\n",
    "bestresogamme=''\n",
    "bestresopremierdegre=0\n",
    "moderesodf=pd.DataFrame(columns=['mode','premierdegre','resonnance'])\n",
    "for gamme in gammes.columns:\n",
    "    #print(gamme)\n",
    "    weight=gammes[gamme]\n",
    "    for i in range(12):\n",
    "        #print('premier degre',i)\n",
    "        signature['weight']=np.roll(weight,i)\n",
    "        resonnancedegamme=(signature['weight']*signature['powerfreqnote']).sum()\n",
    "        moderesodf.loc[len(moderesodf)]=[gamme,i,resonnancedegamme]\n",
    "        if resonnancedegamme>bestreso:\n",
    "            bestreso=resonnancedegamme\n",
    "            bestresogamme=gamme\n",
    "            bestresopremierdegre=i\n",
    "print(\"Gamme\",bestresogamme,\"Premier degre\",bestresopremierdegre)\n",
    "moderesodf.set_index(['mode','premierdegre'],inplace=True)\n",
    "moderesodf.sort_values(by=\"resonnance\",ascending=False,inplace=True)\n",
    "moderesodf"
   ]
  },
  {
   "cell_type": "code",
   "execution_count": 163,
   "id": "079a112d-8ffd-4aff-8ac5-edd27b37a9b3",
   "metadata": {},
   "outputs": [
    {
     "data": {
      "text/plain": [
       "0.9707173734650161"
      ]
     },
     "execution_count": 163,
     "metadata": {},
     "output_type": "execute_result"
    }
   ],
   "source": [
    "(signature['weight']*signature['powerfreqnote']).sum()"
   ]
  },
  {
   "cell_type": "code",
   "execution_count": 86,
   "id": "877c6d1e-bfbc-430a-8f2d-61c942bb21b8",
   "metadata": {},
   "outputs": [
    {
     "name": "stdout",
     "output_type": "stream",
     "text": [
      "['F1' 'F2' 'G#2' 'A#2' 'C3' 'F3' 'G#3' 'C4' 'C#4' 'F4' 'G#4' 'C5']\n"
     ]
    },
    {
     "data": {
      "text/plain": [
       "array(['A#', 'C', 'C#', 'F', 'G#'], dtype='<U2')"
      ]
     },
     "execution_count": 86,
     "metadata": {},
     "output_type": "execute_result"
    }
   ],
   "source": [
    "binsids=np.where(tonaconvolved>.2)[0]+1\n",
    "binsids\n",
    "print(keyboard[binsids])\n",
    "np.unique([re.sub(\"[0-9]$\",\"\",i) for i in keyboard[binsids]])"
   ]
  },
  {
   "cell_type": "code",
   "execution_count": 109,
   "id": "5e3e8601-5b01-448a-abe6-2a408efadbab",
   "metadata": {},
   "outputs": [
    {
     "name": "stdout",
     "output_type": "stream",
     "text": [
      "[ 1  2  6  9 11]\n",
      "['A#' 'C' 'C#' 'F' 'G#']\n"
     ]
    },
    {
     "data": {
      "text/plain": [
       "array([ 0,  1,  5,  8, 10])"
      ]
     },
     "execution_count": 109,
     "metadata": {},
     "output_type": "execute_result"
    }
   ],
   "source": [
    "import guessnote as guessnote\n",
    "from importlib import reload \n",
    "reload(guessnote)\n",
    "X=np.load(\"content/killme.npy\")\n",
    "guessnote.getMainNotes(X)\n"
   ]
  },
  {
   "cell_type": "code",
   "execution_count": 22,
   "id": "34ff85aa-5eb5-4922-a054-40a931a1092c",
   "metadata": {},
   "outputs": [
    {
     "data": {
      "text/plain": [
       "Majeur                  2.733333\n",
       "Mineur Harmonique       2.733333\n",
       "Mineur naturel          2.733333\n",
       "Melodique Descendant    2.733333\n",
       "Lydien                  2.733333\n",
       "Mixolydien              2.733333\n",
       "dtype: float64"
      ]
     },
     "execution_count": 22,
     "metadata": {},
     "output_type": "execute_result"
    }
   ],
   "source": [
    "majeure=[0,2,4,5,7,9,11]\n",
    "mineurharmonique=[0,2,3,5,7,8,11]\n",
    "\n",
    "weightmajeure=[1,0,1/5,0,1/3,1/4,0,1/2,0,1/5,0,1/4]\n",
    "weightmineurharmonique=[1,0,1/5,1/3,0,1/4,0,1/2,1/5,0,0,1/4]\n",
    "weightmineurnaturel=[1,0,1/5,1/3,0,1/4,0,1/2,1/5,0,1/4,0]\n",
    "weightmelodiqueasc=[1,0,1/5,1/3,0,1/4,0,1/2,0,1/5,0,1/4]\n",
    "weightmelodiquedesc=[1,0,1/5,1/3,0,1/4,0,1/2,1/5,0,1/4,0]\n",
    "weightmixolydien=[1,0,1/5,0,1/3,1/4,0,1/2,1/5,0,1/4,0]\n",
    "weightlydien=[1,0,1/5,0,1/4,0,1/3,1/2,0,1/5,0,1/4]\n",
    "\n",
    "mineurnaturel=[0,2,3,5,7,8,10]\n",
    "mineurmelodiqueasc=[0,2,3,5,7,9,11]\n",
    "mineurmelodiquedesc=[0,2,3,5,7,8,10]\n",
    "\n",
    "gammes=pd.DataFrame({\"Majeur\":weightmajeure,\"Mineur Harmonique\":weightmineurharmonique,\"Mineur naturel\":weightmineurnaturel,\"Melodique Descendant\":weightmelodiquedesc,\"Lydien\":weightlydien,\"Mixolydien\":weightmixolydien})\n",
    "gammes.sum()"
   ]
  },
  {
   "cell_type": "code",
   "execution_count": 147,
   "id": "39b65ca0-fc3c-4eff-8add-10a0e3c54646",
   "metadata": {},
   "outputs": [
    {
     "data": {
      "text/plain": [
       "12"
      ]
     },
     "execution_count": 147,
     "metadata": {},
     "output_type": "execute_result"
    }
   ],
   "source": [
    "len(weight)"
   ]
  },
  {
   "cell_type": "code",
   "execution_count": 12,
   "id": "82b32152-2e5e-4472-abed-830021ad7915",
   "metadata": {},
   "outputs": [
    {
     "data": {
      "text/plain": [
       "(0.0, 100.0)"
      ]
     },
     "execution_count": 12,
     "metadata": {},
     "output_type": "execute_result"
    },
    {
     "data": {
      "image/png": "[encoded data removed]",
      "text/plain": [
       "<Figure size 640x480 with 1 Axes>"
      ]
     },
     "metadata": {},
     "output_type": "display_data"
    }
   ],
   "source": [
    "import matplotlib.pyplot as plt\n",
    "#plt.imshow(X, origin='lower')\n",
    "plt.plot(X[:,1500])\n",
    "plt.xlim(0,100)"
   ]
  },
  {
   "cell_type": "code",
   "execution_count": 20,
   "id": "18d5b655-b8ef-44d1-aaa8-16cc8c16029e",
   "metadata": {},
   "outputs": [
    {
     "data": {
      "text/plain": [
       "86"
      ]
     },
     "execution_count": 20,
     "metadata": {},
     "output_type": "execute_result"
    }
   ],
   "source": [
    "from math import log2\n",
    "from math import pow\n",
    "\n",
    "# Constants\n",
    "# The scale of note\n",
    "notescale=[\"C\",\"C#\",\"D\",\"D#\",\"E\",\"F\",\"F#\",\"G\",\"G#\",\"A\",\"A#\",\"B\"]\n",
    "# The log2 increment of a semi-tone log2(2)/12= 1/12\n",
    "increment=1/12\n",
    "# The log2 representation of the A440 that is used as reference for our scale.\n",
    "alog=log2(440)\n",
    "#The bin boundary in frequency for each tone\n",
    "bornes=[]\n",
    "\n",
    "# Construction de la table mappant table vers index de note.\n",
    "mapftonote={}\n",
    "# This create some bins for a scale with for each note a lower bound and an upper bound. \n",
    "from math import log2\n",
    "from math import pow\n",
    "\n",
    "notescale=[\"C\",\"C#\",\"D\",\"D#\",\"E\",\"F\",\"F#\",\"G\",\"G#\",\"A\",\"A#\",\"B\"]\n",
    "increment=1/12\n",
    "tolerance=1/30\n",
    "alog=log2(440)\n",
    "bornes=[]\n",
    "notes=[]\n",
    "\n",
    "# construction all notes fundamental frequency interval above A3\n",
    "# you can compupte the span above A in octave with the formula\n",
    "# (range - distance to above C) /2   ==> 39-3 / 12 = 3\n",
    "for i in range(39):\n",
    "    lowerbound=pow(2,alog+increment*i-tolerance)\n",
    "    upperbound=pow(2,alog+increment*i+tolerance)\n",
    "    bornes.extend([lowerbound,upperbound])\n",
    "bornes.extend([upperbound])\n",
    "# construction all notes fundamental frequency interval below A3\n",
    "# you can compupte the span below A in octave with the formula\n",
    "# (range - distance to below C) /2   ==> 46 - 10 / 2\n",
    "\n",
    "for i in range(1,46):\n",
    "    lowerbound=pow(2,alog-increment*i-tolerance)\n",
    "    upperbound=pow(2,alog-increment*i+tolerance)\n",
    "    bornes.extend([lowerbound,upperbound])\n",
    "\n",
    "bornes.extend([-1])\n",
    "bornes.sort()\n",
    "keyboard=[\"OutBoundLower\"]\n",
    "for i in range (0,7):\n",
    "    for j in notescale:\n",
    "        notename=j+str(i)\n",
    "        keyboard.append(notename)\n",
    "keyboard.append(\"Outbound upper\")\n",
    "\n",
    "keyboard=np.array(keyboard)\n",
    "len(bornes)//2\n",
    "#len(keyboard)\n",
    "len(keyboard)\n"
   ]
  },
  {
   "cell_type": "code",
   "execution_count": null,
   "id": "e263d544-562c-4930-918e-8664cf112565",
   "metadata": {},
   "outputs": [],
   "source": []
  }
 ],
 "metadata": {
  "kernelspec": {
   "display_name": "Python 3 (ipykernel)",
   "language": "python",
   "name": "python3"
  },
  "language_info": {
   "codemirror_mode": {
    "name": "ipython",
    "version": 3
   },
   "file_extension": ".py",
   "mimetype": "text/x-python",
   "name": "python",
   "nbconvert_exporter": "python",
   "pygments_lexer": "ipython3",
   "version": "3.11.9"
  }
 },
 "nbformat": 4,
 "nbformat_minor": 5
}
