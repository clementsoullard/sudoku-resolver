{
 "cells": [
  {
   "cell_type": "code",
   "execution_count": 23,
   "id": "968856e7-61cf-4f89-b37d-28cda5fe194d",
   "metadata": {},
   "outputs": [],
   "source": [
    "from scipy.io.wavfile import write\n",
    "import numpy as np\n",
    "import matplotlib.pyplot as plt\n",
    "SAMPLINGFREQUENCY=48000\n",
    "N=SAMPLINGFREQUENCY*5\n",
    "sample=np.zeros(N)\n",
    "x=np.array([i/SAMPLINGFREQUENCY for i in range(N)])\n",
    "y=np.sin((x*440*2*np.pi))\n",
    "ii16 = np.iinfo(np.int16)\n",
    "y=(y*.7*ii16.max).astype(np.int16)\n",
    "\n",
    "write(\"sin.wav\", SAMPLINGFREQUENCY,y)\n"
   ]
  }
 ],
 "metadata": {
  "kernelspec": {
   "display_name": "Python 3 (ipykernel)",
   "language": "python",
   "name": "python3"
  },
  "language_info": {
   "codemirror_mode": {
    "name": "ipython",
    "version": 3
   },
   "file_extension": ".py",
   "mimetype": "text/x-python",
   "name": "python",
   "nbconvert_exporter": "python",
   "pygments_lexer": "ipython3",
   "version": "3.11.9"
  }
 },
 "nbformat": 4,
 "nbformat_minor": 5
}
