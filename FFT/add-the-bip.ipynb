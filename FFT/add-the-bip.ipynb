{
 "cells": [
  {
   "cell_type": "code",
   "execution_count": 23,
   "id": "968856e7-61cf-4f89-b37d-28cda5fe194d",
   "metadata": {},
   "outputs": [],
   "source": [
    "from scipy.io.wavfile import write\n",
    "import numpy as np\n",
    "import matplotlib.pyplot as plt\n",
    "SAMPLINGFREQUENCY=48000\n",
    "N=SAMPLINGFREQUENCY*5\n",
    "sample=np.zeros(N)\n",
    "x=np.array([i/SAMPLINGFREQUENCY for i in range(N)])\n",
    "y=np.sin((x*440*2*np.pi))\n",
    "ii16 = np.iinfo(np.int16)\n",
    "y=(y*.7*ii16.max).astype(np.int16)\n",
    "\n",
    "write(\"sin.wav\", SAMPLINGFREQUENCY,y)\n"
   ]
  },
  {
   "cell_type": "code",
   "execution_count": 2,
   "id": "28aa313b-bb7d-4fd7-8b8d-9d6d87dd4c33",
   "metadata": {},
   "outputs": [
    {
     "name": "stdout",
     "output_type": "stream",
     "text": [
      "Fenêtre d'échantillon pour la spline de flottaison 661500\n"
     ]
    }
   ],
   "source": [
    "import computebpm as bpm\n",
    "from importlib import reload \n",
    "reload(bpm)\n",
    "from scipy.io import wavfile # get the api\n",
    "from scipy.signal  import decimate\n",
    "\n",
    "wavpath=\"content/billyjean.wav\"\n",
    "SAMPLING_FREQUENCY, data = wavfile.read(wavpath) # load the sampling rate and the audio data\n",
    "DECIMATION_FACTOR=5\n",
    "audio = data.T[0] # this is a two channel soundtrack, get the first track\n",
    "audio=decimate(audio,DECIMATION_FACTOR)\n",
    "indexes=bpm.getFranchissements(audio,SAMPLING_FREQUENCY)\n",
    "indexes=indexes[0]*DECIMATION_FACTOR\n"
   ]
  },
  {
   "cell_type": "code",
   "execution_count": 9,
   "id": "5d004a98-9844-43bd-a181-ecada81a15af",
   "metadata": {},
   "outputs": [
    {
     "name": "stdout",
     "output_type": "stream",
     "text": [
      "32767\n"
     ]
    },
    {
     "data": {
      "text/plain": [
       "19826"
      ]
     },
     "execution_count": 9,
     "metadata": {},
     "output_type": "execute_result"
    }
   ],
   "source": [
    "print(np.max(audio.astype(np.int16)))\n",
    "np.max(audiofranchissement.astype(np.int16))"
   ]
  },
  {
   "cell_type": "code",
   "execution_count": 15,
   "id": "ce0fcf26-ef4e-4a02-891b-7f45baaa966e",
   "metadata": {},
   "outputs": [
    {
     "name": "stdout",
     "output_type": "stream",
     "text": [
      "Fenêtre d'échantillon pour la spline de flottaison 132300\n"
     ]
    }
   ],
   "source": [
    "import numpy as np\n",
    "from scipy.io import wavfile \n",
    "from scipy.signal  import decimate\n",
    "from scipy.io.wavfile import write\n",
    "import computebpm as bpm\n",
    "from importlib import reload \n",
    "reload(bpm)\n",
    "\n",
    "\n",
    "wavpath=\"content/billyjean.wav\"\n",
    "SAMPLING_FREQUENCY, data = wavfile.read(wavpath) # load the sampling rate and the audio data\n",
    "DECIMATION_FACTOR=5\n",
    "\n",
    "audio = data.T[0] # this is a two channel soundtrack, get the first track\n",
    "audiofranchissement=decimate(audio,DECIMATION_FACTOR)\n",
    "\n",
    "SAMPLING_FREQUENCY_FRANCHISSEMENT=SAMPLING_FREQUENCY//DECIMATION_FACTOR\n",
    "\n",
    "\n",
    "biplength=SAMPLING_FREQUENCY//10\n",
    "audiofranchissement=bpm.applyFilter(audiofranchissement,SAMPLING_FREQUENCY_FRANCHISSEMENT)\n",
    "\n",
    "indexes=bpm.getFranchissements(audiofranchissement,SAMPLING_FREQUENCY_FRANCHISSEMENT,percentileflottaison=90)\n",
    "indexes=indexes[0]*DECIMATION_FACTOR\n",
    "\n",
    "\n",
    "x=np.array([i/SAMPLING_FREQUENCY for i in range(biplength)])\n",
    "y=np.sin((x*440*2*np.pi))\n",
    "ii16 = np.iinfo(np.int16)\n",
    "y=(y*.7*ii16.max).astype(np.int16)\n",
    "\n",
    "\n",
    "for i in indexes:\n",
    "    audiosample=audio[i:i+biplength]\n",
    "    audiosample=(audiosample//2+y//2)\n",
    "    audio[i:i+biplength]=audiosample\n",
    "\n",
    "write(\"filtered.wav\", SAMPLING_FREQUENCY_FRANCHISSEMENT,audiofranchissement.astype(np.int16))\n",
    "\n",
    "write(\"anotherbip.wav\", SAMPLING_FREQUENCY,audio)"
   ]
  }
 ],
 "metadata": {
  "kernelspec": {
   "display_name": "Python 3 (ipykernel)",
   "language": "python",
   "name": "python3"
  },
  "language_info": {
   "codemirror_mode": {
    "name": "ipython",
    "version": 3
   },
   "file_extension": ".py",
   "mimetype": "text/x-python",
   "name": "python",
   "nbconvert_exporter": "python",
   "pygments_lexer": "ipython3",
   "version": "3.11.9"
  }
 },
 "nbformat": 4,
 "nbformat_minor": 5
}
