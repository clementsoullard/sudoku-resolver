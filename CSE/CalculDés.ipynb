{
 "cells": [
  {
   "cell_type": "code",
   "execution_count": 49,
   "id": "0959d338-ab58-4765-9e79-d8846d64b1e0",
   "metadata": {},
   "outputs": [
    {
     "name": "stdout",
     "output_type": "stream",
     "text": [
      "(6, 2)\n",
      "1\n",
      "2.228095580514e-312\n",
      "4\n",
      "2.228095580514e-312\n",
      "10\n",
      "2.228095580514e-312\n",
      "20\n",
      "2.228095580514e-312\n",
      "35\n",
      "2.228095580514e-312\n"
     ]
    },
    {
     "data": {
      "text/plain": [
       "array([[4.79060619e-310, 0.00000000e+000],\n",
       "       [3.50000000e+001, 1.05000000e+002],\n",
       "       [2.22809558e-312, 4.12213989e-061],\n",
       "       [2.14538258e+184, 5.40177245e-066],\n",
       "       [1.77496076e+160, 3.31635525e-033],\n",
       "       [5.55266897e+170, 8.38848054e+165]])"
      ]
     },
     "execution_count": 49,
     "metadata": {},
     "output_type": "execute_result"
    }
   ],
   "source": [
    "nbfaces=6\n",
    "import pandas as pd\n",
    "import numpy as np\n",
    "df=pd.DataFrame()\n",
    "\n",
    "\n",
    "def incr3(nbface):\n",
    "    a=0\n",
    "    for i in range(1,nbface+1):\n",
    "        for j in range(i,nbface+1):\n",
    "            for k in range(j,nbface+1):\n",
    "                a=a+1\n",
    "    return a\n",
    "\n",
    "\n",
    "def incr4(nbface):\n",
    "    a=0\n",
    "    for i in range(1,nbface+1):\n",
    "        for j in range(i,nbface+1):\n",
    "            for k in range(j,nbface+1):\n",
    "                for l in range(j,nbface+1):\n",
    "##                    print(i,j,k,l)\n",
    "                    a=a+1\n",
    "    return a\n",
    "                \n",
    "ar=np.empty((nbfaces,2))\n",
    "print(ar.shape)\n",
    "\n",
    "for b in range(1,nbfaces):\n",
    "    print(incr3(b))\n",
    "    ar[nbface-2,0]=incr3(b)\n",
    "    print(ar[nbface-1,0])\n",
    "    ar[nbface-2,1]=incr4(b)\n",
    "\n",
    "ar\n"
   ]
  },
  {
   "cell_type": "code",
   "execution_count": 1,
   "id": "c89be2e6-227a-49d2-bcfe-375d158a415f",
   "metadata": {},
   "outputs": [
    {
     "name": "stdout",
     "output_type": "stream",
     "text": [
      "[5.14682566e-310 0.00000000e+000 2.14321575e-312 2.22809558e-312\n",
      " 2.46151512e-312 5.68175493e-322 3.16202013e-322]\n",
      "4 dés à 3 faces\n",
      "         0\n",
      "1         \n",
      "4.0    1.0\n",
      "5.0    4.0\n",
      "6.0   10.0\n",
      "7.0   16.0\n",
      "8.0   19.0\n",
      "9.0   16.0\n",
      "10.0  10.0\n",
      "11.0   4.0\n",
      "12.0   1.0\n",
      "-----------\n",
      "4 dés à 4 faces\n",
      "         0\n",
      "1         \n",
      "4.0    1.0\n",
      "5.0    4.0\n",
      "6.0   10.0\n",
      "7.0   20.0\n",
      "8.0   31.0\n",
      "9.0   40.0\n",
      "10.0  44.0\n",
      "11.0  40.0\n",
      "12.0  31.0\n",
      "13.0  20.0\n",
      "14.0  10.0\n",
      "15.0   4.0\n",
      "16.0   1.0\n",
      "-----------\n",
      "4 dés à 5 faces\n",
      "         0\n",
      "1         \n",
      "4.0    1.0\n",
      "5.0    4.0\n",
      "6.0   10.0\n",
      "7.0   20.0\n",
      "8.0   35.0\n",
      "9.0   52.0\n",
      "10.0  68.0\n",
      "11.0  80.0\n",
      "12.0  85.0\n",
      "13.0  80.0\n",
      "14.0  68.0\n",
      "15.0  52.0\n",
      "16.0  35.0\n",
      "17.0  20.0\n",
      "18.0  10.0\n",
      "19.0   4.0\n",
      "20.0   1.0\n",
      "-----------\n",
      "4 dés à 6 faces\n",
      "          0\n",
      "1          \n",
      "4.0     1.0\n",
      "5.0     4.0\n",
      "6.0    10.0\n",
      "7.0    20.0\n",
      "8.0    35.0\n",
      "9.0    56.0\n",
      "10.0   80.0\n",
      "11.0  104.0\n",
      "12.0  125.0\n",
      "13.0  140.0\n",
      "14.0  146.0\n",
      "15.0  140.0\n",
      "16.0  125.0\n",
      "17.0  104.0\n",
      "18.0   80.0\n",
      "19.0   56.0\n",
      "20.0   35.0\n",
      "21.0   20.0\n",
      "22.0   10.0\n",
      "23.0    4.0\n",
      "24.0    1.0\n",
      "-----------\n",
      "1.0\n",
      "1.0\n",
      "1.0\n"
     ]
    },
    {
     "data": {
      "image/png": "[encoded data removed]",
      "text/plain": [
       "<Figure size 640x480 with 1 Axes>"
      ]
     },
     "metadata": {},
     "output_type": "display_data"
    }
   ],
   "source": [
    "import numpy as np\n",
    "import pandas as pd\n",
    "import math\n",
    "import matplotlib.pyplot as plt\n",
    "lsgen=[]\n",
    "\n",
    "shift=0\n",
    "maxfacedes=7+shift\n",
    "minfacedes=3+shift\n",
    "nbdes=4\n",
    "\n",
    "#Fonction recursive qui génère le nombe de combinaison possible en iterant\n",
    "# sur, pour 3 dé a trois face\n",
    "# 111,112,113,122,123,133,222,223,233,333\n",
    "# Puis le nombre de permutation est calculé\n",
    "# \n",
    "chaine=np.empty((nbdes+3))\n",
    "print(chaine)\n",
    "def gen(nbface,depth,start,chaine):   \n",
    "    chaine[depth]=start\n",
    "    if(depth>0):\n",
    "        for i in range(start,nbface+1):\n",
    "            gen(nbface,depth-1,i,chaine)\n",
    "    else:\n",
    "        chaine[nbdes:]=0\n",
    "        unique, counts = np.unique(chaine[:nbdes], return_counts=True)\n",
    "        # Nombre de permutations total\n",
    "        perms=math.factorial(nbdes)\n",
    "        # nombre de mermutation des nombre identiques\n",
    "        facts = np.array([math.factorial(xi) for xi in counts])\n",
    "        facts = np.prod(facts)\n",
    "        facts=perms/facts\n",
    "        chaine[nbdes+1]=facts\n",
    "        chaine[nbdes+2]=np.sum(chaine[:nbdes])\n",
    "        #print(chaine)\n",
    "        lsgen.append(chaine.copy())\n",
    "        \n",
    "\n",
    "\n",
    "diag=np.empty((maxfacedes,5))\n",
    "for nbface in range(minfacedes,maxfacedes):\n",
    "    print(nbdes,'dés à',nbface,'faces')\n",
    "    lsgen=[]\n",
    "    chaine=np.empty((nbdes+6))\n",
    "    gen(nbface,nbdes,1,chaine)\n",
    "    diag[nbface,0]=nbface\n",
    "    diag[nbface,1]=len(lsgen)\n",
    "    facescube=nbface*(nbface+1)*(nbface+2)*(nbface+3)/24\n",
    "    diag[nbface,2]=facescube\n",
    "    diag[nbface,3]=math.log(len(lsgen))\n",
    "    diag[nbface,4]=math.log(facescube)\n",
    "    lsgen=np.vstack(lsgen)\n",
    "    print(pd.DataFrame(lsgen[:,nbdes+1:nbdes+3]).groupby(1).sum())\n",
    "    print(\"-----------\")\n",
    "    \n",
    "diag   \n",
    "plt.plot(diag[minfacedes:,0],diag[minfacedes:,3])\n",
    "plt.plot(diag[minfacedes:,0],diag[minfacedes:,4]+.1)\n",
    "\n",
    "diag[:,1]\n",
    "\n",
    "diff=diag[maxfacedes-3,3]-diag[maxfacedes-3,4]\n",
    "print(math.exp(diff))\n",
    "diff=diag[maxfacedes-2,3]-diag[maxfacedes-2,4]\n",
    "print(math.exp(diff))\n",
    "diff=diag[maxfacedes-1,3]-diag[maxfacedes-1,4]\n",
    "print(math.exp(diff))\n",
    "\n",
    "\n"
   ]
  },
  {
   "cell_type": "code",
   "execution_count": 2,
   "id": "4b63a984-a5ed-4dfb-b240-d08104345199",
   "metadata": {},
   "outputs": [
    {
     "name": "stdout",
     "output_type": "stream",
     "text": [
      "20 dés à 6 faces\n"
     ]
    }
   ],
   "source": [
    "nbdes=20\n",
    "nbface=6\n",
    "print(nbdes,'dés à',nbface,'faces')\n",
    "lsgen=[]\n",
    "chaine=np.empty((nbdes+6))\n",
    "gen(nbface,nbdes,1,chaine)\n",
    "lsgen=np.vstack(lsgen)\n",
    "cloche=pd.DataFrame(lsgen[:,nbdes+1:nbdes+3]).groupby(1).sum()\n"
   ]
  },
  {
   "cell_type": "code",
   "execution_count": 10,
   "id": "ec120c5d-e8f1-4bf8-bbd7-108bcdab166a",
   "metadata": {},
   "outputs": [
    {
     "name": "stdout",
     "output_type": "stream",
     "text": [
      "0    1.894570e+14\n",
      "dtype: float64\n"
     ]
    },
    {
     "data": {
      "text/plain": [
       "0.052233805653081805"
      ]
     },
     "execution_count": 10,
     "metadata": {},
     "output_type": "execute_result"
    },
    {
     "data": {
      "image/png": "[encoded data removed]",
      "text/plain": [
       "<Figure size 640x480 with 1 Axes>"
      ]
     },
     "metadata": {},
     "output_type": "display_data"
    }
   ],
   "source": [
    "\n",
    "from scipy.stats import norm\n",
    "import matplotlib.pyplot as plt\n",
    "import numpy as np \n",
    "\n",
    "variancede=statistics.pvariance([1,2,3,4,5,6])\n",
    "#initialize a normal distribution with frozen in mean=-1, std. dev.= 1\n",
    "rv = norm(loc = 70, scale = math.sqrt(variancede*20))\n",
    "\n",
    "x = np.arange(20, 120, 1)\n",
    "\n",
    "#plot the pdfs of these normal distributions \n",
    "cloche.plot()\n",
    "plt.plot(x, rv.pdf(x)/rv.pdf(70)*cloche[0].max())\n",
    "plt.show()\n",
    "import statistics\n",
    "\n",
    "print(cloche.max())\n",
    "rv.pdf(70)\n",
    "\n"
   ]
  },
  {
   "cell_type": "code",
   "execution_count": 18,
   "id": "18737703-5b50-4f07-9c85-454b19e9bdea",
   "metadata": {},
   "outputs": [
    {
     "data": {
      "text/plain": [
       "[<matplotlib.lines.Line2D at 0x7d289d755310>]"
      ]
     },
     "execution_count": 18,
     "metadata": {},
     "output_type": "execute_result"
    },
    {
     "data": {
      "image/png": "[encoded data removed]",
      "text/plain": [
       "<Figure size 640x480 with 1 Axes>"
      ]
     },
     "metadata": {},
     "output_type": "display_data"
    }
   ],
   "source": [
    "rv = norm(loc = 70, scale = math.sqrt(variancede*20))\n",
    "\n",
    "x = np.arange(74, 78, 1)\n",
    "\n",
    "#plot the pdfs of these normal distributions \n",
    "\n",
    "plt.plot(x, rv.cdf(x))\n",
    "plt.plot([min(x),max(x)], [.8,.80])\n"
   ]
  },
  {
   "cell_type": "code",
   "execution_count": 18,
   "id": "6c36fb61-165a-4366-a65c-7c4969671b57",
   "metadata": {},
   "outputs": [
    {
     "name": "stdout",
     "output_type": "stream",
     "text": [
      "3.5\n",
      "5.5\n",
      "86.0\n"
     ]
    },
    {
     "data": {
      "image/png": "[encoded data removed]",
      "text/plain": [
       "<Figure size 640x480 with 1 Axes>"
      ]
     },
     "metadata": {},
     "output_type": "display_data"
    }
   ],
   "source": [
    "import matplotlib.pyplot as plt\n",
    "import numpy as np \n",
    "from scipy.stats import norm\n",
    "\n",
    "import math\n",
    "# Test de la loi nomale sur 12 dés à 6 faces et  8 dés a 10 face\n",
    "import statistics as stats\n",
    "de6=[1,2,3,4,5,6]\n",
    "de10=[1,2,3,4,5,6,7,8,9,10]\n",
    "moy6=stats.mean(de6)\n",
    "var6=stats.pvariance(de6)\n",
    "print(moy6)\n",
    "moy10=stats.mean(de10)\n",
    "var10=stats.pvariance(de10)\n",
    "print(moy10)\n",
    "\n",
    "vartot=(var6*12+var10*8)/20\n",
    "moytot=(moy6*12+moy10*8)\n",
    "\n",
    "rv = norm(loc = moytot, scale = math.sqrt(vartot))\n",
    "\n",
    "x = np.arange(60, 100, 1)\n",
    "\n",
    "#plot the pdfs of these normal distributions \n",
    "\n",
    "plt.plot(x, rv.cdf(x))\n",
    "plt.plot([min(x),max(x)], [.5,.50])\n",
    "print (moytot)"
   ]
  },
  {
   "cell_type": "code",
   "execution_count": 32,
   "id": "3fc04a2a-e8d9-4909-9bb0-20b5b98eba70",
   "metadata": {},
   "outputs": [
    {
     "data": {
      "text/plain": [
       "0.198505"
      ]
     },
     "execution_count": 32,
     "metadata": {},
     "output_type": "execute_result"
    }
   ],
   "source": [
    "import random\n",
    "somme=0\n",
    "nbtirage=200000\n",
    "for i in range(nbtirage):\n",
    "    a=0\n",
    "    for j in range(20):\n",
    "        a=a+random.randint(1,6)\n",
    "    if a>76:\n",
    "        somme=somme+1\n",
    "\n",
    "somme/nbtirage\n",
    "        "
   ]
  },
  {
   "cell_type": "code",
   "execution_count": 107,
   "id": "dd64c7b6-b05d-4638-b805-34bd23993a10",
   "metadata": {},
   "outputs": [
    {
     "name": "stdout",
     "output_type": "stream",
     "text": [
      "1111\n",
      "11111\n",
      "11112\n",
      "11122\n",
      "11222\n",
      "5\n",
      "1.6094379124341003\n",
      "1111\n",
      "11111\n",
      "111111\n",
      "11112\n",
      "111122\n",
      "111113\n",
      "11122\n",
      "111222\n",
      "111223\n",
      "111133\n",
      "11222\n",
      "112222\n",
      "112223\n",
      "112233\n",
      "111333\n",
      "15\n",
      "2.70805020110221\n",
      "1111\n",
      "11111\n",
      "111111\n",
      "1111111\n",
      "11112\n",
      "111122\n",
      "1111222\n",
      "111113\n",
      "1111133\n",
      "1111114\n",
      "11122\n",
      "111222\n",
      "1112222\n",
      "111223\n",
      "1112233\n",
      "1112224\n",
      "111133\n",
      "1111333\n",
      "1111334\n",
      "1111144\n",
      "11222\n",
      "112222\n",
      "1122222\n",
      "112223\n",
      "1122233\n",
      "1122224\n",
      "112233\n",
      "1122333\n",
      "1122334\n",
      "1122244\n",
      "111333\n",
      "1113333\n",
      "1113334\n",
      "1113344\n",
      "1111444\n",
      "35\n",
      "3.5553480614894135\n"
     ]
    }
   ],
   "source": [
    "import math\n",
    "import matplotlib.pyplot as plt\n",
    "\n",
    "def gen(nbface,depth,start,chaine):   \n",
    "    chaine=chaine+str(start)\n",
    "    if(depth>0):\n",
    "        for i in range(start,nbface+1):\n",
    "            \n",
    "            gen(nbface,depth-1,i,chaine)\n",
    "    else:\n",
    "        chaine=chaine[1:]\n",
    "        lsgen.append(chaine)\n",
    "        print(chaine)\n",
    "\n",
    "logs=[]\n",
    "for nbface in range(2,5):\n",
    "    lsgen=[]\n",
    "    gen(nbface,4,1,'')\n",
    "    print(len(lsgen))\n",
    "    print(math.log(len(lsgen)))\n",
    "    logs.append(math.log(len(lsgen)))\n",
    "\n",
    "##plt.bar(range(0,len(logs)),logs)\n"
   ]
  },
  {
   "cell_type": "code",
   "execution_count": 100,
   "id": "d5030900-72b3-48d2-9a62-56a093a17a94",
   "metadata": {},
   "outputs": [
    {
     "name": "stdout",
     "output_type": "stream",
     "text": [
      "1111\n",
      "1112\n",
      "1122\n",
      "1222\n",
      "2222\n",
      "5\n",
      "1.6094379124341003\n",
      "1111\n",
      "1112\n",
      "1113\n",
      "1122\n",
      "1123\n",
      "1133\n",
      "1222\n",
      "1223\n",
      "1233\n",
      "1333\n",
      "2222\n",
      "2223\n",
      "2233\n",
      "2333\n",
      "3333\n",
      "15\n",
      "2.70805020110221\n",
      "1111\n",
      "1112\n",
      "1113\n",
      "1114\n",
      "1122\n",
      "1123\n",
      "1124\n",
      "1133\n",
      "1134\n",
      "1144\n",
      "1222\n",
      "1223\n",
      "1224\n",
      "1233\n",
      "1234\n",
      "1244\n",
      "1333\n",
      "1334\n",
      "1344\n",
      "1444\n",
      "2222\n",
      "2223\n",
      "2224\n",
      "2233\n",
      "2234\n",
      "2244\n",
      "2333\n",
      "2334\n",
      "2344\n",
      "2444\n",
      "3333\n",
      "3334\n",
      "3344\n",
      "3444\n",
      "4444\n",
      "35\n",
      "3.5553480614894135\n"
     ]
    },
    {
     "data": {
      "text/plain": [
       "<BarContainer object of 3 artists>"
      ]
     },
     "execution_count": 100,
     "metadata": {},
     "output_type": "execute_result"
    },
    {
     "data": {
      "image/png": "[encoded data removed]",
      "text/plain": [
       "<Figure size 640x480 with 1 Axes>"
      ]
     },
     "metadata": {},
     "output_type": "display_data"
    }
   ],
   "source": [
    "import math\n",
    "import matplotlib.pyplot as plt\n",
    "def gen(nbface,depth,start,chaine):   \n",
    "    chaine=chaine+str(start)\n",
    "    if(depth>0):\n",
    "        for i in range(start,nbface+1):\n",
    "            gen(nbface,depth-1,i,chaine)\n",
    "    else:\n",
    "        chaine=chaine[1:]\n",
    "        lsgen.append(chaine)\n",
    "        print(chaine)\n",
    "\n",
    "logs=[]\n",
    "for nbface in range(2,5):\n",
    "    lsgen=[]\n",
    "    gen(nbface,4,1,'')\n",
    "    print(len(lsgen))\n",
    "    print(math.log(len(lsgen)))\n",
    "    logs.append(math.log(len(lsgen)))\n",
    "\n",
    "plt.bar(range(0,len(logs)),logs)\n",
    "\n"
   ]
  }
 ],
 "metadata": {
  "kernelspec": {
   "display_name": "Python 3 (ipykernel)",
   "language": "python",
   "name": "python3"
  },
  "language_info": {
   "codemirror_mode": {
    "name": "ipython",
    "version": 3
   },
   "file_extension": ".py",
   "mimetype": "text/x-python",
   "name": "python",
   "nbconvert_exporter": "python",
   "pygments_lexer": "ipython3",
   "version": "3.11.6"
  }
 },
 "nbformat": 4,
 "nbformat_minor": 5
}
