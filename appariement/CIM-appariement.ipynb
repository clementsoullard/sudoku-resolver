{
 "cells": [
  {
   "cell_type": "code",
   "execution_count": 1,
   "id": "e170f231-319f-4f29-bd06-fb39de566fc0",
   "metadata": {
    "editable": true,
    "slideshow": {
     "slide_type": ""
    },
    "tags": []
   },
   "outputs": [
    {
     "name": "stderr",
     "output_type": "stream",
     "text": [
      "/tmp/ipykernel_1814/2677971196.py:5: DeprecationWarning: Importing display from IPython.core.display is deprecated since IPython 7.14, please import from IPython display\n",
      "  from IPython.core.display import display, HTML\n"
     ]
    }
   ],
   "source": [
    "import pandas as pd\n",
    "import numpy as np\n",
    "import re\n",
    "# loading the sources files\n",
    "from IPython.core.display import display, HTML\n",
    "tp=pd.read_csv(\"20231211-Filtered-TPs.csv\")\n",
    "cim=pd.read_csv(\"20231130-CIM-report.csv\")\n",
    "sp1=pd.read_csv(\"20231211-SP1.csv\")\n",
    "#For future reference\n",
    "leninitp=len(tp)\n",
    "leninicim=len(cim)\n",
    "leninisp1=len(sp1)\n",
    "\n"
   ]
  },
  {
   "cell_type": "code",
   "execution_count": 2,
   "id": "5744df88-7c8d-43ad-9f74-01473acb920e",
   "metadata": {},
   "outputs": [
    {
     "data": {
      "text/html": [
       "<h1>Stats</h1>"
      ],
      "text/plain": [
       "<IPython.core.display.HTML object>"
      ]
     },
     "metadata": {},
     "output_type": "display_data"
    },
    {
     "data": {
      "text/html": [
       "<b>Third parties in licenses # : </b>8614"
      ],
      "text/plain": [
       "<IPython.core.display.HTML object>"
      ]
     },
     "metadata": {},
     "output_type": "display_data"
    },
    {
     "data": {
      "text/html": [
       "<b>Supplier in CIM # : </b>1885"
      ],
      "text/plain": [
       "<IPython.core.display.HTML object>"
      ]
     },
     "metadata": {},
     "output_type": "display_data"
    },
    {
     "data": {
      "text/html": [
       "<b>Supplier in SP1 # : </b>49051"
      ],
      "text/plain": [
       "<IPython.core.display.HTML object>"
      ]
     },
     "metadata": {},
     "output_type": "display_data"
    }
   ],
   "source": [
    "#Read third party, filter on AC division\n",
    "tp.columns\n",
    "tp.head()\n",
    "tp[['TDPARTY_NAME','TDPARTY_ADDRESS','TDPARTY_POSTAL_CODE',\"TDPARTY_CITY\",\"TDPARTY_COUNTRY\", 'TDPARTY_PROGRAM']]\n",
    "# Filtrage uniquement sur les third party AC\n",
    "display(HTML('<h1>Stats</h1>'))\n",
    "display(HTML('<b>Third parties in licenses # : </b>'+str(leninitp)))\n",
    "display(HTML('<b>Supplier in CIM # : </b>'+str(leninicim)))\n",
    "display(HTML('<b>Supplier in SP1 # : </b>'+str(leninisp1)))\n"
   ]
  },
  {
   "cell_type": "code",
   "execution_count": 3,
   "id": "bc94aa6b-df2c-49c0-a784-d490ec2acf24",
   "metadata": {},
   "outputs": [
    {
     "name": "stderr",
     "output_type": "stream",
     "text": [
      "/tmp/ipykernel_1814/1498682475.py:8: SettingWithCopyWarning: \n",
      "A value is trying to be set on a copy of a slice from a DataFrame.\n",
      "Try using .loc[row_indexer,col_indexer] = value instead\n",
      "\n",
      "See the caveats in the documentation: https://pandas.pydata.org/pandas-docs/stable/user_guide/indexing.html#returning-a-view-versus-a-copy\n",
      "  replacements.originalcountry=replacements.originalcountry\n",
      "/tmp/ipykernel_1814/1498682475.py:9: SettingWithCopyWarning: \n",
      "A value is trying to be set on a copy of a slice from a DataFrame.\n",
      "Try using .loc[row_indexer,col_indexer] = value instead\n",
      "\n",
      "See the caveats in the documentation: https://pandas.pydata.org/pandas-docs/stable/user_guide/indexing.html#returning-a-view-versus-a-copy\n",
      "  replacements.tobename=\" \"+replacements.tobename\n"
     ]
    }
   ],
   "source": [
    "# The country file is used to provide a mapping to all country representation (language and typo). \n",
    "countries=pd.read_csv(\"countries.csv\",index_col=0)\n",
    "# Select the countries when there is a need to substitute\n",
    "replacements=countries[countries.originalcountry!=countries.tobename]\n",
    "# Convert the mapping adding some pattern to avoid unwanted replacement \n",
    "# (To avoid Airbus is replaced by Airbus Airbusa because us represent the coutry usa)\n",
    "#replacements.originalcountry=\"[\\\\s^]\"+replacements.originalcountry+\"[\\\\s$]\"\n",
    "replacements.originalcountry=replacements.originalcountry\n",
    "replacements.tobename=\" \"+replacements.tobename\n",
    "# Replacement of countries to unifed representation (independant from tongue and typo)\n",
    "replacements=replacements.set_index('originalcountry')\n",
    "replacements.tobename=replacements.tobename.replace(\"\\s\",\"\",regex=True)\n",
    "# Converting to dict\n",
    "replacements=replacements.tobename.to_dict()\n",
    "\n",
    "# Create a single pattern doing all replacement to apply once on every line (for efficency)\n",
    "rep = dict((re.escape(k), v) for k, v in replacements.items()) \n",
    "pattern = re.compile(\"|\".join(rep.keys()))\n"
   ]
  },
  {
   "cell_type": "raw",
   "id": "463dd7ba-f4fc-412b-a970-900f54f13460",
   "metadata": {},
   "source": [
    "# Scratchpad\n",
    "tp=pd.read_csv(\"20231211-Filtered-TPs.csv\")\n",
    "tp[\"NameCleansed\"]=tp.TDPARTY_NAME.str.lower()\n",
    "tp[\"CountryCleansed\"]=tp.TDPARTY_COUNTRY.str.lower()\n",
    "tp[\"usablename\"]=True\n",
    "#tp=deduceContryFromNameInformation(tp,\"sas\",\"france\")\n",
    "tp=deduceContryFromNameInformation(tp,\"s\\.a\\.s\",\"france\")\n",
    "tp[tp.NameCleansed.str.contains(\"s.a.s\")]\n",
    "tp.loc[176]"
   ]
  },
  {
   "cell_type": "code",
   "execution_count": 4,
   "id": "7095222b-f352-4766-a091-ec1690be752d",
   "metadata": {},
   "outputs": [],
   "source": [
    "# This set the country in case where the county information is provided in the name of the thrid party\n",
    "def deduceContryFromNameInformation(df,acronym,country):\n",
    "    df.CountryCleansed=df.CountryCleansed.mask((df.CountryCleansed.isna()) & (df.NameCleansed.str.contains( \"\\\\s\"+acronym+\"[\\s]*\")),country)\n",
    "    df.NameCleansed=df.NameCleansed.str.replace(\"\\\\s\"+acronym+\"[\\\\s]*\",\"\",regex=True)\n",
    "    return df\n",
    "    \n",
    "def removeFromName(df,toremove):\n",
    "    df.NameCleansed=df.NameCleansed.str.replace(\"\\\\s\"+toremove+\"[\\\\s]*\",\"\",regex=True)\n",
    "    return df\n",
    "\n",
    "# Function to clean the name of the commany and creating a column for representation of name + country\n",
    "def cleanCountryAndName(df):\n",
    "    dftoreplace=df\n",
    "    dftoreplace=deduceContryFromNameInformation(dftoreplace,\"sas\",\"france\")\n",
    "    dftoreplace=deduceContryFromNameInformation(dftoreplace,\"s\\.a\\.s\",\"france\")\n",
    "    dftoreplace=deduceContryFromNameInformation(dftoreplace,\"france\",\"france\")\n",
    "    dftoreplace=deduceContryFromNameInformation(dftoreplace,\"french\",\"france\")\n",
    "    dftoreplace=deduceContryFromNameInformation(dftoreplace,\"ltd\",\"united kingdom\")\n",
    "    dftoreplace=deduceContryFromNameInformation(dftoreplace,\"united kingdom\",\"united kingdom\")\n",
    "    dftoreplace=deduceContryFromNameInformation(dftoreplace, \"s\\.l\",\"spain\")\n",
    "    dftoreplace=deduceContryFromNameInformation(dftoreplace,\"s\\.l\\.\",\"spain\")\n",
    "    dftoreplace=deduceContryFromNameInformation(dftoreplace, \"slu\",\"spain\")\n",
    "    dftoreplace=deduceContryFromNameInformation(dftoreplace,\"spanish\",\"spain\")\n",
    "    dftoreplace=deduceContryFromNameInformation(dftoreplace,\"turkish*\",\"turkey\")\n",
    "    dftoreplace=deduceContryFromNameInformation(dftoreplace,\"german*\",\"germany\")\n",
    "    dftoreplace=deduceContryFromNameInformation(dftoreplace,\"gmbh*\",\"germany\")\n",
    "    dftoreplace=deduceContryFromNameInformation(dftoreplace,\"deutschland*\",\"germany\")\n",
    "    dftoreplace=deduceContryFromNameInformation(dftoreplace, \"germany*\",\"germany\")\n",
    "    dftoreplace=deduceContryFromNameInformation(dftoreplace,\"belgium*\",\"belgium\")\n",
    "    dftoreplace=deduceContryFromNameInformation(dftoreplace,\"belgian\",\"belgium\")\n",
    "    dftoreplace=deduceContryFromNameInformation(dftoreplace, \"luxembourg\",\"luxembourg\")\n",
    "\n",
    "    \n",
    "    \n",
    "    dftoreplace.CountryCleansed=dftoreplace.CountryCleansed.mask((dftoreplace.CountryCleansed.isna()) & (dftoreplace.NameCleansed.str.contains( \"\\\\ssud ouest[\\s]*\")),\"france\")\n",
    "    dftoreplace.CountryCleansed=dftoreplace.CountryCleansed.mask((dftoreplace.CountryCleansed.isna()) & (dftoreplace.NameCleansed.str.contains( \"\\\\ssud-ouest[\\s]*\")),\"france\")    \n",
    "    dftoreplace.CountryCleansed=dftoreplace.CountryCleansed.mask((dftoreplace.CountryCleansed.isna()) & (dftoreplace.NameCleansed.str.contains( \"[\\\\s]*toulouse[\\s]*\")),\"france\")\n",
    "    dftoreplace.CountryCleansed=dftoreplace.CountryCleansed.mask((dftoreplace.CountryCleansed.isna()) & (dftoreplace.NameCleansed.str.contains( \"\\\\ssl[\\s]*\")),\"spain\")\n",
    "    \n",
    "    #Remove unrelevant terms from company name \n",
    "    dftoreplace.NameCleansed=dftoreplace.NameCleansed.str.replace(\"\\\\sprivate[\\\\s]*\",\" \",regex=True)\n",
    "\n",
    "    for country in countries.originalcountry:\n",
    "        dftoreplace=removeFromName(dftoreplace,country)\n",
    "        \n",
    "    # Clean the country name use only english\"\n",
    "    dftoreplace[\"CountryCleansed\"].fillna(\"\",inplace=True)\n",
    "    dftoreplace[\"CountryCleansed\"]=dftoreplace[\"CountryCleansed\"].apply(lambda x:pattern.sub(lambda m: rep[re.escape(m.group(0))], x))\n",
    "    dftoreplace[\"CountryCleansed\"].replace(\" \",\"\",regex=True,inplace=True)\n",
    "    dftoreplace[\"CountryCleansed\"].replace(\"-\",\"\",regex=True,inplace=True)\n",
    "    dftoreplace[\"NameCountryCleansed\"]=dftoreplace.NameCleansed+ \" \" +dftoreplace[\"CountryCleansed\"]\n",
    "    return dftoreplace"
   ]
  },
  {
   "cell_type": "code",
   "execution_count": 5,
   "id": "0786db5c-8a54-4db2-8ad4-fcfe15872826",
   "metadata": {},
   "outputs": [
    {
     "data": {
      "text/plain": [
       "Index(['supp_no', 'supp_name', 'supp_address', 'supp_postal_code', 'supp_city',\n",
       "       'supp_country_code', 'supp_country_name_en', 'supp_cage_code',\n",
       "       'division', 'all_text'],\n",
       "      dtype='object')"
      ]
     },
     "execution_count": 5,
     "metadata": {},
     "output_type": "execute_result"
    }
   ],
   "source": [
    "sp1.columns\n"
   ]
  },
  {
   "cell_type": "code",
   "execution_count": 6,
   "id": "6dcd017e-67c0-465f-aa99-53c542d483ff",
   "metadata": {},
   "outputs": [
    {
     "name": "stdout",
     "output_type": "stream",
     "text": [
      "Tp with no name Empty DataFrame\n",
      "Columns: [FILENAME, LICENSE_NBR, TDPARTY_NAME, TDPARTY_ROLE, TDPARTY_COUNTRY, TDPARTY_ADDRESS, TDPARTY_ARP_ID, ARP_needreview, TDPARTY_FLAG, LICENSE_DIVISION, LICENSE_PROGRAM, TDPARTY_CITY, TDPARTY_POSTAL_CODE, TDPARTY_PROGRAM, indexcol]\n",
      "Index: []\n",
      "Tp with no country\n",
      "20                 ALTRAN Sud Ouest\n",
      "86                 ALTRAN Sud Ouest\n",
      "168                 FLIR System INC\n",
      "301           Airbus Operations SAS\n",
      "611                      Airbus SAS\n",
      "                   ...             \n",
      "8284                     AIRBUS SAS\n",
      "8451      AIRBUS DEFENSE & SPACE SA\n",
      "8534    AIRBUS DEFENCE AND SPACE SA\n",
      "8535    AIRBUS DEFENCE AND SPACE SA\n",
      "8582                     AIRBUS SAS\n",
      "Name: TDPARTY_NAME, Length: 106, dtype: object\n"
     ]
    },
    {
     "data": {
      "text/html": [
       "<b>Unique third party name #:</b>2133"
      ],
      "text/plain": [
       "<IPython.core.display.HTML object>"
      ]
     },
     "metadata": {},
     "output_type": "display_data"
    },
    {
     "data": {
      "text/html": [
       "<b>Removed third party after cleansing #:</b>0"
      ],
      "text/plain": [
       "<IPython.core.display.HTML object>"
      ]
     },
     "metadata": {},
     "output_type": "display_data"
    },
    {
     "data": {
      "text/plain": [
       "'airbus france'"
      ]
     },
     "execution_count": 6,
     "metadata": {},
     "output_type": "execute_result"
    }
   ],
   "source": [
    "# We create a cleansed name in the TP referential referential\n",
    "\n",
    "tp[\"indexcol\"]=tp.index\n",
    "#tp=tp[tp.LICENSE_DIVISION==\"AC\"]\n",
    "print(\"Tp with no name\",tp[tp.TDPARTY_NAME.isna()])\n",
    "print(\"Tp with no country\")\n",
    "print(tp[tp.TDPARTY_COUNTRY.isna()][\"TDPARTY_NAME\"])\n",
    "tp=tp[~tp.TDPARTY_NAME.isna()]\n",
    "#Filtrage sur la division\n",
    "tp.to_csv(\"tp-cleansed.csv\")\n",
    "tp[\"NameCleansed\"]=tp.TDPARTY_NAME.str.lower()\n",
    "tp[\"CountryCleansed\"]=tp.TDPARTY_COUNTRY.str.lower()\n",
    "tp[\"CleansedAddress\"]=tp['TDPARTY_ADDRESS'] +\" \" + tp['TDPARTY_POSTAL_CODE'] +\" \"+ tp['TDPARTY_CITY']\n",
    "tp[\"CleansedAddress\"]=tp[\"CleansedAddress\"].str.lower()\n",
    "tp[\"usablename\"]=True\n",
    "\n",
    "\n",
    "\n",
    "display(HTML('<b>Unique third party name #:</b>'+str(len(tp[\"NameCleansed\"].unique()))))\n",
    "lenfintp=len(tp)\n",
    "display(HTML('<b>Removed third party after cleansing #:</b>'+str(lenfintp-leninitp)))\n",
    "tp.head()\n",
    "\n",
    "\n",
    "tp=cleanCountryAndName(tp)\n",
    "\n",
    "tp.loc[tp.CountryCleansed.isna(),\"usablename\"]=False\n",
    "\n",
    "tp.NameCountryCleansed[611]\n"
   ]
  },
  {
   "cell_type": "code",
   "execution_count": 7,
   "id": "d4a3eb57-bbf3-47af-91ec-89e7bb885587",
   "metadata": {},
   "outputs": [
    {
     "name": "stdout",
     "output_type": "stream",
     "text": [
      "Nombre de supplier name dans cim 1809\n"
     ]
    },
    {
     "data": {
      "text/plain": [
       "0                         nortel networksy& co kg germany\n",
       "1                     nortel networky verwaltungs germany\n",
       "2       australian aerospace military maintenance pty ...\n",
       "3                        eurocopter international belgium\n",
       "4       acma, gesellschaft für flugzeuggestützte trage...\n",
       "                              ...                        \n",
       "1878    molim mobilien verwaltungsgesellschaft mbh & c...\n",
       "1879                         eads- cassidian hq g germany\n",
       "1880                          cassidian- hq unitedkingdom\n",
       "1881                                 cassidian- hq france\n",
       "1882           euro-art advanced radar technology germany\n",
       "Name: NameCountryCleansed, Length: 1883, dtype: object"
      ]
     },
     "execution_count": 7,
     "metadata": {},
     "output_type": "execute_result"
    }
   ],
   "source": [
    "# We create a cleansed name in the CIM referential\n",
    "cim.columns\n",
    "cim.head()\n",
    "cim[\"index\"]=cim.index\n",
    "cim[['Name','Country Name','Street',\"Zip code\",'City','Country (Address)']]\n",
    "cim=cim[~cim.Name.isna()]\n",
    "cim[\"NameCleansed\"]=cim.Name.str.lower()\n",
    "cim[\"CountryCleansed\"]=cim[\"Country Name\"].str.lower()\n",
    "cim[\"CleansedAddress\"]= cim['Street']+\" \" +  cim['Street (continued)']+\" \" + cim['Zip code']+\" \" + cim['City']\n",
    "cim[\"CleansedAddress\"]=cim[\"CleansedAddress\"].str.lower()\n",
    "cim=cleanCountryAndName(cim)\n",
    "\n",
    "print(\"Nombre de supplier name dans cim\",len(cim[\"NameCleansed\"].unique()))\n",
    "\n",
    "cim.NameCountryCleansed\n"
   ]
  },
  {
   "cell_type": "code",
   "execution_count": 8,
   "id": "43fda15d-ff00-476d-bddf-41c05b817787",
   "metadata": {},
   "outputs": [
    {
     "name": "stdout",
     "output_type": "stream",
     "text": [
      "Nombre de supplier name dans sp1 42930\n"
     ]
    },
    {
     "data": {
      "text/plain": [
       "0                        atis iberica derichebourg spain\n",
       "1                                             jvd france\n",
       "2                wolf gustav seil und drahtwerke germany\n",
       "3                                         caillau france\n",
       "4        gardner aerospace - derby limited unitedkingdom\n",
       "                              ...                       \n",
       "49046                aertec industrial engineering spain\n",
       "49047                  alestis tecnobahia montajes spain\n",
       "49048                     ultra precision sa switzerland\n",
       "49049                            drosg & co. switzerland\n",
       "49050                                     sapelem france\n",
       "Name: NameCountryCleansed, Length: 49051, dtype: object"
      ]
     },
     "execution_count": 8,
     "metadata": {},
     "output_type": "execute_result"
    }
   ],
   "source": [
    "#Nettoyage des supplier name\n",
    "sp1.columns\n",
    "sp1[\"index\"]=sp1.index\n",
    "sp1=sp1[~sp1.supp_name.isna()]\n",
    "\n",
    "sp1[\"NameCleansed\"]=sp1.supp_name.str.lower()\n",
    "sp1[\"CountryCleansed\"]=sp1.supp_country_name_en.str.lower()\n",
    "sp1[\"CleansedAddress\"]=sp1['supp_address']+\" \" + sp1['supp_postal_code']+\" \" + sp1['supp_city']\n",
    "sp1[\"CleansedAddress\"]=sp1[\"CleansedAddress\"].str.lower()\n",
    "print(\"Nombre de supplier name dans sp1\",len(sp1[\"NameCleansed\"].unique()))\n",
    "sp1=cleanCountryAndName(sp1)\n",
    "\n",
    "sp1.NameCountryCleansed"
   ]
  },
  {
   "cell_type": "code",
   "execution_count": 9,
   "id": "1cc86517-8cfe-48b6-81bc-4c280a1dd679",
   "metadata": {
    "scrolled": true
   },
   "outputs": [
    {
     "data": {
      "text/plain": [
       "0    nortel networksy& co kg germany\n",
       "0              entserv unitedkingdom\n",
       "0    atis iberica derichebourg spain\n",
       "Name: NameCountryCleansed, dtype: object"
      ]
     },
     "execution_count": 9,
     "metadata": {},
     "output_type": "execute_result"
    }
   ],
   "source": [
    "corpusname=pd.concat([cim.NameCountryCleansed,tp.NameCountryCleansed,sp1.NameCountryCleansed])\n",
    "corpusname[0]\n",
    "\n",
    "\n"
   ]
  },
  {
   "cell_type": "code",
   "execution_count": 10,
   "id": "5685b997-a51f-4a42-8626-b0147306f5a0",
   "metadata": {},
   "outputs": [],
   "source": [
    "#Based on the corpus of name we create a matrix of association\n",
    "from sklearn.feature_extraction.text import CountVectorizer\n",
    "import numpy as np\n",
    "\n",
    "vectorizer = CountVectorizer(strip_accents=\"ascii\")\n",
    "features = vectorizer.fit(corpusname)\n",
    "\n",
    "tpnamevect=vectorizer.transform(tp.NameCountryCleansed)\n",
    "cimnamevect=vectorizer.transform(cim.NameCountryCleansed)\n",
    "sp1namevect=vectorizer.transform(sp1.NameCountryCleansed)\n",
    "\n",
    "# Renormalize so that if country is present twice in name and in country, it is counted only once\n",
    "\n",
    "tpnamevect=(tpnamevect>0)*1\n",
    "cimnamevect=(cimnamevect>0)*1\n",
    "sp1namevect=(sp1namevect>0)*1\n",
    "\n"
   ]
  },
  {
   "cell_type": "code",
   "execution_count": 11,
   "id": "a0f8340c-03a2-45d4-a3ae-b8696d4df2d8",
   "metadata": {},
   "outputs": [
    {
     "data": {
      "text/plain": [
       "'capgemini india'"
      ]
     },
     "execution_count": 11,
     "metadata": {},
     "output_type": "execute_result"
    }
   ],
   "source": [
    "tp.NameCountryCleansed[14]"
   ]
  },
  {
   "cell_type": "code",
   "execution_count": 12,
   "id": "32f29525-e369-4c47-af92-72f87fd5ccb4",
   "metadata": {},
   "outputs": [],
   "source": [
    "# We compute a list giving if two name are similar\n",
    "from sklearn.metrics.pairwise import cosine_similarity\n",
    "\n",
    "\n",
    "similaritycim=cosine_similarity(tpnamevect,cimnamevect)\n",
    "similaritysp1=cosine_similarity(tpnamevect,sp1namevect)\n"
   ]
  },
  {
   "cell_type": "code",
   "execution_count": 13,
   "id": "6d2911e4-d830-48c0-9186-22f9e550fa9e",
   "metadata": {},
   "outputs": [
    {
     "data": {
      "image/png": "[encoded data removed]",
      "text/plain": [
       "<Figure size 640x480 with 1 Axes>"
      ]
     },
     "metadata": {},
     "output_type": "display_data"
    },
    {
     "data": {
      "image/png": "[encoded data removed]",
      "text/plain": [
       "<Figure size 640x480 with 1 Axes>"
      ]
     },
     "metadata": {},
     "output_type": "display_data"
    }
   ],
   "source": [
    "import matplotlib.pyplot as plt\n",
    "import numpy as np\n",
    "\n",
    "from matplotlib import colors\n",
    "from matplotlib.ticker import PercentFormatter\n",
    "\n",
    "counts, bins =np.histogram(similaritycim,range=[.6,1])\n",
    "plt.stairs(counts, bins)\n",
    "plt.title(\"CIM cosine distance distribution\")\n",
    "plt.show()\n",
    "\n",
    "counts, bins =np.histogram(similaritysp1,range=[.6,1])\n",
    "plt.stairs(counts, bins)\n",
    "plt.title(\"SP1 cosine distance distribution\")\n",
    "plt.show()\n",
    "#hist"
   ]
  },
  {
   "cell_type": "code",
   "execution_count": 14,
   "id": "30d3c8d2-fe5f-4ad2-9863-ed6f52f8d334",
   "metadata": {
    "editable": true,
    "slideshow": {
     "slide_type": ""
    },
    "tags": []
   },
   "outputs": [
    {
     "name": "stdout",
     "output_type": "stream",
     "text": [
      "Exploration de CIM\n",
      "Airbus\n",
      "Airbus Military France SAS\n",
      "----------\n",
      "===========\n",
      "Exploration de SP1\n",
      "esg elektroniksystem-und-logistik-gmbh germany\n",
      "ESG Elektroniksystem - und Logistik-GmbH\n",
      "----------\n"
     ]
    }
   ],
   "source": [
    "similarnamecim=np.where(similaritycim>.8)\n",
    "similarnamesp1=np.where(similaritysp1>.8)\n",
    "maxsimilarnamecim=np.argmax(similaritycim,axis=1)\n",
    "maxsimilarnamesp1=np.argmax(similaritysp1,axis=1)\n",
    "\n",
    "\n",
    "\n",
    "print(\"Exploration de CIM\")\n",
    "for i in range (1,2):\n",
    "#    print(tp.NameCountryCleansed.iloc[similarnamecim[0][i]])\n",
    "    print(tp.iloc[similarnamecim[0][i],2])\n",
    "#    print(cim.NameCountryCleansed.iloc[similarnamecim[1][i]])\n",
    "    print(cim.iloc[similarnamecim[1][i],3])\n",
    "    print(\"----------\")\n",
    "\n",
    "print(\"===========\")\n",
    "\n",
    "print(\"Exploration de SP1\")\n",
    "for i in range (1,2):\n",
    "    print(tp.NameCountryCleansed.iloc[similarnamesp1[0][i]])\n",
    "    print(sp1.iloc[similarnamesp1[1][i],1])\n",
    "    print(\"----------\")\n",
    "\n",
    "\n",
    "\n",
    "#from scipy import spatial\n",
    "#np.where((tpnamevect.getrow(14).toarray()>0))\n",
    "#cimnamevect.getrow(77).toarray()[0]\n",
    "\n",
    "##spatial.distance.cosine(cimnamevect.getrow(14).toarray()[0], tpnamevect.getrow(77).toarray()[0])\n",
    "\n",
    "#features.inverse_transform(tpnamevect.getrow(14))\n",
    "#features.inverse_transform(cimnamevect.getrow(77))\n",
    "#np.where(tpnamevect.getrow(14).toarray()>0)"
   ]
  },
  {
   "cell_type": "code",
   "execution_count": 15,
   "id": "0691341a-b9d1-4811-b4e9-633864eceb6e",
   "metadata": {},
   "outputs": [
    {
     "data": {
      "text/plain": [
       "supp_no                                                             C3002\n",
       "supp_name                        ESG Elektroniksystem - und Logistik-GmbH\n",
       "supp_address                                                          NaN\n",
       "supp_postal_code                                                      NaN\n",
       "supp_city                                                             NaN\n",
       "supp_country_code                                                      DE\n",
       "supp_country_name_en                                              Germany\n",
       "supp_cage_code                                                        NaN\n",
       "division                                                              ADS\n",
       "all_text                [ADS]; C3002; ESG Elektroniksystem - und Logis...\n",
       "index                                                               36150\n",
       "NameCleansed                     esg elektroniksystem - und logistik-gmbh\n",
       "CountryCleansed                                                   germany\n",
       "CleansedAddress                                                       NaN\n",
       "NameCountryCleansed      esg elektroniksystem - und logistik-gmbh germany\n",
       "Name: 36150, dtype: object"
      ]
     },
     "execution_count": 15,
     "metadata": {},
     "output_type": "execute_result"
    }
   ],
   "source": [
    "sp1.iloc[similarnamesp1[1][i],:]\n"
   ]
  },
  {
   "cell_type": "code",
   "execution_count": null,
   "id": "22c4c83f-5883-40da-86ae-1621d8b7d1da",
   "metadata": {},
   "outputs": [],
   "source": [
    "\n"
   ]
  },
  {
   "cell_type": "code",
   "execution_count": 16,
   "id": "b2147035-abc9-41af-9ffa-a07b440edec3",
   "metadata": {
    "editable": true,
    "slideshow": {
     "slide_type": ""
    },
    "tags": []
   },
   "outputs": [],
   "source": [
    "# Creates the proposal in CIM and SP1 correspondance\n",
    "tp[\"idcim\"]=\"\"\n",
    "tp[\"candidatscim\"]=\"\"\n",
    "tp[\"probacim\"]=\"\"\n",
    "tp[\"cleanednamecountrycim\"]=\"\"\n",
    "\n",
    "\n",
    "tp[\"idsp1\"]=\"\"\n",
    "tp[\"candidatssp1\"]=\"\"\n",
    "tp[\"probasp1\"]=\"\"\n",
    "tp[\"cleanednamecountrysp1\"]=\"\"\n",
    "\n",
    "indexcim=tp.columns.get_loc(\"idcim\")\n",
    "indexcandidatscim=tp.columns.get_loc(\"candidatscim\")\n",
    "indexprobacim=tp.columns.get_loc(\"probacim\")\n",
    "\n",
    "# Affectation des proposition suppérieure à 0.9\n",
    "for i in range(len(similarnamecim[0])):\n",
    "    tp.iloc[similarnamecim[0][i],indexcim]=tp.iloc[similarnamecim[0][i],indexcim]+str(similarnamecim[1][i])+\",\"\n",
    "    tp.iloc[similarnamecim[0][i],indexcandidatscim]=tp.iloc[similarnamecim[0][i],indexcandidatscim]+cim.iloc[similarnamecim[1][i],3].replace(\"[,\\n]\",\" \")+\",\"\n",
    "\n",
    "tp.head()\n",
    "tpblank=tp[tp.idcim==\"\"]\n",
    "for index, row in tpblank.iterrows():\n",
    "    idcim=maxsimilarnamecim[row.indexcol]\n",
    "    proba = similaritycim[row.indexcol,idcim]\n",
    "    if(proba>0.5):\n",
    "        tp.at[row.indexcol,\"idcim\"]=idcim\n",
    "        tp.at[row.indexcol,\"candidatscim\"]=cim.loc[idcim,\"Name\"]\n",
    "        tp.at[row.indexcol,\"cleanednamecountrycim\"]=cim.loc[idcim,\"NameCountryCleansed\"]\n",
    "        tp.at[row.indexcol,\"probacim\"]=similaritycim[row.indexcol,idcim]\n",
    "\n",
    "indexsp1=tp.columns.get_loc(\"idsp1\")\n",
    "indexcandidatssp1=tp.columns.get_loc(\"candidatssp1\")\n",
    "for i in range(len(similarnamesp1[0])):\n",
    "    tp.iloc[similarnamesp1[0][i],indexsp1]=tp.iloc[similarnamesp1[0][i],indexsp1]+str(similarnamesp1[1][i])+\",\"\n",
    "    tp.iloc[similarnamesp1[0][i],indexcandidatssp1]=tp.iloc[similarnamesp1[0][i],indexcandidatssp1]+sp1.iloc[similarnamesp1[1][i],1].replace(\"[,\\n]\",\" \")+\",\"\n",
    "\n",
    "tpblank=tp[tp.idsp1==\"\"]\n",
    "for index, row in tpblank.iterrows():\n",
    "    idsp1=maxsimilarnamesp1[row.indexcol]\n",
    "    proba = similaritysp1[row.indexcol,idsp1]\n",
    "    if(proba>0.5):\n",
    "        tp.at[row.indexcol,\"idsp1\"]=idsp1\n",
    "        tp.at[row.indexcol,\"candidatssp1\"]=sp1.loc[idsp1,\"supp_name\"]\n",
    "        tp.at[row.indexcol,\"cleanednamecountrysp1\"]=sp1.loc[idsp1,\"NameCountryCleansed\"]\n",
    "        tp.at[row.indexcol,\"probasp1\"]=similaritysp1[row.indexcol,idsp1]\n",
    "\n",
    "tp.to_excel(\"ThirdParty-ProposedMatches.xlsx\",float_format=\"%.2f\")\n",
    "suppliersansrefdanscim=tp[tp.idcim==\"\"]\n",
    "suppliersansrefdanscim=suppliersansrefdanscim[~suppliersansrefdanscim.NameCleansed.str.contains(\"armee\")]\n",
    "suppliersansrefdanscim=suppliersansrefdanscim[~suppliersansrefdanscim.NameCleansed.str.contains(\"armée\")]\n",
    "suppliersansrefdanscim=suppliersansrefdanscim[~suppliersansrefdanscim.NameCleansed.str.contains(\"army\")]\n",
    "suppliersansrefdanscim.TDPARTY_NAME.to_csv(\"suppliersansrefdanscim.csv\")\n",
    "\n"
   ]
  },
  {
   "cell_type": "code",
   "execution_count": 17,
   "id": "5b8268f9-75dc-476a-87cd-63f3d63a38ce",
   "metadata": {},
   "outputs": [
    {
     "data": {
      "text/html": [
       "<div>\n",
       "<style scoped>\n",
       "    .dataframe tbody tr th:only-of-type {\n",
       "        vertical-align: middle;\n",
       "    }\n",
       "\n",
       "    .dataframe tbody tr th {\n",
       "        vertical-align: top;\n",
       "    }\n",
       "\n",
       "    .dataframe thead th {\n",
       "        text-align: right;\n",
       "    }\n",
       "</style>\n",
       "<table border=\"1\" class=\"dataframe\">\n",
       "  <thead>\n",
       "    <tr style=\"text-align: right;\">\n",
       "      <th></th>\n",
       "      <th>NameCountryCleansed</th>\n",
       "      <th>cleanednamecountrysp1</th>\n",
       "      <th>probasp1</th>\n",
       "      <th>cleanednamecountrycim</th>\n",
       "      <th>probacim</th>\n",
       "    </tr>\n",
       "  </thead>\n",
       "  <tbody>\n",
       "    <tr>\n",
       "      <th>40</th>\n",
       "      <td>airbus defence and space limited unitedkingdom</td>\n",
       "      <td></td>\n",
       "      <td></td>\n",
       "      <td></td>\n",
       "      <td></td>\n",
       "    </tr>\n",
       "    <tr>\n",
       "      <th>41</th>\n",
       "      <td>alten technology germany</td>\n",
       "      <td></td>\n",
       "      <td></td>\n",
       "      <td>security technology services germany</td>\n",
       "      <td>0.57735</td>\n",
       "    </tr>\n",
       "    <tr>\n",
       "      <th>42</th>\n",
       "      <td>kuehne + nagel (ag &amp; co.) kg germany</td>\n",
       "      <td></td>\n",
       "      <td></td>\n",
       "      <td>bilsoda&amp; co.kg germany</td>\n",
       "      <td>0.612372</td>\n",
       "    </tr>\n",
       "    <tr>\n",
       "      <th>43</th>\n",
       "      <td>altran&amp; co germany</td>\n",
       "      <td></td>\n",
       "      <td></td>\n",
       "      <td>bilsoda&amp; co.kg germany</td>\n",
       "      <td>0.57735</td>\n",
       "    </tr>\n",
       "    <tr>\n",
       "      <th>44</th>\n",
       "      <td>sopra sterialimited india</td>\n",
       "      <td></td>\n",
       "      <td></td>\n",
       "      <td></td>\n",
       "      <td></td>\n",
       "    </tr>\n",
       "    <tr>\n",
       "      <th>45</th>\n",
       "      <td>gouvernement pour forces armées et autres serv...</td>\n",
       "      <td></td>\n",
       "      <td></td>\n",
       "      <td></td>\n",
       "      <td></td>\n",
       "    </tr>\n",
       "    <tr>\n",
       "      <th>46</th>\n",
       "      <td>quantas defence services australia</td>\n",
       "      <td></td>\n",
       "      <td></td>\n",
       "      <td></td>\n",
       "      <td></td>\n",
       "    </tr>\n",
       "    <tr>\n",
       "      <th>47</th>\n",
       "      <td>gfi informatique sa france</td>\n",
       "      <td></td>\n",
       "      <td></td>\n",
       "      <td>promologis sa france</td>\n",
       "      <td>0.57735</td>\n",
       "    </tr>\n",
       "    <tr>\n",
       "      <th>48</th>\n",
       "      <td>accenture outsourcing service, s.a. spain</td>\n",
       "      <td>accenture,s.a. spain</td>\n",
       "      <td>0.707107</td>\n",
       "      <td></td>\n",
       "      <td></td>\n",
       "    </tr>\n",
       "    <tr>\n",
       "      <th>49</th>\n",
       "      <td>bull germany</td>\n",
       "      <td>. germany</td>\n",
       "      <td>0.707107</td>\n",
       "      <td></td>\n",
       "      <td></td>\n",
       "    </tr>\n",
       "  </tbody>\n",
       "</table>\n",
       "</div>"
      ],
      "text/plain": [
       "                                  NameCountryCleansed cleanednamecountrysp1  \\\n",
       "40     airbus defence and space limited unitedkingdom                         \n",
       "41                           alten technology germany                         \n",
       "42               kuehne + nagel (ag & co.) kg germany                         \n",
       "43                                 altran& co germany                         \n",
       "44                          sopra sterialimited india                         \n",
       "45  gouvernement pour forces armées et autres serv...                         \n",
       "46                 quantas defence services australia                         \n",
       "47                         gfi informatique sa france                         \n",
       "48          accenture outsourcing service, s.a. spain  accenture,s.a. spain   \n",
       "49                                       bull germany             . germany   \n",
       "\n",
       "    probasp1                 cleanednamecountrycim  probacim  \n",
       "40                                                            \n",
       "41            security technology services germany   0.57735  \n",
       "42                          bilsoda& co.kg germany  0.612372  \n",
       "43                          bilsoda& co.kg germany   0.57735  \n",
       "44                                                            \n",
       "45                                                            \n",
       "46                                                            \n",
       "47                            promologis sa france   0.57735  \n",
       "48  0.707107                                                  \n",
       "49  0.707107                                                  "
      ]
     },
     "execution_count": 17,
     "metadata": {},
     "output_type": "execute_result"
    }
   ],
   "source": [
    "tp[['NameCountryCleansed','cleanednamecountrysp1','probasp1','cleanednamecountrycim','probacim']][40:50]\n",
    "#.loc[26,'NameCountryCleansed']\n",
    "#tp[tp.CountryCleansed.str.contains(\"reich\")]"
   ]
  },
  {
   "cell_type": "code",
   "execution_count": 18,
   "id": "2322ea34-4b09-457b-b4b8-b015e09b6af4",
   "metadata": {},
   "outputs": [],
   "source": [
    "len(tp[tp.idcim==\"\"].TDPARTY_NAME.unique())\n",
    "pd.DataFrame(tp[tp.idcim==\"\"].TDPARTY_NAME.unique()).to_csv(\"Supplier-AC-not-found.csv\")"
   ]
  },
  {
   "cell_type": "code",
   "execution_count": 19,
   "id": "8503fda9-b6d5-448b-b0df-96919a1e3e17",
   "metadata": {},
   "outputs": [
    {
     "data": {
      "text/plain": [
       "<Axes: xlabel='TDPARTY_FLAG_Cleansed'>"
      ]
     },
     "execution_count": 19,
     "metadata": {},
     "output_type": "execute_result"
    },
    {
     "data": {
      "image/png": "[encoded data removed]",
      "text/plain": [
       "<Figure size 640x480 with 1 Axes>"
      ]
     },
     "metadata": {},
     "output_type": "display_data"
    }
   ],
   "source": [
    "tp[\"TDPARTY_FLAG_Cleansed\"]=tp.TDPARTY_FLAG.str.lower()\n",
    "a=tp[tp.idcim==\"\"].TDPARTY_FLAG_Cleansed.value_counts()\n",
    "b=tp.TDPARTY_FLAG_Cleansed.value_counts()\n",
    "m=b.to_frame().join(a.to_frame(),lsuffix='all')\n",
    "m[0:10].plot.bar()"
   ]
  },
  {
   "cell_type": "code",
   "execution_count": 23,
   "id": "bab6ea33-c0a7-4d67-b104-b9533d518746",
   "metadata": {},
   "outputs": [
    {
     "data": {
      "text/plain": [
       "0        royal pavilion wellesley road gu11 1pz aldershot\n",
       "1                      klarenstrecker damm 8  21684 stade\n",
       "2       408 avenue des etats-unis bp 52010 31016 toulouse\n",
       "3          livry-gargan-strasse 6 82256 fuerstenfeldbruck\n",
       "4       po box b75-08 - 2 rond point emile dewoitine 3...\n",
       "                              ...                        \n",
       "8609    samlesbury aerodrome bb2 7lf balderstone, blac...\n",
       "8610                           kreetslag 10 21129 hamburg\n",
       "8611                                                  NaN\n",
       "8612    unit 30, stakehill industrial park, finlan roa...\n",
       "8613                           kreetslag 10 31129 hamburg\n",
       "Name: CleansedAddress, Length: 8614, dtype: object"
      ]
     },
     "execution_count": 23,
     "metadata": {},
     "output_type": "execute_result"
    }
   ],
   "source": [
    "sp1[\"CleansedAddress\"]\n",
    "cim[\"CleansedAddress\"]\n",
    "tp[\"CleansedAddress\"]"
   ]
  }
 ],
 "metadata": {
  "kernelspec": {
   "display_name": "Python 3 (ipykernel)",
   "language": "python",
   "name": "python3"
  },
  "language_info": {
   "codemirror_mode": {
    "name": "ipython",
    "version": 3
   },
   "file_extension": ".py",
   "mimetype": "text/x-python",
   "name": "python",
   "nbconvert_exporter": "python",
   "pygments_lexer": "ipython3",
   "version": "3.11.6"
  }
 },
 "nbformat": 4,
 "nbformat_minor": 5
}
