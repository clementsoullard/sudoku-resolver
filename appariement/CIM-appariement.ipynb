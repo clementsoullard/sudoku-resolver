{
 "cells": [
  {
   "cell_type": "code",
   "execution_count": 1,
   "id": "e170f231-319f-4f29-bd06-fb39de566fc0",
   "metadata": {
    "editable": true,
    "slideshow": {
     "slide_type": ""
    },
    "tags": []
   },
   "outputs": [
    {
     "name": "stderr",
     "output_type": "stream",
     "text": [
      "/tmp/ipykernel_228/2677971196.py:5: DeprecationWarning: Importing display from IPython.core.display is deprecated since IPython 7.14, please import from IPython display\n",
      "  from IPython.core.display import display, HTML\n"
     ]
    }
   ],
   "source": [
    "import pandas as pd\n",
    "import numpy as np\n",
    "import re\n",
    "# loading the sources files\n",
    "from IPython.core.display import display, HTML\n",
    "tp=pd.read_csv(\"20231211-Filtered-TPs.csv\")\n",
    "cim=pd.read_csv(\"20231130-CIM-report.csv\")\n",
    "sp1=pd.read_csv(\"20231211-SP1.csv\")\n",
    "#For future reference\n",
    "leninitp=len(tp)\n",
    "leninicim=len(cim)\n",
    "leninisp1=len(sp1)\n",
    "\n"
   ]
  },
  {
   "cell_type": "code",
   "execution_count": 2,
   "id": "5744df88-7c8d-43ad-9f74-01473acb920e",
   "metadata": {},
   "outputs": [
    {
     "data": {
      "text/html": [
       "<h1>Stats</h1>"
      ],
      "text/plain": [
       "<IPython.core.display.HTML object>"
      ]
     },
     "metadata": {},
     "output_type": "display_data"
    },
    {
     "data": {
      "text/html": [
       "<b>Third parties in licenses # : </b>8614"
      ],
      "text/plain": [
       "<IPython.core.display.HTML object>"
      ]
     },
     "metadata": {},
     "output_type": "display_data"
    },
    {
     "data": {
      "text/html": [
       "<b>Supplier in CIM # : </b>1885"
      ],
      "text/plain": [
       "<IPython.core.display.HTML object>"
      ]
     },
     "metadata": {},
     "output_type": "display_data"
    },
    {
     "data": {
      "text/html": [
       "<b>Supplier in SP1 # : </b>49051"
      ],
      "text/plain": [
       "<IPython.core.display.HTML object>"
      ]
     },
     "metadata": {},
     "output_type": "display_data"
    }
   ],
   "source": [
    "#Read third party, filter on AC division\n",
    "tp.columns\n",
    "tp.head()\n",
    "tp[['TDPARTY_NAME','TDPARTY_ADDRESS','TDPARTY_POSTAL_CODE',\"TDPARTY_CITY\",\"TDPARTY_COUNTRY\", 'TDPARTY_PROGRAM']]\n",
    "# Filtrage uniquement sur les third party AC\n",
    "display(HTML('<h1>Stats</h1>'))\n",
    "display(HTML('<b>Third parties in licenses # : </b>'+str(leninitp)))\n",
    "display(HTML('<b>Supplier in CIM # : </b>'+str(leninicim)))\n",
    "display(HTML('<b>Supplier in SP1 # : </b>'+str(leninisp1)))\n"
   ]
  },
  {
   "cell_type": "code",
   "execution_count": 3,
   "id": "bc94aa6b-df2c-49c0-a784-d490ec2acf24",
   "metadata": {},
   "outputs": [
    {
     "name": "stderr",
     "output_type": "stream",
     "text": [
      "/tmp/ipykernel_228/1498682475.py:8: SettingWithCopyWarning: \n",
      "A value is trying to be set on a copy of a slice from a DataFrame.\n",
      "Try using .loc[row_indexer,col_indexer] = value instead\n",
      "\n",
      "See the caveats in the documentation: https://pandas.pydata.org/pandas-docs/stable/user_guide/indexing.html#returning-a-view-versus-a-copy\n",
      "  replacements.originalcountry=replacements.originalcountry\n",
      "/tmp/ipykernel_228/1498682475.py:9: SettingWithCopyWarning: \n",
      "A value is trying to be set on a copy of a slice from a DataFrame.\n",
      "Try using .loc[row_indexer,col_indexer] = value instead\n",
      "\n",
      "See the caveats in the documentation: https://pandas.pydata.org/pandas-docs/stable/user_guide/indexing.html#returning-a-view-versus-a-copy\n",
      "  replacements.tobename=\" \"+replacements.tobename\n"
     ]
    }
   ],
   "source": [
    "# The country file is used to provide a mapping to all country representation (language and typo). \n",
    "countries=pd.read_csv(\"countries.csv\",index_col=0)\n",
    "# Select the countries when there is a need to substitute\n",
    "replacements=countries[countries.originalcountry!=countries.tobename]\n",
    "# Convert the mapping adding some pattern to avoid unwanted replacement \n",
    "# (To avoid Airbus is replaced by Airbus Airbusa because us represent the coutry usa)\n",
    "#replacements.originalcountry=\"[\\\\s^]\"+replacements.originalcountry+\"[\\\\s$]\"\n",
    "replacements.originalcountry=replacements.originalcountry\n",
    "replacements.tobename=\" \"+replacements.tobename\n",
    "# Replacement of countries to unifed representation (independant from tongue and typo)\n",
    "replacements=replacements.set_index('originalcountry')\n",
    "replacements.tobename=replacements.tobename.replace(\"\\s\",\"\",regex=True)\n",
    "# Converting to dict\n",
    "replacements=replacements.tobename.to_dict()\n",
    "\n",
    "# Create a single pattern doing all replacement to apply once on every line (for efficency)\n",
    "rep = dict((re.escape(k), v) for k, v in replacements.items()) \n",
    "pattern = re.compile(\"|\".join(rep.keys()))\n"
   ]
  },
  {
   "cell_type": "raw",
   "id": "463dd7ba-f4fc-412b-a970-900f54f13460",
   "metadata": {},
   "source": [
    "# Scratchpad\n",
    "tp=pd.read_csv(\"20231211-Filtered-TPs.csv\")\n",
    "tp[\"NameCleansed\"]=tp.TDPARTY_NAME.str.lower()\n",
    "tp[\"CountryCleansed\"]=tp.TDPARTY_COUNTRY.str.lower()\n",
    "tp[\"usablename\"]=True\n",
    "#tp=deduceContryFromNameInformation(tp,\"sas\",\"france\")\n",
    "tp=deduceContryFromNameInformation(tp,\"s\\.a\\.s\",\"france\")\n",
    "tp[tp.NameCleansed.str.contains(\"s.a.s\")]\n",
    "tp.loc[176]"
   ]
  },
  {
   "cell_type": "code",
   "execution_count": 4,
   "id": "7095222b-f352-4766-a091-ec1690be752d",
   "metadata": {},
   "outputs": [],
   "source": [
    "# This set the country in case where the county information is provided in the name of the thrid party\n",
    "def deduceContryFromNameInformation(df,acronym,country):\n",
    "    df.CountryCleansed=df.CountryCleansed.mask((df.CountryCleansed.isna()) & (df.NameCleansed.str.contains( \"\\\\s\"+acronym+\"[\\s]*\")),country)\n",
    "    df.NameCleansed=df.NameCleansed.str.replace(\"\\\\s\"+acronym+\"[\\\\s]*\",\" \",regex=True)\n",
    "    return df\n",
    "    \n",
    "def removeFromName(df,toremove):\n",
    "    df.NameCleansed=df.NameCleansed.str.replace(\"\\\\s\"+toremove+\"[\\\\s]*\",\" \",regex=True)\n",
    "    return df\n",
    "\n",
    "def removeFromNameCountry(df,toremove):\n",
    "    df.NameCountryCleansed=df.NameCountryCleansed.str.replace(\"\\\\s\"+toremove+\"[\\\\s]*\",\" \",regex=True)\n",
    "    return df\n",
    "\n",
    "# Function to clean the name of the commany and creating a column for representation of name + country\n",
    "def cleanCountryAndName(df):\n",
    "    dftoreplace=df\n",
    "    dftoreplace=deduceContryFromNameInformation(dftoreplace,\"sas\",\"france\")\n",
    "    dftoreplace=deduceContryFromNameInformation(dftoreplace,\"s\\.a\\.s\",\"france\")\n",
    "    dftoreplace=deduceContryFromNameInformation(dftoreplace,\"france\",\"france\")\n",
    "    dftoreplace=deduceContryFromNameInformation(dftoreplace,\"french\",\"france\")\n",
    "    dftoreplace=deduceContryFromNameInformation(dftoreplace,\"ltd\",\"united kingdom\")\n",
    "    dftoreplace=deduceContryFromNameInformation(dftoreplace,\"united kingdom\",\"united kingdom\")\n",
    "    dftoreplace=deduceContryFromNameInformation(dftoreplace, \"s\\.l\",\"spain\")\n",
    "    dftoreplace=deduceContryFromNameInformation(dftoreplace,\"s\\.l\\.\",\"spain\")\n",
    "    dftoreplace=deduceContryFromNameInformation(dftoreplace, \"slu\",\"spain\")\n",
    "    dftoreplace=deduceContryFromNameInformation(dftoreplace,\"spanish\",\"spain\")\n",
    "    dftoreplace=deduceContryFromNameInformation(dftoreplace,\"turkish*\",\"turkey\")\n",
    "    dftoreplace=deduceContryFromNameInformation(dftoreplace,\"german*\",\"germany\")\n",
    "    dftoreplace=deduceContryFromNameInformation(dftoreplace,\"gmbh*\",\"germany\")\n",
    "    dftoreplace=deduceContryFromNameInformation(dftoreplace,\"deutschland*\",\"germany\")\n",
    "    dftoreplace=deduceContryFromNameInformation(dftoreplace,\"verwaltungs*\",\"germany\")\n",
    "    dftoreplace=deduceContryFromNameInformation(dftoreplace, \"germany*\",\"germany\")\n",
    "    dftoreplace=deduceContryFromNameInformation(dftoreplace,\"belgium*\",\"belgium\")\n",
    "    dftoreplace=deduceContryFromNameInformation(dftoreplace,\"belgian\",\"belgium\")\n",
    "    dftoreplace=deduceContryFromNameInformation(dftoreplace, \"luxembourg\",\"luxembourg\")\n",
    "\n",
    "    \n",
    "    \n",
    "    dftoreplace.CountryCleansed=dftoreplace.CountryCleansed.mask((dftoreplace.CountryCleansed.isna()) & (dftoreplace.NameCleansed.str.contains( \"\\\\ssud ouest[\\s]*\")),\"france\")\n",
    "    dftoreplace.CountryCleansed=dftoreplace.CountryCleansed.mask((dftoreplace.CountryCleansed.isna()) & (dftoreplace.NameCleansed.str.contains( \"\\\\ssud-ouest[\\s]*\")),\"france\")    \n",
    "    dftoreplace.CountryCleansed=dftoreplace.CountryCleansed.mask((dftoreplace.CountryCleansed.isna()) & (dftoreplace.NameCleansed.str.contains( \"[\\\\s]*toulouse[\\s]*\")),\"france\")\n",
    "    dftoreplace.CountryCleansed=dftoreplace.CountryCleansed.mask((dftoreplace.CountryCleansed.isna()) & (dftoreplace.NameCleansed.str.contains( \"\\\\ssl[\\s]*\")),\"spain\")\n",
    "    \n",
    "    #Remove unrelevant terms from company name \n",
    "    dftoreplace.NameCleansed=dftoreplace.NameCleansed.str.replace(\"\\\\sprivate[\\\\s]*\",\" \",regex=True)\n",
    "\n",
    "    for country in countries.originalcountry:\n",
    "        dftoreplace=removeFromName(dftoreplace,country)\n",
    "        \n",
    "    # Clean the country name use only english\"\n",
    "    dftoreplace[\"CountryCleansed\"].fillna(\"\",inplace=True)\n",
    "    dftoreplace[\"CountryCleansed\"]=dftoreplace[\"CountryCleansed\"].apply(lambda x:pattern.sub(lambda m: rep[re.escape(m.group(0))], x))\n",
    "    dftoreplace[\"CountryCleansed\"].replace(\" \",\"\",regex=True,inplace=True)\n",
    "    dftoreplace[\"CountryCleansed\"].replace(\"-\",\"\",regex=True,inplace=True)\n",
    "    dftoreplace=removeFromName(dftoreplace,\"sa\")\n",
    "    dftoreplace=removeFromName(dftoreplace,\"gmbh\")\n",
    "    dftoreplace=removeFromName(dftoreplace,\"sl\")\n",
    "    dftoreplace=removeFromName(dftoreplace,\"private\")\n",
    "    dftoreplace=removeFromName(dftoreplace,\"co\")\n",
    "    dftoreplace=removeFromName(dftoreplace,\"kg\")\n",
    "    dftoreplace=removeFromName(dftoreplace,\"verwaltungs\")\n",
    "    dftoreplace=removeFromName(dftoreplace,\"gesellschaft\")\n",
    "    dftoreplace[\"NameCountryCleansed\"]=dftoreplace.NameCleansed+ \" \" +dftoreplace[\"CountryCleansed\"]\n",
    "    df.NameCountryCleansed=df.NameCountryCleansed.str.replace(\"-\",\" \")\n",
    "    return dftoreplace"
   ]
  },
  {
   "cell_type": "code",
   "execution_count": 5,
   "id": "0786db5c-8a54-4db2-8ad4-fcfe15872826",
   "metadata": {},
   "outputs": [
    {
     "data": {
      "text/plain": [
       "Index(['supp_no', 'supp_name', 'supp_address', 'supp_postal_code', 'supp_city',\n",
       "       'supp_country_code', 'supp_country_name_en', 'supp_cage_code',\n",
       "       'division', 'all_text'],\n",
       "      dtype='object')"
      ]
     },
     "execution_count": 5,
     "metadata": {},
     "output_type": "execute_result"
    }
   ],
   "source": [
    "sp1.columns\n"
   ]
  },
  {
   "cell_type": "code",
   "execution_count": 6,
   "id": "6dcd017e-67c0-465f-aa99-53c542d483ff",
   "metadata": {},
   "outputs": [
    {
     "name": "stdout",
     "output_type": "stream",
     "text": [
      "Tp with no name Empty DataFrame\n",
      "Columns: [FILENAME, LICENSE_NBR, TDPARTY_NAME, TDPARTY_ROLE, TDPARTY_COUNTRY, TDPARTY_ADDRESS, TDPARTY_ARP_ID, ARP_needreview, TDPARTY_FLAG, LICENSE_DIVISION, LICENSE_PROGRAM, TDPARTY_CITY, TDPARTY_POSTAL_CODE, TDPARTY_PROGRAM, indexcol]\n",
      "Index: []\n",
      "Tp with no country\n",
      "20                 ALTRAN Sud Ouest\n",
      "86                 ALTRAN Sud Ouest\n",
      "168                 FLIR System INC\n",
      "301           Airbus Operations SAS\n",
      "611                      Airbus SAS\n",
      "                   ...             \n",
      "8284                     AIRBUS SAS\n",
      "8451      AIRBUS DEFENSE & SPACE SA\n",
      "8534    AIRBUS DEFENCE AND SPACE SA\n",
      "8535    AIRBUS DEFENCE AND SPACE SA\n",
      "8582                     AIRBUS SAS\n",
      "Name: TDPARTY_NAME, Length: 106, dtype: object\n"
     ]
    },
    {
     "data": {
      "text/html": [
       "<b>Unique third party name #:</b>2133"
      ],
      "text/plain": [
       "<IPython.core.display.HTML object>"
      ]
     },
     "metadata": {},
     "output_type": "display_data"
    },
    {
     "data": {
      "text/html": [
       "<b>Removed third party after cleansing #:</b>0"
      ],
      "text/plain": [
       "<IPython.core.display.HTML object>"
      ]
     },
     "metadata": {},
     "output_type": "display_data"
    },
    {
     "data": {
      "text/plain": [
       "'airbus  france'"
      ]
     },
     "execution_count": 6,
     "metadata": {},
     "output_type": "execute_result"
    }
   ],
   "source": [
    "# We create a cleansed name in the TP referential referential\n",
    "\n",
    "tp[\"indexcol\"]=tp.index\n",
    "#tp=tp[tp.LICENSE_DIVISION==\"AC\"]\n",
    "print(\"Tp with no name\",tp[tp.TDPARTY_NAME.isna()])\n",
    "print(\"Tp with no country\")\n",
    "print(tp[tp.TDPARTY_COUNTRY.isna()][\"TDPARTY_NAME\"])\n",
    "tp=tp[~tp.TDPARTY_NAME.isna()]\n",
    "#Filtrage sur la division\n",
    "tp.to_csv(\"tp-cleansed.csv\")\n",
    "tp[\"NameCleansed\"]=tp.TDPARTY_NAME.str.lower()\n",
    "tp[\"CountryCleansed\"]=tp.TDPARTY_COUNTRY.str.lower()\n",
    "tp[\"CleansedAddress\"]=tp['TDPARTY_ADDRESS'] +\" \" + tp['TDPARTY_POSTAL_CODE'] +\" \"+ tp['TDPARTY_CITY']\n",
    "tp[\"CleansedAddress\"]=tp[\"CleansedAddress\"].str.lower()\n",
    "tp[\"usablename\"]=True\n",
    "\n",
    "\n",
    "\n",
    "display(HTML('<b>Unique third party name #:</b>'+str(len(tp[\"NameCleansed\"].unique()))))\n",
    "lenfintp=len(tp)\n",
    "display(HTML('<b>Removed third party after cleansing #:</b>'+str(lenfintp-leninitp)))\n",
    "tp.head()\n",
    "\n",
    "\n",
    "tp=cleanCountryAndName(tp)\n",
    "\n",
    "tp.loc[tp.CountryCleansed.isna(),\"usablename\"]=False\n",
    "\n",
    "tp.NameCountryCleansed[611]\n"
   ]
  },
  {
   "cell_type": "code",
   "execution_count": 7,
   "id": "d4a3eb57-bbf3-47af-91ec-89e7bb885587",
   "metadata": {},
   "outputs": [
    {
     "name": "stdout",
     "output_type": "stream",
     "text": [
      "Nombre de supplier name dans cim 1810\n"
     ]
    }
   ],
   "source": [
    "# We create a cleansed name in the CIM referential\n",
    "cim[\"index\"]=cim.index\n",
    "cim[['Name','Country Name','Street',\"Zip code\",'City','Country (Address)']]\n",
    "cim=cim[~cim.Name.isna()]\n",
    "cim[\"NameCleansed\"]=cim.Name.str.lower()\n",
    "cim[\"CountryCleansed\"]=cim[\"Country Name\"].str.lower()\n",
    "cim['Street'].fillna(\"\",inplace=True)\n",
    "cim['Street (continued)'].fillna(\"\",inplace=True)\n",
    "cim['Zip code'].fillna(\"\",inplace=True)\n",
    "cim['City'].fillna(\"\",inplace=True)\n",
    "cim[\"CleansedAddress\"]= cim['Street']+\" \" +  cim['Street (continued)']+\" \" + cim['Zip code']+\" \" + cim['City']\n",
    "cim[\"CleansedAddress\"]=cim[\"CleansedAddress\"].str.lower()\n",
    "cim=cleanCountryAndName(cim)\n",
    "\n",
    "print(\"Nombre de supplier name dans cim\",len(cim[\"NameCleansed\"].unique()))\n",
    "\n",
    "\n"
   ]
  },
  {
   "cell_type": "code",
   "execution_count": 8,
   "id": "43fda15d-ff00-476d-bddf-41c05b817787",
   "metadata": {},
   "outputs": [
    {
     "name": "stdout",
     "output_type": "stream",
     "text": [
      "Nombre de supplier name dans sp1 42930\n"
     ]
    },
    {
     "data": {
      "text/plain": [
       "0                        atis iberica derichebourg spain\n",
       "1                                             jvd france\n",
       "2                wolf gustav seil und drahtwerke germany\n",
       "3                                        caillau  france\n",
       "4        gardner aerospace   derby limited unitedkingdom\n",
       "                              ...                       \n",
       "49046               aertec industrial engineering  spain\n",
       "49047                  alestis tecnobahia montajes spain\n",
       "49048                       ultra precision  switzerland\n",
       "49049                              drosg & . switzerland\n",
       "49050                                     sapelem france\n",
       "Name: NameCountryCleansed, Length: 49051, dtype: object"
      ]
     },
     "execution_count": 8,
     "metadata": {},
     "output_type": "execute_result"
    }
   ],
   "source": [
    "#Nettoyage des supplier name\n",
    "sp1[\"index\"]=sp1.index\n",
    "sp1=sp1[~sp1.supp_name.isna()]\n",
    "\n",
    "sp1[\"NameCleansed\"]=sp1.supp_name.str.lower()\n",
    "sp1[\"CountryCleansed\"]=sp1.supp_country_name_en.str.lower()\n",
    "sp1[\"CleansedAddress\"]=sp1['supp_address']+\" \" + sp1['supp_postal_code']+\" \" + sp1['supp_city']\n",
    "sp1[\"CleansedAddress\"]=sp1[\"CleansedAddress\"].str.lower()\n",
    "print(\"Nombre de supplier name dans sp1\",len(sp1[\"NameCleansed\"].unique()))\n",
    "sp1=cleanCountryAndName(sp1)\n",
    "\n",
    "sp1.NameCountryCleansed"
   ]
  },
  {
   "cell_type": "code",
   "execution_count": 9,
   "id": "1cc86517-8cfe-48b6-81bc-4c280a1dd679",
   "metadata": {
    "scrolled": true
   },
   "outputs": [
    {
     "data": {
      "text/plain": [
       "0       nortel networks y &  germany\n",
       "0             entserv  unitedkingdom\n",
       "0    atis iberica derichebourg spain\n",
       "Name: NameCountryCleansed, dtype: object"
      ]
     },
     "execution_count": 9,
     "metadata": {},
     "output_type": "execute_result"
    }
   ],
   "source": [
    "corpusname=pd.concat([cim.NameCountryCleansed,tp.NameCountryCleansed,sp1.NameCountryCleansed])\n",
    "corpusname[0]\n",
    "\n",
    "\n"
   ]
  },
  {
   "cell_type": "code",
   "execution_count": 10,
   "id": "5685b997-a51f-4a42-8626-b0147306f5a0",
   "metadata": {},
   "outputs": [],
   "source": [
    "#Based on the corpus of name we create a matrix of association\n",
    "from sklearn.feature_extraction.text import CountVectorizer\n",
    "import numpy as np\n",
    "\n",
    "vectorizer = CountVectorizer(strip_accents=\"ascii\")\n",
    "features = vectorizer.fit(corpusname)\n",
    "\n",
    "tpnamevect=vectorizer.transform(tp.NameCountryCleansed)\n",
    "cimnamevect=vectorizer.transform(cim.NameCountryCleansed)\n",
    "sp1namevect=vectorizer.transform(sp1.NameCountryCleansed)\n",
    "\n",
    "# Renormalize so that if country is present twice in name and in country, it is counted only once\n",
    "\n",
    "tpnamevect=(tpnamevect>0)*1\n",
    "cimnamevect=(cimnamevect>0)*1\n",
    "sp1namevect=(sp1namevect>0)*1\n",
    "\n"
   ]
  },
  {
   "cell_type": "code",
   "execution_count": 11,
   "id": "a0f8340c-03a2-45d4-a3ae-b8696d4df2d8",
   "metadata": {},
   "outputs": [
    {
     "data": {
      "text/plain": [
       "'capgemini  india'"
      ]
     },
     "execution_count": 11,
     "metadata": {},
     "output_type": "execute_result"
    }
   ],
   "source": [
    "tp.NameCountryCleansed[14]"
   ]
  },
  {
   "cell_type": "code",
   "execution_count": 12,
   "id": "32f29525-e369-4c47-af92-72f87fd5ccb4",
   "metadata": {},
   "outputs": [],
   "source": [
    "# We compute a list giving if two name are similar\n",
    "from sklearn.metrics.pairwise import cosine_similarity\n",
    "\n",
    "\n",
    "similaritycim=cosine_similarity(tpnamevect,cimnamevect)\n",
    "similaritysp1=cosine_similarity(tpnamevect,sp1namevect)\n"
   ]
  },
  {
   "cell_type": "code",
   "execution_count": 13,
   "id": "6d2911e4-d830-48c0-9186-22f9e550fa9e",
   "metadata": {},
   "outputs": [
    {
     "data": {
      "image/png": "[encoded data removed]",
      "text/plain": [
       "<Figure size 640x480 with 1 Axes>"
      ]
     },
     "metadata": {},
     "output_type": "display_data"
    },
    {
     "data": {
      "image/png": "[encoded data removed]",
      "text/plain": [
       "<Figure size 640x480 with 1 Axes>"
      ]
     },
     "metadata": {},
     "output_type": "display_data"
    }
   ],
   "source": [
    "import matplotlib.pyplot as plt\n",
    "import numpy as np\n",
    "\n",
    "from matplotlib import colors\n",
    "from matplotlib.ticker import PercentFormatter\n",
    "\n",
    "counts, bins =np.histogram(similaritycim,range=[.6,1])\n",
    "plt.stairs(counts, bins)\n",
    "plt.title(\"CIM cosine distance distribution\")\n",
    "plt.show()\n",
    "\n",
    "counts, bins =np.histogram(similaritysp1,range=[.6,1])\n",
    "plt.stairs(counts, bins)\n",
    "plt.title(\"SP1 cosine distance distribution\")\n",
    "plt.show()\n",
    "#hist"
   ]
  },
  {
   "cell_type": "code",
   "execution_count": 14,
   "id": "30d3c8d2-fe5f-4ad2-9863-ed6f52f8d334",
   "metadata": {
    "editable": true,
    "slideshow": {
     "slide_type": ""
    },
    "tags": []
   },
   "outputs": [
    {
     "name": "stdout",
     "output_type": "stream",
     "text": [
      "Exploration de CIM\n",
      "Airbus\n",
      "AIRBUS\n",
      "----------\n",
      "===========\n",
      "Exploration de SP1\n",
      "esg elektroniksystem und logistik gmbh germany\n",
      "ESG Elektroniksystem - und Logistik-GmbH\n",
      "----------\n"
     ]
    }
   ],
   "source": [
    "seuil=.82\n",
    "similarnamecim=np.where(similaritycim>seuil)\n",
    "similarnamesp1=np.where(similaritysp1>seuil)\n",
    "maxsimilarnamecim=np.argmax(similaritycim,axis=1)\n",
    "maxsimilarnamesp1=np.argmax(similaritysp1,axis=1)\n",
    "\n",
    "\n",
    "\n",
    "print(\"Exploration de CIM\")\n",
    "for i in range (1,2):\n",
    "#    print(tp.NameCountryCleansed.iloc[similarnamecim[0][i]])\n",
    "    print(tp.iloc[similarnamecim[0][i],2])\n",
    "#    print(cim.NameCountryCleansed.iloc[similarnamecim[1][i]])\n",
    "    print(cim.iloc[similarnamecim[1][i],3])\n",
    "    print(\"----------\")\n",
    "\n",
    "print(\"===========\")\n",
    "\n",
    "print(\"Exploration de SP1\")\n",
    "for i in range (1,2):\n",
    "    print(tp.NameCountryCleansed.iloc[similarnamesp1[0][i]])\n",
    "    print(sp1.iloc[similarnamesp1[1][i],1])\n",
    "    print(\"----------\")\n",
    "\n",
    "\n",
    "\n",
    "#from scipy import spatial\n",
    "#np.where((tpnamevect.getrow(14).toarray()>0))\n",
    "#cimnamevect.getrow(77).toarray()[0]\n",
    "\n",
    "##spatial.distance.cosine(cimnamevect.getrow(14).toarray()[0], tpnamevect.getrow(77).toarray()[0])\n",
    "\n",
    "#features.inverse_transform(tpnamevect.getrow(14))\n",
    "#features.inverse_transform(cimnamevect.getrow(77))\n",
    "#np.where(tpnamevect.getrow(14).toarray()>0)"
   ]
  },
  {
   "cell_type": "code",
   "execution_count": 15,
   "id": "0691341a-b9d1-4811-b4e9-633864eceb6e",
   "metadata": {},
   "outputs": [
    {
     "data": {
      "text/plain": [
       "supp_no                                                             C3002\n",
       "supp_name                        ESG Elektroniksystem - und Logistik-GmbH\n",
       "supp_address                                                          NaN\n",
       "supp_postal_code                                                      NaN\n",
       "supp_city                                                             NaN\n",
       "supp_country_code                                                      DE\n",
       "supp_country_name_en                                              Germany\n",
       "supp_cage_code                                                        NaN\n",
       "division                                                              ADS\n",
       "all_text                [ADS]; C3002; ESG Elektroniksystem - und Logis...\n",
       "index                                                               36150\n",
       "NameCleansed                     esg elektroniksystem - und logistik-gmbh\n",
       "CountryCleansed                                                   germany\n",
       "CleansedAddress                                                       NaN\n",
       "NameCountryCleansed      esg elektroniksystem   und logistik gmbh germany\n",
       "Name: 36150, dtype: object"
      ]
     },
     "execution_count": 15,
     "metadata": {},
     "output_type": "execute_result"
    }
   ],
   "source": [
    "sp1.iloc[similarnamesp1[1][i],:]\n"
   ]
  },
  {
   "cell_type": "code",
   "execution_count": 16,
   "id": "22c4c83f-5883-40da-86ae-1621d8b7d1da",
   "metadata": {},
   "outputs": [
    {
     "data": {
      "text/plain": [
       "3167"
      ]
     },
     "execution_count": 16,
     "metadata": {},
     "output_type": "execute_result"
    }
   ],
   "source": [
    "len(similarnamecim[0])\n",
    "\n"
   ]
  },
  {
   "cell_type": "code",
   "execution_count": 17,
   "id": "b2147035-abc9-41af-9ffa-a07b440edec3",
   "metadata": {
    "editable": true,
    "slideshow": {
     "slide_type": ""
    },
    "tags": []
   },
   "outputs": [],
   "source": [
    "# Creates the proposal in CIM and SP1 correspondance\n",
    "tp[\"idcim\"]=\"\"\n",
    "tp[\"candidatscim\"]=\"\"\n",
    "tp[\"probacim\"]=\"\"\n",
    "tp[\"cleanednamecountrycim\"]=\"\"\n",
    "tp[\"nbcandidatesonnamecim\"]=\"\"\n",
    "\n",
    "\n",
    "tp[\"idsp1\"]=\"\"\n",
    "tp[\"candidatssp1\"]=\"\"\n",
    "tp[\"probasp1\"]=\"\"\n",
    "tp[\"cleanednamecountrysp1\"]=\"\"\n",
    "tp[\"nbcandidatesonnamesp1\"]=\"\"\n",
    "\n",
    "indexcim=tp.columns.get_loc(\"idcim\")\n",
    "indexcandidatscim=tp.columns.get_loc(\"candidatscim\")\n",
    "indexprobacim=tp.columns.get_loc(\"probacim\")\n",
    "indexprobasp1=tp.columns.get_loc(\"probasp1\")\n",
    "\n",
    "# Affectation des proposition suppérieure à 0.9. Listing potentials id in idcim\n",
    "for i in range(len(similarnamecim[0])):\n",
    "    tp.iloc[similarnamecim[0][i],indexprobacim]=min(similaritycim[similarnamecim[0][i]][np.where(similaritycim[similarnamecim[0][i]]>seuil)])\n",
    "    tp.iloc[similarnamecim[0][i],indexcim]=tp.iloc[similarnamecim[0][i],indexcim]+str(similarnamecim[1][i])+\",\"\n",
    "    tp.iloc[similarnamecim[0][i],indexcandidatscim]=tp.iloc[similarnamecim[0][i],indexcandidatscim]+cim.iloc[similarnamecim[1][i],3].replace(\"[,\\n]\",\" \")+\",\\n\"\n",
    "\n",
    "# Recuppération du nombre de proposition\n",
    "unique, counts = np.unique(similarnamecim[0], return_counts=True)\n",
    "countcim=dict(zip(unique, counts))\n",
    "for i in countcim:\n",
    "    tp.loc[i,\"nbcandidatesonnamecim\"]=countcim[i]\n",
    "\n",
    "# Dans le cas où la proba est inférieure à 0.8\n",
    "tpblank=tp[tp.idcim==\"\"]\n",
    "for index, row in tpblank.iterrows():\n",
    "    idcim=maxsimilarnamecim[row.indexcol]\n",
    "    proba = similaritycim[row.indexcol,idcim]\n",
    "    if(proba>0.5):\n",
    "        tp.at[row.indexcol,\"idcim\"]=idcim\n",
    "        tp.at[row.indexcol,\"candidatscim\"]=cim.loc[idcim,\"Name\"]\n",
    "        tp.at[row.indexcol,\"cleanednamecountrycim\"]=cim.loc[idcim,\"NameCountryCleansed\"]\n",
    "        tp.at[row.indexcol,\"probacim\"]=similaritycim[row.indexcol,idcim]\n",
    "\n",
    "# SP1 \n",
    "\n",
    "# Affectation des proposition suppérieure à 0.9. Listing potentials id in idsp1\n",
    "indexsp1=tp.columns.get_loc(\"idsp1\")\n",
    "indexcandidatssp1=tp.columns.get_loc(\"candidatssp1\")\n",
    "for i in range(len(similarnamesp1[0])):\n",
    "    tp.iloc[similarnamesp1[0][i],indexprobasp1]=min(similaritysp1[similarnamesp1[0][i]][np.where(similaritysp1[similarnamesp1[0][i]]>seuil)])\n",
    "    tp.iloc[similarnamesp1[0][i],indexsp1]=tp.iloc[similarnamesp1[0][i],indexsp1]+str(similarnamesp1[1][i])+\",\"\n",
    "    tp.iloc[similarnamesp1[0][i],indexcandidatssp1]=tp.iloc[similarnamesp1[0][i],indexcandidatssp1]+sp1.iloc[similarnamesp1[1][i],1].replace(\"[,\\n]\",\" \")+\",\\n\"\n",
    "\n",
    "# Recuppération du nombre de proposition\n",
    "unique, counts = np.unique(similarnamesp1[0], return_counts=True)\n",
    "countsp1=dict(zip(unique, counts))\n",
    "for i in countsp1:\n",
    "    tp.loc[i,\"nbcandidatesonnamesp1\"]=countsp1[i]\n",
    "\n",
    "# Dans le cas où la proba est inférieure à 0.8\n",
    "tpblank=tp[tp.idsp1==\"\"]\n",
    "for index, row in tpblank.iterrows():\n",
    "    idsp1=maxsimilarnamesp1[row.indexcol]\n",
    "    proba = similaritysp1[row.indexcol,idsp1]\n",
    "    if(proba>0.5):\n",
    "        tp.at[row.indexcol,\"idsp1\"]=idsp1\n",
    "        tp.at[row.indexcol,\"candidatssp1\"]=sp1.loc[idsp1,\"supp_name\"]\n",
    "        tp.at[row.indexcol,\"cleanednamecountrysp1\"]=sp1.loc[idsp1,\"NameCountryCleansed\"]\n",
    "        tp.at[row.indexcol,\"probasp1\"]=similaritysp1[row.indexcol,idsp1]\n",
    "\n",
    "suppliersansrefdanscim=tp[tp.idcim==\"\"]\n",
    "suppliersansrefdanscim=suppliersansrefdanscim[~suppliersansrefdanscim.NameCleansed.str.contains(\"armee\")]\n",
    "suppliersansrefdanscim=suppliersansrefdanscim[~suppliersansrefdanscim.NameCleansed.str.contains(\"armée\")]\n",
    "suppliersansrefdanscim=suppliersansrefdanscim[~suppliersansrefdanscim.NameCleansed.str.contains(\"army\")]\n",
    "suppliersansrefdanscim.TDPARTY_NAME.to_csv(\"suppliersansrefdanscim.csv\")\n",
    "\n"
   ]
  },
  {
   "cell_type": "code",
   "execution_count": 18,
   "id": "5b8268f9-75dc-476a-87cd-63f3d63a38ce",
   "metadata": {},
   "outputs": [
    {
     "data": {
      "text/html": [
       "<div>\n",
       "<style scoped>\n",
       "    .dataframe tbody tr th:only-of-type {\n",
       "        vertical-align: middle;\n",
       "    }\n",
       "\n",
       "    .dataframe tbody tr th {\n",
       "        vertical-align: top;\n",
       "    }\n",
       "\n",
       "    .dataframe thead th {\n",
       "        text-align: right;\n",
       "    }\n",
       "</style>\n",
       "<table border=\"1\" class=\"dataframe\">\n",
       "  <thead>\n",
       "    <tr style=\"text-align: right;\">\n",
       "      <th></th>\n",
       "      <th>NameCountryCleansed</th>\n",
       "      <th>cleanednamecountrysp1</th>\n",
       "      <th>probasp1</th>\n",
       "      <th>cleanednamecountrycim</th>\n",
       "      <th>probacim</th>\n",
       "    </tr>\n",
       "  </thead>\n",
       "  <tbody>\n",
       "    <tr>\n",
       "      <th>40</th>\n",
       "      <td>airbus defence and space limited unitedkingdom</td>\n",
       "      <td></td>\n",
       "      <td>0.912871</td>\n",
       "      <td></td>\n",
       "      <td>0.833333</td>\n",
       "    </tr>\n",
       "    <tr>\n",
       "      <th>41</th>\n",
       "      <td>alten technology  germany</td>\n",
       "      <td></td>\n",
       "      <td>1.0</td>\n",
       "      <td>security technology services  germany</td>\n",
       "      <td>0.57735</td>\n",
       "    </tr>\n",
       "    <tr>\n",
       "      <th>42</th>\n",
       "      <td>kuehne + nagel (ag &amp; .)  germany</td>\n",
       "      <td></td>\n",
       "      <td>1.0</td>\n",
       "      <td>stratobyte ag germany</td>\n",
       "      <td>0.57735</td>\n",
       "    </tr>\n",
       "    <tr>\n",
       "      <th>43</th>\n",
       "      <td>altran &amp;  germany</td>\n",
       "      <td></td>\n",
       "      <td>1.0</td>\n",
       "      <td></td>\n",
       "      <td></td>\n",
       "    </tr>\n",
       "    <tr>\n",
       "      <th>44</th>\n",
       "      <td>sopra steria limited india</td>\n",
       "      <td></td>\n",
       "      <td>0.866025</td>\n",
       "      <td>eads limited india</td>\n",
       "      <td>0.57735</td>\n",
       "    </tr>\n",
       "    <tr>\n",
       "      <th>45</th>\n",
       "      <td>gouvernement pour forces armées et autres serv...</td>\n",
       "      <td></td>\n",
       "      <td></td>\n",
       "      <td></td>\n",
       "      <td></td>\n",
       "    </tr>\n",
       "    <tr>\n",
       "      <th>46</th>\n",
       "      <td>quantas defence services australia</td>\n",
       "      <td></td>\n",
       "      <td></td>\n",
       "      <td></td>\n",
       "      <td></td>\n",
       "    </tr>\n",
       "    <tr>\n",
       "      <th>47</th>\n",
       "      <td>gfi informatique  france</td>\n",
       "      <td></td>\n",
       "      <td>1.0</td>\n",
       "      <td>s.a.i.g.e.p.a. france</td>\n",
       "      <td>0.57735</td>\n",
       "    </tr>\n",
       "    <tr>\n",
       "      <th>48</th>\n",
       "      <td>accenture outsourcing service, s.a. spain</td>\n",
       "      <td>accenture outsourcing services  spain</td>\n",
       "      <td>0.75</td>\n",
       "      <td></td>\n",
       "      <td></td>\n",
       "    </tr>\n",
       "    <tr>\n",
       "      <th>49</th>\n",
       "      <td>bull  germany</td>\n",
       "      <td>. germany</td>\n",
       "      <td>0.707107</td>\n",
       "      <td></td>\n",
       "      <td></td>\n",
       "    </tr>\n",
       "  </tbody>\n",
       "</table>\n",
       "</div>"
      ],
      "text/plain": [
       "                                  NameCountryCleansed  \\\n",
       "40     airbus defence and space limited unitedkingdom   \n",
       "41                          alten technology  germany   \n",
       "42                   kuehne + nagel (ag & .)  germany   \n",
       "43                                  altran &  germany   \n",
       "44                         sopra steria limited india   \n",
       "45  gouvernement pour forces armées et autres serv...   \n",
       "46                 quantas defence services australia   \n",
       "47                           gfi informatique  france   \n",
       "48          accenture outsourcing service, s.a. spain   \n",
       "49                                      bull  germany   \n",
       "\n",
       "                    cleanednamecountrysp1  probasp1  \\\n",
       "40                                         0.912871   \n",
       "41                                              1.0   \n",
       "42                                              1.0   \n",
       "43                                              1.0   \n",
       "44                                         0.866025   \n",
       "45                                                    \n",
       "46                                                    \n",
       "47                                              1.0   \n",
       "48  accenture outsourcing services  spain      0.75   \n",
       "49                              . germany  0.707107   \n",
       "\n",
       "                    cleanednamecountrycim  probacim  \n",
       "40                                         0.833333  \n",
       "41  security technology services  germany   0.57735  \n",
       "42                  stratobyte ag germany   0.57735  \n",
       "43                                                   \n",
       "44                     eads limited india   0.57735  \n",
       "45                                                   \n",
       "46                                                   \n",
       "47                  s.a.i.g.e.p.a. france   0.57735  \n",
       "48                                                   \n",
       "49                                                   "
      ]
     },
     "execution_count": 18,
     "metadata": {},
     "output_type": "execute_result"
    }
   ],
   "source": [
    "tp[['NameCountryCleansed','cleanednamecountrysp1','probasp1','cleanednamecountrycim','probacim']][40:50]\n",
    "#.loc[26,'NameCountryCleansed']\n",
    "#tp[tp.CountryCleansed.str.contains(\"reich\")]"
   ]
  },
  {
   "cell_type": "code",
   "execution_count": 19,
   "id": "2322ea34-4b09-457b-b4b8-b015e09b6af4",
   "metadata": {},
   "outputs": [],
   "source": [
    "len(tp[tp.idcim==\"\"].TDPARTY_NAME.unique())\n",
    "pd.DataFrame(tp[tp.idcim==\"\"].TDPARTY_NAME.unique()).to_csv(\"Supplier-AC-not-found.csv\")"
   ]
  },
  {
   "cell_type": "code",
   "execution_count": 20,
   "id": "8503fda9-b6d5-448b-b0df-96919a1e3e17",
   "metadata": {},
   "outputs": [
    {
     "data": {
      "text/plain": [
       "<Axes: xlabel='TDPARTY_FLAG_Cleansed'>"
      ]
     },
     "execution_count": 20,
     "metadata": {},
     "output_type": "execute_result"
    },
    {
     "data": {
      "image/png": "[encoded data removed]",
      "text/plain": [
       "<Figure size 640x480 with 1 Axes>"
      ]
     },
     "metadata": {},
     "output_type": "display_data"
    }
   ],
   "source": [
    "tp[\"TDPARTY_FLAG_Cleansed\"]=tp.TDPARTY_FLAG.str.lower()\n",
    "a=tp[tp.idcim==\"\"].TDPARTY_FLAG_Cleansed.value_counts()\n",
    "b=tp.TDPARTY_FLAG_Cleansed.value_counts()\n",
    "m=b.to_frame().join(a.to_frame(),lsuffix='all')\n",
    "m[0:10].plot.bar()"
   ]
  },
  {
   "cell_type": "code",
   "execution_count": 21,
   "id": "bab6ea33-c0a7-4d67-b104-b9533d518746",
   "metadata": {},
   "outputs": [],
   "source": [
    "sp1[\"CleansedAddress\"].fillna(\"\",inplace=True)\n",
    "cim[\"CleansedAddress\"].fillna(\"\",inplace=True)\n",
    "tp[\"CleansedAddress\"].fillna(\"\",inplace=True)\n",
    "corpusaddress=pd.concat([cim.CleansedAddress,tp.CleansedAddress,sp1.CleansedAddress])\n",
    "corpusaddress=corpusaddress.dropna()"
   ]
  },
  {
   "cell_type": "code",
   "execution_count": 22,
   "id": "6d8dd011-2b46-48b6-a514-04672a9a0354",
   "metadata": {},
   "outputs": [],
   "source": [
    "#Based on the corpus of name we create a matrix of association\n",
    "from sklearn.feature_extraction.text import CountVectorizer\n",
    "import numpy as np\n",
    "\n",
    "vectorizeraddress = CountVectorizer(strip_accents=\"ascii\")\n",
    "features = vectorizeraddress.fit(corpusaddress)\n",
    "\n",
    "tpaddressvect=vectorizer.transform(tp.CleansedAddress)\n",
    "cimaddressvect=vectorizer.transform(cim.CleansedAddress)\n",
    "sp1addressvect=vectorizer.transform(sp1.CleansedAddress)\n",
    "\n",
    "# Renormalize so that if country is present twice in name and in country, it is counted only once\n",
    "\n",
    "tpaddressvect=(tpaddressvect>0)*1\n",
    "cimaddressvect=(cimaddressvect>0)*1\n",
    "sp1addressvect=(sp1addressvect>0)*1"
   ]
  },
  {
   "cell_type": "code",
   "execution_count": 23,
   "id": "1f8425ea-455e-463e-9c70-113d73967424",
   "metadata": {},
   "outputs": [
    {
     "data": {
      "text/plain": [
       "supp_no                                                            F86816\n",
       "supp_name                         ESG Elektroniksystem- und Logistik-GmbH\n",
       "supp_address                                          Livry-Gargan-Str. 6\n",
       "supp_postal_code                                                    82256\n",
       "supp_city                                                Fürstenfeldbruck\n",
       "supp_country_code                                                      DE\n",
       "supp_country_name_en                                              Germany\n",
       "supp_cage_code                                                        NaN\n",
       "division                                                              ADS\n",
       "all_text                [ADS]; F86816; ESG Elektroniksystem- und Logis...\n",
       "index                                                               30202\n",
       "NameCleansed                      esg elektroniksystem- und logistik-gmbh\n",
       "CountryCleansed                                                   germany\n",
       "CleansedAddress                livry-gargan-str. 6 82256 fürstenfeldbruck\n",
       "NameCountryCleansed       esg elektroniksystem  und logistik gmbh germany\n",
       "Name: 30202, dtype: object"
      ]
     },
     "execution_count": 23,
     "metadata": {},
     "output_type": "execute_result"
    }
   ],
   "source": [
    "sp1.loc[30202]"
   ]
  },
  {
   "cell_type": "code",
   "execution_count": null,
   "id": "751a2a56-3c26-4a7f-a4d9-620b8f849ac7",
   "metadata": {},
   "outputs": [],
   "source": []
  },
  {
   "cell_type": "code",
   "execution_count": 24,
   "id": "367269e0-feba-4ef0-9f28-17a5c41d932f",
   "metadata": {},
   "outputs": [],
   "source": [
    "# Selection meilleur cnadidats sp1\n",
    "tp[\"bestidsp1\"]=\"\"\n",
    "tp[\"bestaddresssp1\"]=\"\"\n",
    "tp[\"probaaddresssp1\"]=\"\"\n",
    "\n",
    "tp[\"bestidcim\"]=\"\"\n",
    "tp[\"bestaddresscim\"]=\"\"\n",
    "tp[\"probaaddresscim\"]=\"\"\n",
    "\n",
    "for index,corresponances in tp[tp.idsp1.str.contains(\",\").fillna(False)].idsp1.items():\n",
    "    vect=[int(item)  for item in corresponances.split(\",\")[:-1]]\n",
    "    similarityaddress=cosine_similarity(tpaddressvect[index],sp1addressvect[vect])\n",
    "    argmaximisant=similarityaddress.argmax()\n",
    "    indexmaximisant=vect[argmaximisant]\n",
    "    bestaddress=sp1.loc[indexmaximisant,\"CleansedAddress\"]\n",
    "    tp.loc[index,\"bestidsp1\"]=indexmaximisant\n",
    "    tp.loc[index,\"bestaddresssp1\"]=bestaddress\n",
    "    tp.loc[index,\"probaaddresssp1\"]=similarityaddress[0][argmaximisant]\n",
    "\n",
    "for index,corresponances in tp[tp.idcim.str.contains(\",\").fillna(False)].idcim.items():\n",
    "    vect=[int(item)  for item in corresponances.split(\",\")[:-1]]\n",
    "    similarityaddress=cosine_similarity(tpaddressvect[index],cimaddressvect[vect])\n",
    "    argmaximisant=similarityaddress.argmax()\n",
    "    indexmaximisant=vect[argmaximisant]\n",
    "    bestaddress=cim.loc[indexmaximisant,\"CleansedAddress\"]\n",
    "    tp.loc[index,\"bestidcim\"]=indexmaximisant\n",
    "    tp.loc[index,\"bestaddresscim\"]=bestaddress\n",
    "    tp.loc[index,\"probaaddresscim\"]=similarityaddress[0][argmaximisant]\n",
    "\n"
   ]
  },
  {
   "cell_type": "code",
   "execution_count": 25,
   "id": "40bfcb59-2087-4d39-8ad7-a4c27b892fdc",
   "metadata": {},
   "outputs": [],
   "source": [
    "for index,corresponances in tp[(~tp.idsp1.str.contains(\",\").fillna(False)) & (~(tp.idsp1==\"\"))].idsp1.items():\n",
    "    indexmaximisant=int(corresponances)\n",
    "    similarityaddress=cosine_similarity(tpaddressvect[index],sp1addressvect[vect])\n",
    "    bestaddress=sp1.loc[indexmaximisant,\"CleansedAddress\"]\n",
    "    tp.loc[index,\"bestidsp1\"]=indexmaximisant\n",
    "    tp.loc[index,\"bestaddresssp1\"]=bestaddress\n",
    "    tp.loc[index,\"probaaddresssp1\"]=similarityaddress[0][argmaximisant]\n",
    "\n",
    "for index,corresponances in tp[(~tp.idcim.str.contains(\",\").fillna(False)) & (~(tp.idcim==\"\"))].idcim.items():\n",
    "    indexmaximisant=int(corresponances)\n",
    "    similarityaddress=cosine_similarity(tpaddressvect[index],cimaddressvect[vect])\n",
    "    bestaddress=cim.loc[indexmaximisant,\"CleansedAddress\"]\n",
    "    tp.loc[index,\"bestidcim\"]=indexmaximisant\n",
    "    tp.loc[index,\"bestaddresscim\"]=bestaddress\n",
    "    tp.loc[index,\"probaaddresscim\"]=similarityaddress[0][argmaximisant]\n",
    "\n",
    "\n",
    "tp.to_excel(\"ThirdParty-ProposedMatches.xlsx\",float_format=\"%.2f\")\n"
   ]
  },
  {
   "cell_type": "code",
   "execution_count": 26,
   "id": "66f4f66a-019b-4ceb-abf2-8ac445425ff4",
   "metadata": {},
   "outputs": [],
   "source": [
    "\n",
    "tp[[\"NameCountryCleansed\",\"cleanednamecountrycim\",'candidatscim',\"nbcandidatesonnamecim\"]]\n",
    "#tp[tp.TDPARTY_NAME.str.contains(\"gemrany\")][[\"NameCountryCleansed\",\"cleanednamecountrycim\",'candidatscim',\"nbcandidatesonnamecim\"]]\n",
    "#tp.loc[8613,[\"NameCountryCleansed\",\"cleanednamecountrycim\",'candidatscim',\"nbcandidatesonnamecim\",\"idcim\"]]\n",
    "tp[[\"TDPARTY_NAME\",\"TDPARTY_COUNTRY\",'candidatscim',\"NameCountryCleansed\",\"cleanednamecountrycim\",\"nbcandidatesonnamecim\",\"idcim\",\"probacim\"]].to_excel(\"CIM-pairing.xlsx\")"
   ]
  },
  {
   "cell_type": "code",
   "execution_count": 27,
   "id": "747937b5-a846-40ff-a4aa-0cd586105ec5",
   "metadata": {},
   "outputs": [
    {
     "data": {
      "text/plain": [
       "0.8660254037844388"
      ]
     },
     "execution_count": 27,
     "metadata": {},
     "output_type": "execute_result"
    }
   ],
   "source": [
    "min(similaritycim[8613][np.where(similaritycim[8613]>.82)])"
   ]
  },
  {
   "cell_type": "code",
   "execution_count": 28,
   "id": "3abecc0f-7645-438e-968d-00d7499d1eb6",
   "metadata": {},
   "outputs": [
    {
     "name": "stdout",
     "output_type": "stream",
     "text": [
      "sp1 366\n"
     ]
    },
    {
     "name": "stderr",
     "output_type": "stream",
     "text": [
      "/tmp/ipykernel_228/3752751450.py:5: SettingWithCopyWarning: \n",
      "A value is trying to be set on a copy of a slice from a DataFrame\n",
      "\n",
      "See the caveats in the documentation: https://pandas.pydata.org/pandas-docs/stable/user_guide/indexing.html#returning-a-view-versus-a-copy\n",
      "  tp.probacim[tp.probacim==\"\"]=0\n",
      "/tmp/ipykernel_228/3752751450.py:14: SettingWithCopyWarning: \n",
      "A value is trying to be set on a copy of a slice from a DataFrame\n",
      "\n",
      "See the caveats in the documentation: https://pandas.pydata.org/pandas-docs/stable/user_guide/indexing.html#returning-a-view-versus-a-copy\n",
      "  tp.probasp1[tp.probasp1==\"\"]=0\n"
     ]
    },
    {
     "data": {
      "text/html": [
       "<div>\n",
       "<style scoped>\n",
       "    .dataframe tbody tr th:only-of-type {\n",
       "        vertical-align: middle;\n",
       "    }\n",
       "\n",
       "    .dataframe tbody tr th {\n",
       "        vertical-align: top;\n",
       "    }\n",
       "\n",
       "    .dataframe thead th {\n",
       "        text-align: right;\n",
       "    }\n",
       "</style>\n",
       "<table border=\"1\" class=\"dataframe\">\n",
       "  <thead>\n",
       "    <tr style=\"text-align: right;\">\n",
       "      <th></th>\n",
       "      <th>FILENAME</th>\n",
       "      <th>LICENSE_NBR</th>\n",
       "      <th>TDPARTY_NAME</th>\n",
       "      <th>TDPARTY_ROLE</th>\n",
       "      <th>TDPARTY_COUNTRY</th>\n",
       "      <th>TDPARTY_ADDRESS</th>\n",
       "      <th>TDPARTY_ARP_ID</th>\n",
       "      <th>ARP_needreview</th>\n",
       "      <th>TDPARTY_FLAG</th>\n",
       "      <th>LICENSE_DIVISION</th>\n",
       "      <th>...</th>\n",
       "      <th>probasp1</th>\n",
       "      <th>cleanednamecountrysp1</th>\n",
       "      <th>nbcandidatesonnamesp1</th>\n",
       "      <th>TDPARTY_FLAG_Cleansed</th>\n",
       "      <th>bestidsp1</th>\n",
       "      <th>bestaddresssp1</th>\n",
       "      <th>probaaddresssp1</th>\n",
       "      <th>bestidcim</th>\n",
       "      <th>bestaddresscim</th>\n",
       "      <th>probaaddresscim</th>\n",
       "    </tr>\n",
       "  </thead>\n",
       "  <tbody>\n",
       "    <tr>\n",
       "      <th>3</th>\n",
       "      <td>httpsextentintraairbusdscorpws02029Programtabs...</td>\n",
       "      <td>D1172598</td>\n",
       "      <td>ESG Elektroniksystem-und-Logistik-GmbH</td>\n",
       "      <td>NaN</td>\n",
       "      <td>Germany</td>\n",
       "      <td>Livry-Gargan-Strasse 6</td>\n",
       "      <td>F86816,157017</td>\n",
       "      <td>OK</td>\n",
       "      <td>Approved end user(s)</td>\n",
       "      <td>ADS;AC</td>\n",
       "      <td>...</td>\n",
       "      <td>1.0</td>\n",
       "      <td></td>\n",
       "      <td>2</td>\n",
       "      <td>approved end user(s)</td>\n",
       "      <td>30202</td>\n",
       "      <td>livry-gargan-str. 6 82256 fürstenfeldbruck</td>\n",
       "      <td>0.0</td>\n",
       "      <td>105</td>\n",
       "      <td>211 frankfurter ring  80807 münchen</td>\n",
       "      <td>0.0</td>\n",
       "    </tr>\n",
       "    <tr>\n",
       "      <th>4</th>\n",
       "      <td>PCOMPLIANCEECFranceMAWSLI21000931210009312310A...</td>\n",
       "      <td>210009312310</td>\n",
       "      <td>Airbus</td>\n",
       "      <td>NaN</td>\n",
       "      <td>France</td>\n",
       "      <td>PO BOX B75-08 - 2 rond point Emile Dewoitine</td>\n",
       "      <td>135873</td>\n",
       "      <td>OK</td>\n",
       "      <td>Exportateur/Fournisseur</td>\n",
       "      <td>AC</td>\n",
       "      <td>...</td>\n",
       "      <td>1.0</td>\n",
       "      <td></td>\n",
       "      <td>6</td>\n",
       "      <td>exportateur/fournisseur</td>\n",
       "      <td>19150</td>\n",
       "      <td>2 rond point emile dewoitine 31707 blagnac</td>\n",
       "      <td>0.755929</td>\n",
       "      <td>1320</td>\n",
       "      <td>2, rond-point emile dewoitine  31700 blagnac</td>\n",
       "      <td>0.845154</td>\n",
       "    </tr>\n",
       "    <tr>\n",
       "      <th>8</th>\n",
       "      <td>PCOMPLIANCEECFranceICTLIGLO15001031Version6LIG...</td>\n",
       "      <td>150010311260</td>\n",
       "      <td>T-SYSTEMS ITC IBERIA SA</td>\n",
       "      <td>NaN</td>\n",
       "      <td>Espagne</td>\n",
       "      <td>NaN</td>\n",
       "      <td>NaN</td>\n",
       "      <td>OK</td>\n",
       "      <td>1er destinataire</td>\n",
       "      <td>AC</td>\n",
       "      <td>...</td>\n",
       "      <td>1.0</td>\n",
       "      <td></td>\n",
       "      <td>1</td>\n",
       "      <td>1er destinataire</td>\n",
       "      <td>20540</td>\n",
       "      <td>cl sancho de avila 110-130 08018 barcelona</td>\n",
       "      <td>0.0</td>\n",
       "      <td></td>\n",
       "      <td></td>\n",
       "      <td></td>\n",
       "    </tr>\n",
       "    <tr>\n",
       "      <th>10</th>\n",
       "      <td>httpsextentintraairbusdscorpws02029Programtabs...</td>\n",
       "      <td>D1156402</td>\n",
       "      <td>Airbus Operations GmbH</td>\n",
       "      <td>NaN</td>\n",
       "      <td>Germany</td>\n",
       "      <td>Kreetslag 10</td>\n",
       "      <td>D8518</td>\n",
       "      <td>OK</td>\n",
       "      <td>Approved End User(s)</td>\n",
       "      <td>ADS;AC</td>\n",
       "      <td>...</td>\n",
       "      <td>0.866025</td>\n",
       "      <td></td>\n",
       "      <td>10</td>\n",
       "      <td>approved end user(s)</td>\n",
       "      <td>11129</td>\n",
       "      <td>cl kreetslag 10 21129 hamburg</td>\n",
       "      <td>0.816497</td>\n",
       "      <td>1720</td>\n",
       "      <td>10 kreetslag  21129 hamburg</td>\n",
       "      <td>1.0</td>\n",
       "    </tr>\n",
       "    <tr>\n",
       "      <th>11</th>\n",
       "      <td>httpsextentintraairbusdscorpws02029Programtabs...</td>\n",
       "      <td>D1229720</td>\n",
       "      <td>Thales UK Limited</td>\n",
       "      <td>NaN</td>\n",
       "      <td>United Kingdom</td>\n",
       "      <td>Manor Royal, Crawley</td>\n",
       "      <td>F85490,F85796</td>\n",
       "      <td>OK</td>\n",
       "      <td>Approved End User(s)</td>\n",
       "      <td>ADS;AC</td>\n",
       "      <td>...</td>\n",
       "      <td>0.866025</td>\n",
       "      <td></td>\n",
       "      <td>6</td>\n",
       "      <td>approved end user(s)</td>\n",
       "      <td>40029</td>\n",
       "      <td>manor royal rh109ha crawley</td>\n",
       "      <td>0.707107</td>\n",
       "      <td>48</td>\n",
       "      <td></td>\n",
       "      <td>0.0</td>\n",
       "    </tr>\n",
       "    <tr>\n",
       "      <th>...</th>\n",
       "      <td>...</td>\n",
       "      <td>...</td>\n",
       "      <td>...</td>\n",
       "      <td>...</td>\n",
       "      <td>...</td>\n",
       "      <td>...</td>\n",
       "      <td>...</td>\n",
       "      <td>...</td>\n",
       "      <td>...</td>\n",
       "      <td>...</td>\n",
       "      <td>...</td>\n",
       "      <td>...</td>\n",
       "      <td>...</td>\n",
       "      <td>...</td>\n",
       "      <td>...</td>\n",
       "      <td>...</td>\n",
       "      <td>...</td>\n",
       "      <td>...</td>\n",
       "      <td>...</td>\n",
       "      <td>...</td>\n",
       "      <td>...</td>\n",
       "    </tr>\n",
       "    <tr>\n",
       "      <th>8606</th>\n",
       "      <td>PCOMPLIANCEECFranceICTLIGLO15001031Version7LIG...</td>\n",
       "      <td>150010311270</td>\n",
       "      <td>Computacenter AG &amp; Co KG</td>\n",
       "      <td>NaN</td>\n",
       "      <td>ALLEMAGNE</td>\n",
       "      <td>NaN</td>\n",
       "      <td>NaN</td>\n",
       "      <td>OK</td>\n",
       "      <td>1er destinataire</td>\n",
       "      <td>AC</td>\n",
       "      <td>...</td>\n",
       "      <td>0.866025</td>\n",
       "      <td></td>\n",
       "      <td>2</td>\n",
       "      <td>1er destinataire</td>\n",
       "      <td>23188</td>\n",
       "      <td>sachsenkamp 4 20097 hamburg</td>\n",
       "      <td>0.0</td>\n",
       "      <td>1303</td>\n",
       "      <td>helbronner straße 165  70191 stuttgart</td>\n",
       "      <td>0.0</td>\n",
       "    </tr>\n",
       "    <tr>\n",
       "      <th>8607</th>\n",
       "      <td>PCOMPLIANCEECFranceICTLIGLO15001031Version7LIG...</td>\n",
       "      <td>150010311270</td>\n",
       "      <td>DIMENSION Data Germany AG &amp; CO KG</td>\n",
       "      <td>NaN</td>\n",
       "      <td>ALLEMAGNE</td>\n",
       "      <td>NaN</td>\n",
       "      <td>NaN</td>\n",
       "      <td>OK</td>\n",
       "      <td>1er destinataire</td>\n",
       "      <td>AC</td>\n",
       "      <td>...</td>\n",
       "      <td>1.0</td>\n",
       "      <td></td>\n",
       "      <td>2</td>\n",
       "      <td>1er destinataire</td>\n",
       "      <td>22699</td>\n",
       "      <td>horexstr. 7 61352 bad homburg</td>\n",
       "      <td>0.0</td>\n",
       "      <td>1303</td>\n",
       "      <td>helbronner straße 165  70191 stuttgart</td>\n",
       "      <td>0.0</td>\n",
       "    </tr>\n",
       "    <tr>\n",
       "      <th>8608</th>\n",
       "      <td>OCOMPLIANCEGRXAUTHORIZATIONSMILITARYEUROFIGHTE...</td>\n",
       "      <td>40141756</td>\n",
       "      <td>BAE SYSTEMS</td>\n",
       "      <td>NaN</td>\n",
       "      <td>VEREINIGTES KOENIGREICH</td>\n",
       "      <td>Warton Aerodrome</td>\n",
       "      <td>NaN</td>\n",
       "      <td>OK</td>\n",
       "      <td>Empfänger</td>\n",
       "      <td>AC</td>\n",
       "      <td>...</td>\n",
       "      <td>0.866025</td>\n",
       "      <td></td>\n",
       "      <td>18</td>\n",
       "      <td>empfänger</td>\n",
       "      <td>9658</td>\n",
       "      <td>warton aerodrome pr4 1ax preston</td>\n",
       "      <td>1.0</td>\n",
       "      <td>501</td>\n",
       "      <td>41, st. james place  sw1a 1ns london</td>\n",
       "      <td>0.0</td>\n",
       "    </tr>\n",
       "    <tr>\n",
       "      <th>8609</th>\n",
       "      <td>OCOMPLIANCEGRXAUTHORIZATIONSMILITARYEUROFIGHTE...</td>\n",
       "      <td>40227391</td>\n",
       "      <td>BAE Systems</td>\n",
       "      <td>NaN</td>\n",
       "      <td>Vereinigtes Königreich</td>\n",
       "      <td>Samlesbury Aerodrome</td>\n",
       "      <td>NaN</td>\n",
       "      <td>OK</td>\n",
       "      <td>Empfänger</td>\n",
       "      <td>AC</td>\n",
       "      <td>...</td>\n",
       "      <td>0.866025</td>\n",
       "      <td></td>\n",
       "      <td>18</td>\n",
       "      <td>empfänger</td>\n",
       "      <td>314</td>\n",
       "      <td>woodford aerodrome sk7 1qr woodford</td>\n",
       "      <td>0.0</td>\n",
       "      <td>501</td>\n",
       "      <td>41, st. james place  sw1a 1ns london</td>\n",
       "      <td>0.0</td>\n",
       "    </tr>\n",
       "    <tr>\n",
       "      <th>8613</th>\n",
       "      <td>INToDEMilitaryA400MMRTTC29506072025pdf</td>\n",
       "      <td>EA20234846DEPC</td>\n",
       "      <td>AIRBUS OPERATIONS GMBH</td>\n",
       "      <td>NaN</td>\n",
       "      <td>GERMANY</td>\n",
       "      <td>KREETSLAG 10</td>\n",
       "      <td>NaN</td>\n",
       "      <td>OK</td>\n",
       "      <td>Foreign Buyer</td>\n",
       "      <td>AC</td>\n",
       "      <td>...</td>\n",
       "      <td>0.866025</td>\n",
       "      <td></td>\n",
       "      <td>10</td>\n",
       "      <td>foreign buyer</td>\n",
       "      <td>11129</td>\n",
       "      <td>cl kreetslag 10 21129 hamburg</td>\n",
       "      <td>0.816497</td>\n",
       "      <td>1720</td>\n",
       "      <td>10 kreetslag  21129 hamburg</td>\n",
       "      <td>1.0</td>\n",
       "    </tr>\n",
       "  </tbody>\n",
       "</table>\n",
       "<p>3861 rows × 37 columns</p>\n",
       "</div>"
      ],
      "text/plain": [
       "                                               FILENAME     LICENSE_NBR  \\\n",
       "3     httpsextentintraairbusdscorpws02029Programtabs...        D1172598   \n",
       "4     PCOMPLIANCEECFranceMAWSLI21000931210009312310A...    210009312310   \n",
       "8     PCOMPLIANCEECFranceICTLIGLO15001031Version6LIG...    150010311260   \n",
       "10    httpsextentintraairbusdscorpws02029Programtabs...        D1156402   \n",
       "11    httpsextentintraairbusdscorpws02029Programtabs...        D1229720   \n",
       "...                                                 ...             ...   \n",
       "8606  PCOMPLIANCEECFranceICTLIGLO15001031Version7LIG...    150010311270   \n",
       "8607  PCOMPLIANCEECFranceICTLIGLO15001031Version7LIG...    150010311270   \n",
       "8608  OCOMPLIANCEGRXAUTHORIZATIONSMILITARYEUROFIGHTE...        40141756   \n",
       "8609  OCOMPLIANCEGRXAUTHORIZATIONSMILITARYEUROFIGHTE...        40227391   \n",
       "8613             INToDEMilitaryA400MMRTTC29506072025pdf  EA20234846DEPC   \n",
       "\n",
       "                                TDPARTY_NAME TDPARTY_ROLE  \\\n",
       "3     ESG Elektroniksystem-und-Logistik-GmbH          NaN   \n",
       "4                                     Airbus          NaN   \n",
       "8                    T-SYSTEMS ITC IBERIA SA          NaN   \n",
       "10                    Airbus Operations GmbH          NaN   \n",
       "11                         Thales UK Limited          NaN   \n",
       "...                                      ...          ...   \n",
       "8606                Computacenter AG & Co KG          NaN   \n",
       "8607       DIMENSION Data Germany AG & CO KG          NaN   \n",
       "8608                             BAE SYSTEMS          NaN   \n",
       "8609                             BAE Systems          NaN   \n",
       "8613                  AIRBUS OPERATIONS GMBH          NaN   \n",
       "\n",
       "              TDPARTY_COUNTRY                               TDPARTY_ADDRESS  \\\n",
       "3                     Germany                        Livry-Gargan-Strasse 6   \n",
       "4                      France  PO BOX B75-08 - 2 rond point Emile Dewoitine   \n",
       "8                     Espagne                                           NaN   \n",
       "10                    Germany                                  Kreetslag 10   \n",
       "11             United Kingdom                          Manor Royal, Crawley   \n",
       "...                       ...                                           ...   \n",
       "8606                ALLEMAGNE                                           NaN   \n",
       "8607                ALLEMAGNE                                           NaN   \n",
       "8608  VEREINIGTES KOENIGREICH                              Warton Aerodrome   \n",
       "8609   Vereinigtes Königreich                          Samlesbury Aerodrome   \n",
       "8613                  GERMANY                                  KREETSLAG 10   \n",
       "\n",
       "     TDPARTY_ARP_ID ARP_needreview             TDPARTY_FLAG LICENSE_DIVISION  \\\n",
       "3     F86816,157017             OK     Approved end user(s)           ADS;AC   \n",
       "4            135873             OK  Exportateur/Fournisseur               AC   \n",
       "8               NaN             OK         1er destinataire               AC   \n",
       "10            D8518             OK     Approved End User(s)           ADS;AC   \n",
       "11    F85490,F85796             OK     Approved End User(s)           ADS;AC   \n",
       "...             ...            ...                      ...              ...   \n",
       "8606            NaN             OK         1er destinataire               AC   \n",
       "8607            NaN             OK         1er destinataire               AC   \n",
       "8608            NaN             OK                Empfänger               AC   \n",
       "8609            NaN             OK                Empfänger               AC   \n",
       "8613            NaN             OK            Foreign Buyer               AC   \n",
       "\n",
       "      ...  probasp1 cleanednamecountrysp1 nbcandidatesonnamesp1  \\\n",
       "3     ...       1.0                                           2   \n",
       "4     ...       1.0                                           6   \n",
       "8     ...       1.0                                           1   \n",
       "10    ...  0.866025                                          10   \n",
       "11    ...  0.866025                                           6   \n",
       "...   ...       ...                   ...                   ...   \n",
       "8606  ...  0.866025                                           2   \n",
       "8607  ...       1.0                                           2   \n",
       "8608  ...  0.866025                                          18   \n",
       "8609  ...  0.866025                                          18   \n",
       "8613  ...  0.866025                                          10   \n",
       "\n",
       "        TDPARTY_FLAG_Cleansed  bestidsp1  \\\n",
       "3        approved end user(s)      30202   \n",
       "4     exportateur/fournisseur      19150   \n",
       "8            1er destinataire      20540   \n",
       "10       approved end user(s)      11129   \n",
       "11       approved end user(s)      40029   \n",
       "...                       ...        ...   \n",
       "8606         1er destinataire      23188   \n",
       "8607         1er destinataire      22699   \n",
       "8608                empfänger       9658   \n",
       "8609                empfänger        314   \n",
       "8613            foreign buyer      11129   \n",
       "\n",
       "                                  bestaddresssp1 probaaddresssp1 bestidcim  \\\n",
       "3     livry-gargan-str. 6 82256 fürstenfeldbruck             0.0       105   \n",
       "4     2 rond point emile dewoitine 31707 blagnac        0.755929      1320   \n",
       "8     cl sancho de avila 110-130 08018 barcelona             0.0             \n",
       "10                 cl kreetslag 10 21129 hamburg        0.816497      1720   \n",
       "11                   manor royal rh109ha crawley        0.707107        48   \n",
       "...                                          ...             ...       ...   \n",
       "8606                 sachsenkamp 4 20097 hamburg             0.0      1303   \n",
       "8607               horexstr. 7 61352 bad homburg             0.0      1303   \n",
       "8608            warton aerodrome pr4 1ax preston             1.0       501   \n",
       "8609         woodford aerodrome sk7 1qr woodford             0.0       501   \n",
       "8613               cl kreetslag 10 21129 hamburg        0.816497      1720   \n",
       "\n",
       "                                    bestaddresscim probaaddresscim  \n",
       "3              211 frankfurter ring  80807 münchen             0.0  \n",
       "4     2, rond-point emile dewoitine  31700 blagnac        0.845154  \n",
       "8                                                                   \n",
       "10                     10 kreetslag  21129 hamburg             1.0  \n",
       "11                                                             0.0  \n",
       "...                                            ...             ...  \n",
       "8606        helbronner straße 165  70191 stuttgart             0.0  \n",
       "8607        helbronner straße 165  70191 stuttgart             0.0  \n",
       "8608          41, st. james place  sw1a 1ns london             0.0  \n",
       "8609          41, st. james place  sw1a 1ns london             0.0  \n",
       "8613                   10 kreetslag  21129 hamburg             1.0  \n",
       "\n",
       "[3861 rows x 37 columns]"
      ]
     },
     "execution_count": 28,
     "metadata": {},
     "output_type": "execute_result"
    }
   ],
   "source": [
    "tpjoin=set(tp.TDPARTY_NAME.str.lower())\n",
    "cimjoin=set(cim.Name.str.lower())\n",
    "\n",
    "len(tpjoin.intersection(cimjoin))\n",
    "tp.probacim[tp.probacim==\"\"]=0\n",
    "tp.probacim.astype(float)\n",
    "len(tp[tp.probacim>.82].TDPARTY_NAME.str.lower().unique())\n",
    "\n",
    "\n",
    "\n",
    "sp1join=set(sp1.supp_name.str.lower())\n",
    "\n",
    "print(\"sp1\",len(tpjoin.intersection(sp1join)))\n",
    "tp.probasp1[tp.probasp1==\"\"]=0\n",
    "tp.probasp1.astype(float)\n",
    "len(tp[tp.probasp1>.82].TDPARTY_NAME.str.lower().unique())\n",
    "tp[tp.probasp1>0.82]\n",
    "\n"
   ]
  },
  {
   "cell_type": "code",
   "execution_count": 30,
   "id": "79e3434f-4258-40b3-8e42-e68c469ef05b",
   "metadata": {},
   "outputs": [
    {
     "name": "stdout",
     "output_type": "stream",
     "text": [
      "(array([  10,   10,   10, ..., 8613, 8613, 8613]), array([ 434, 1568, 1571, ..., 1661, 1720, 1867]))\n",
      "kreetslag 10 21129 hamburg\n",
      "kreetslag 10,  21129 hamburg\n",
      "==> airbus operations  germany\n",
      "mpca multi purpose mmuter aircraft  germany\n",
      "airbus aerostructures  germany\n",
      "airbus  germany\n",
      "airbus operations  germany\n"
     ]
    }
   ],
   "source": [
    "similarityaddresscim=cosine_similarity(tpaddressvect,cimaddressvect)\n",
    "similarityaddresssp1=cosine_similarity(tpaddressvect,sp1addressvect)\n",
    "print(np.where(similarityaddresscim>.9))\n",
    "print(tp.iloc[10,:].CleansedAddress)\n",
    "print(cim.iloc[434,:].CleansedAddress)\n",
    "print(\"==>\",tp.iloc[10,:].NameCountryCleansed)\n",
    "print(cim.iloc[434,:].NameCountryCleansed)\n",
    "print(cim.iloc[1568,:].NameCountryCleansed)\n",
    "print(cim.iloc[1571,:].NameCountryCleansed)\n",
    "print(cim.iloc[1720,:].NameCountryCleansed)\n",
    "\n",
    "#print(globalsimilaritycim[10,1720])\n",
    "#argmaxglobalsimilaritycim[10]"
   ]
  },
  {
   "cell_type": "code",
   "execution_count": 35,
   "id": "515d12f7-ccb2-4662-b33a-1e2c430f98a1",
   "metadata": {},
   "outputs": [],
   "source": [
    "globalsimilaritycim=similaritycim*2+similarityaddresscim\n",
    "argmaxglobalsimilaritycim=np.argmax(globalsimilaritycim,axis=1)\n",
    "secondglobalsimilaritycim=globalsimilaritycim.copy()\n",
    "\n",
    "for i in range(len(argmaxglobalsimilaritycim)):\n",
    "    secondglobalsimilaritycim[i,argmaxglobalsimilaritycim[i]]=0\n",
    "\n",
    "secondargmaxglobalsimilaritycim=np.argmax(secondglobalsimilaritycim,axis=1)\n",
    "\n",
    "\n",
    "premiereprop=[]\n",
    "sdeprop=[]\n",
    "\n",
    "ceilgreen=2.64\n",
    "ceilamber=2.0\n",
    "matchratecim=np.zeros(len(tp))\n",
    "\n",
    "with open(\"proposition-cim.html\", \"w\") as my_file:\n",
    "    my_file.write(\"<head>\")\n",
    "    my_file.write(\"<style>\")\n",
    "    my_file.write(\".green{background-color: #DAF7A6; }\")\n",
    "    my_file.write(\".red{background-color:  #f7bccd ; }\")\n",
    "    my_file.write(\".amber{background-color: #FFC300; }\")\n",
    "    my_file.write(\"</style>\")\n",
    "    my_file.write(\"<head>\")\n",
    "    my_file.write(\"<body>\")\n",
    "    my_file.write(\"<table>\\n\")\n",
    "    my_file.write(\"<tr>\\n\")\n",
    "    my_file.write(\"<th width=300>Name License Third party\")\n",
    "    my_file.write(\"</th>\")\n",
    "    my_file.write(\"<th width=400>Address License Third Party\")\n",
    "    my_file.write(\"</th>\")\n",
    "    my_file.write(\"<th width=300>Name CIM\")\n",
    "    my_file.write(\"</th>\")\n",
    "    my_file.write(\"<th width=400>Address CIM\")\n",
    "    my_file.write(\"</th>\")\n",
    "    my_file.write(\"<th width=30>Rating\")\n",
    "    my_file.write(\"</th>\")\n",
    "    my_file.write(\"</tr>\")\n",
    "      \n",
    "    #argmaxglobalsimilaritycim\n",
    "    bestmatch=[]\n",
    "    for i in range(len(tp)):\n",
    "        idxtp=tp.iloc[i,:].name\n",
    "        j=argmaxglobalsimilaritycim[i]\n",
    "        rate=globalsimilaritycim[i,j]\n",
    "        matchratecim[i]=rate\n",
    "        if rate>ceilgreen:\n",
    "            style=\"green\"\n",
    "        elif rate>ceilamber:\n",
    "            style=\"amber\"\n",
    "        else :\n",
    "            style=\"red\"\n",
    "        my_file.write(\"<tr class=\\\"\"+style+\"\\\">\\n\")\n",
    "        idxcim=cim.iloc[j,:].name\n",
    "        tupletpcim=(idxtp,idxcim)\n",
    "        bestmatch.append(tupletpcim)\n",
    "        my_file.write(\"<td rowspan=2>\")\n",
    "        my_file.write(tp.loc[idxtp,\"TDPARTY_NAME\"])\n",
    "        my_file.write(\"</td>\")\n",
    "        my_file.write(\"<td rowspan=2>\")\n",
    "        my_file.write(tp.loc[idxtp,\"CleansedAddress\"])\n",
    "        my_file.write(\"</td>\")\n",
    "        my_file.write(\"<td>\")\n",
    "        my_file.write(cim.loc[idxcim,\"Name\"])\n",
    "        my_file.write(\"</td>\")\n",
    "        my_file.write(\"<td>\")\n",
    "        my_file.write(cim.loc[idxcim,\"CleansedAddress\"])\n",
    "        my_file.write(\"</td>\")\n",
    "        my_file.write(\"<td>\")\n",
    "        my_file.write('{0:.2f}'.format(rate))\n",
    "        my_file.write(\"</td>\")\n",
    "        my_file.write(\"</tr>\\n\")\n",
    "\n",
    "        j=secondargmaxglobalsimilaritycim[i]\n",
    "        rate=globalsimilaritycim[i,j]\n",
    "        if rate>ceilgreen:\n",
    "            style=\"green\"\n",
    "        elif rate>ceilamber:\n",
    "            style=\"amber\"\n",
    "        else :\n",
    "            style=\"red\"\n",
    "        my_file.write(\"<tr class=\\\"\"+style+\"\\\">\\n\")\n",
    "        idxcim=cim.iloc[j,:].name\n",
    "        tupletpcim=(idxtp,idxcim)\n",
    "        bestmatch.append(tupletpcim)\n",
    "        my_file.write(\"<td>\")\n",
    "        my_file.write(cim.loc[idxcim,\"Name\"])\n",
    "        my_file.write(\"</td>\")\n",
    "        my_file.write(\"<td>\")\n",
    "        my_file.write(cim.loc[idxcim,\"CleansedAddress\"])\n",
    "        my_file.write(\"</td>\")\n",
    "        my_file.write(\"<td>\")\n",
    "        my_file.write('{0:.2f}'.format(rate))\n",
    "        my_file.write(\"</td>\")\n",
    "        my_file.write(\"</tr>\\n\")\n",
    "\n",
    "    my_file.write(\"</table>\\n\")\n",
    "    my_file.write(\"</body>\\n\")\n",
    "    my_file.close()"
   ]
  },
  {
   "cell_type": "code",
   "execution_count": 46,
   "id": "fae86b88-63ee-4cb0-bcce-f210178d9f2b",
   "metadata": {},
   "outputs": [
    {
     "data": {
      "text/plain": [
       "0.06942187137218482"
      ]
     },
     "execution_count": 46,
     "metadata": {},
     "output_type": "execute_result"
    }
   ],
   "source": [
    "#plt.hist(matchratecim)\n",
    "#plt.show()\n",
    "sum(matchratecim>ceilgreen)/len(matchratecim)"
   ]
  },
  {
   "cell_type": "code",
   "execution_count": 1,
   "id": "a3ea755b-83bb-4d2d-9113-82a30bb7c9ee",
   "metadata": {},
   "outputs": [
    {
     "ename": "NameError",
     "evalue": "name 'similaritysp1' is not defined",
     "output_type": "error",
     "traceback": [
      "\u001b[0;31m---------------------------------------------------------------------------\u001b[0m",
      "\u001b[0;31mNameError\u001b[0m                                 Traceback (most recent call last)",
      "Cell \u001b[0;32mIn[1], line 1\u001b[0m\n\u001b[0;32m----> 1\u001b[0m globalsimilaritysp1\u001b[38;5;241m=\u001b[39m\u001b[43msimilaritysp1\u001b[49m\u001b[38;5;241m*\u001b[39m\u001b[38;5;241m2\u001b[39m\u001b[38;5;241m+\u001b[39msimilarityaddresssp1\n\u001b[1;32m      2\u001b[0m argmaxglobalsimilaritysp1\u001b[38;5;241m=\u001b[39mnp\u001b[38;5;241m.\u001b[39margmax(globalsimilaritysp1,axis\u001b[38;5;241m=\u001b[39m\u001b[38;5;241m1\u001b[39m)\n\u001b[1;32m      3\u001b[0m secondglobalsimilaritysp1\u001b[38;5;241m=\u001b[39mglobalsimilaritysp1\u001b[38;5;241m.\u001b[39mcopy()\n",
      "\u001b[0;31mNameError\u001b[0m: name 'similaritysp1' is not defined"
     ]
    }
   ],
   "source": [
    "globalsimilaritysp1=similaritysp1*2+similarityaddresssp1\n",
    "argmaxglobalsimilaritysp1=np.argmax(globalsimilaritysp1,axis=1)\n",
    "secondglobalsimilaritysp1=globalsimilaritysp1.copy()\n",
    "\n",
    "for i in range(len(argmaxglobalsimilaritysp1)):\n",
    "    secondglobalsimilaritysp1[i,argmaxglobalsimilaritysp1[i]]=0\n",
    "\n",
    "secondargmaxglobalsimilaritysp1=np.argmax(secondglobalsimilaritysp1,axis=1)\n",
    "\n",
    "\n",
    "premiereprop=[]\n",
    "sdeprop=[]\n",
    "\n",
    "ceilgreen=2.4\n",
    "ceilamber=2.0\n",
    "\n",
    "matchratesp1=np.zeros(len(tp))\n",
    "\n",
    "\n",
    "with open(\"proposition-sp1.html\", \"w\") as sp1matchfile:\n",
    "    sp1matchfile.write(\"<head>\")\n",
    "    sp1matchfile.write(\"<style>\")\n",
    "    sp1matchfile.write(\".green{background-color: #DAF7A6; }\")\n",
    "    sp1matchfile.write(\".red{background-color:  #f7bccd ; }\")\n",
    "    sp1matchfile.write(\".amber{background-color: #FFC300; }\")\n",
    "    sp1matchfile.write(\"</style>\")\n",
    "    sp1matchfile.write(\"<head>\")\n",
    "    sp1matchfile.write(\"<body>\")\n",
    "    sp1matchfile.write(\"<table>\\n\")\n",
    "    sp1matchfile.write(\"<tr>\\n\")\n",
    "    sp1matchfile.write(\"<th width=300>Name License Third party\")\n",
    "    sp1matchfile.write(\"</th>\")\n",
    "    sp1matchfile.write(\"<th width=400>Address License Third Party\")\n",
    "    sp1matchfile.write(\"</th>\")\n",
    "    sp1matchfile.write(\"<th width=300>Name sp1\")\n",
    "    sp1matchfile.write(\"</th>\")\n",
    "    sp1matchfile.write(\"<th width=400>Address sp1\")\n",
    "    sp1matchfile.write(\"</th>\")\n",
    "    sp1matchfile.write(\"<th width=30>Rating\")\n",
    "    sp1matchfile.write(\"</th>\")\n",
    "    sp1matchfile.write(\"</tr>\")\n",
    "      \n",
    "    #argmaxglobalsimilaritysp1\n",
    "    bestmatch=[]\n",
    "    for i in range(len(tp)):\n",
    " #       print(i)\n",
    "        idxtp=tp.iloc[i,:].name\n",
    "        j=argmaxglobalsimilaritysp1[i]\n",
    "        rate=globalsimilaritysp1[i,j]\n",
    "        matchratesp1[i]=rate\n",
    "        if rate>ceilgreen:\n",
    "            style=\"green\"\n",
    "        elif rate>ceilamber:\n",
    "            style=\"amber\"\n",
    "        else :\n",
    "            style=\"red\"\n",
    "        sp1matchfile.write(\"<tr class=\\\"\"+style+\"\\\">\\n\")\n",
    "        idxsp1=sp1.iloc[j,:].name\n",
    "        tupletpsp1=(idxtp,idxsp1)\n",
    "        bestmatch.append(tupletpsp1)\n",
    "        sp1matchfile.write(\"<td rowspan=2>\")\n",
    "        sp1matchfile.write(tp.loc[idxtp,\"TDPARTY_NAME\"])\n",
    "        sp1matchfile.write(\"</td>\")\n",
    "        sp1matchfile.write(\"<td rowspan=2>\")\n",
    "        sp1matchfile.write(tp.loc[idxtp,\"CleansedAddress\"])\n",
    "        sp1matchfile.write(\"</td>\")\n",
    "        sp1matchfile.write(\"<td>\")\n",
    "        sp1matchfile.write(sp1.loc[idxsp1,\"supp_name\"])\n",
    "        sp1matchfile.write(\"</td>\")\n",
    "        sp1matchfile.write(\"<td>\")\n",
    "        sp1matchfile.write(sp1.loc[idxsp1,\"CleansedAddress\"])\n",
    "        sp1matchfile.write(\"</td>\")\n",
    "        sp1matchfile.write(\"<td>\")\n",
    "        sp1matchfile.write('{0:.2f}'.format(rate))\n",
    "        sp1matchfile.write(\"</td>\")\n",
    "        sp1matchfile.write(\"</tr>\\n\")\n",
    "\n",
    "        j=secondargmaxglobalsimilaritysp1[i]\n",
    "        rate=globalsimilaritysp1[i,j]\n",
    "        if rate>ceilgreen:\n",
    "            style=\"green\"\n",
    "        elif rate>ceilamber:\n",
    "            style=\"amber\"\n",
    "        else :\n",
    "            style=\"red\"\n",
    "        sp1matchfile.write(\"<tr class=\\\"\"+style+\"\\\">\\n\")\n",
    "        idxsp1=sp1.iloc[j,:].name\n",
    "        tupletpsp1=(idxtp,idxsp1)\n",
    "        bestmatch.append(tupletpsp1)\n",
    "        sp1matchfile.write(\"<td>\")\n",
    "        sp1matchfile.write(sp1.loc[idxsp1,\"supp_name\"])\n",
    "        sp1matchfile.write(\"</td>\")\n",
    "        sp1matchfile.write(\"<td>\")\n",
    "        sp1matchfile.write(sp1.loc[idxsp1,\"CleansedAddress\"])\n",
    "        sp1matchfile.write(\"</td>\")\n",
    "        sp1matchfile.write(\"<td>\")\n",
    "        sp1matchfile.write('{0:.2f}'.format(rate))\n",
    "        sp1matchfile.write(\"</td>\")\n",
    "        sp1matchfile.write(\"</tr>\\n\")\n",
    "\n",
    "    sp1matchfile.write(\"</table>\\n\")\n",
    "    sp1matchfile.write(\"</body>\\n\")\n",
    "    sp1matchfile.close()"
   ]
  },
  {
   "cell_type": "code",
   "execution_count": 48,
   "id": "4d4fe55d-10bc-4828-bacc-492488edc1e0",
   "metadata": {},
   "outputs": [
    {
     "data": {
      "image/png": "[encoded data removed]",
      "text/plain": [
       "<Figure size 640x480 with 1 Axes>"
      ]
     },
     "metadata": {},
     "output_type": "display_data"
    },
    {
     "data": {
      "text/plain": [
       "8614"
      ]
     },
     "execution_count": 48,
     "metadata": {},
     "output_type": "execute_result"
    }
   ],
   "source": [
    "plt.hist(matchratesp1)\n",
    "plt.show()\n",
    "sum(matchratesp1>ceilgreen)/len(matchratesp1)\n",
    "len(tp)"
   ]
  }
 ],
 "metadata": {
  "kernelspec": {
   "display_name": "Python 3 (ipykernel)",
   "language": "python",
   "name": "python3"
  },
  "language_info": {
   "codemirror_mode": {
    "name": "ipython",
    "version": 3
   },
   "file_extension": ".py",
   "mimetype": "text/x-python",
   "name": "python",
   "nbconvert_exporter": "python",
   "pygments_lexer": "ipython3",
   "version": "3.11.6"
  }
 },
 "nbformat": 4,
 "nbformat_minor": 5
}
