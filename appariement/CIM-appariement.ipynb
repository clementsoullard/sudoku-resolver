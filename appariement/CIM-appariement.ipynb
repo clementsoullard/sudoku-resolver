{
 "cells": [
  {
   "cell_type": "code",
   "execution_count": 1,
   "id": "e170f231-319f-4f29-bd06-fb39de566fc0",
   "metadata": {
    "editable": true,
    "slideshow": {
     "slide_type": ""
    },
    "tags": []
   },
   "outputs": [
    {
     "name": "stderr",
     "output_type": "stream",
     "text": [
      "/tmp/ipykernel_1527/2677971196.py:5: DeprecationWarning: Importing display from IPython.core.display is deprecated since IPython 7.14, please import from IPython display\n",
      "  from IPython.core.display import display, HTML\n"
     ]
    }
   ],
   "source": [
    "import pandas as pd\n",
    "import numpy as np\n",
    "import re\n",
    "# loading the sources files\n",
    "from IPython.core.display import display, HTML\n",
    "tp=pd.read_csv(\"20231211-Filtered-TPs.csv\")\n",
    "cim=pd.read_csv(\"20231130-CIM-report.csv\")\n",
    "sp1=pd.read_csv(\"20231211-SP1.csv\")\n",
    "#For future reference\n",
    "leninitp=len(tp)\n",
    "leninicim=len(cim)\n",
    "leninisp1=len(sp1)\n",
    "\n"
   ]
  },
  {
   "cell_type": "code",
   "execution_count": 2,
   "id": "5744df88-7c8d-43ad-9f74-01473acb920e",
   "metadata": {},
   "outputs": [
    {
     "data": {
      "text/html": [
       "<h1>Stats</h1>"
      ],
      "text/plain": [
       "<IPython.core.display.HTML object>"
      ]
     },
     "metadata": {},
     "output_type": "display_data"
    },
    {
     "data": {
      "text/html": [
       "<b>Third parties in licenses # : </b>8614"
      ],
      "text/plain": [
       "<IPython.core.display.HTML object>"
      ]
     },
     "metadata": {},
     "output_type": "display_data"
    },
    {
     "data": {
      "text/html": [
       "<b>Supplier in CIM # : </b>1885"
      ],
      "text/plain": [
       "<IPython.core.display.HTML object>"
      ]
     },
     "metadata": {},
     "output_type": "display_data"
    },
    {
     "data": {
      "text/html": [
       "<b>Supplier in SP1 # : </b>49051"
      ],
      "text/plain": [
       "<IPython.core.display.HTML object>"
      ]
     },
     "metadata": {},
     "output_type": "display_data"
    }
   ],
   "source": [
    "#Read third party, filter on AC division\n",
    "tp.columns\n",
    "tp.head()\n",
    "tp[['TDPARTY_NAME','TDPARTY_ADDRESS','TDPARTY_POSTAL_CODE',\"TDPARTY_CITY\",\"TDPARTY_COUNTRY\", 'TDPARTY_PROGRAM']]\n",
    "# Filtrage uniquement sur les third party AC\n",
    "display(HTML('<h1>Stats</h1>'))\n",
    "display(HTML('<b>Third parties in licenses # : </b>'+str(leninitp)))\n",
    "display(HTML('<b>Supplier in CIM # : </b>'+str(leninicim)))\n",
    "display(HTML('<b>Supplier in SP1 # : </b>'+str(leninisp1)))\n"
   ]
  },
  {
   "cell_type": "code",
   "execution_count": 3,
   "id": "bc94aa6b-df2c-49c0-a784-d490ec2acf24",
   "metadata": {},
   "outputs": [
    {
     "name": "stderr",
     "output_type": "stream",
     "text": [
      "/tmp/ipykernel_1527/1498682475.py:8: SettingWithCopyWarning: \n",
      "A value is trying to be set on a copy of a slice from a DataFrame.\n",
      "Try using .loc[row_indexer,col_indexer] = value instead\n",
      "\n",
      "See the caveats in the documentation: https://pandas.pydata.org/pandas-docs/stable/user_guide/indexing.html#returning-a-view-versus-a-copy\n",
      "  replacements.originalcountry=replacements.originalcountry\n",
      "/tmp/ipykernel_1527/1498682475.py:9: SettingWithCopyWarning: \n",
      "A value is trying to be set on a copy of a slice from a DataFrame.\n",
      "Try using .loc[row_indexer,col_indexer] = value instead\n",
      "\n",
      "See the caveats in the documentation: https://pandas.pydata.org/pandas-docs/stable/user_guide/indexing.html#returning-a-view-versus-a-copy\n",
      "  replacements.tobename=\" \"+replacements.tobename\n"
     ]
    }
   ],
   "source": [
    "# The country file is used to provide a mapping to all country representation (language and typo). \n",
    "countries=pd.read_csv(\"countries.csv\",index_col=0)\n",
    "# Select the countries when there is a need to substitute\n",
    "replacements=countries[countries.originalcountry!=countries.tobename]\n",
    "# Convert the mapping adding some pattern to avoid unwanted replacement \n",
    "# (To avoid Airbus is replaced by Airbus Airbusa because us represent the coutry usa)\n",
    "#replacements.originalcountry=\"[\\\\s^]\"+replacements.originalcountry+\"[\\\\s$]\"\n",
    "replacements.originalcountry=replacements.originalcountry\n",
    "replacements.tobename=\" \"+replacements.tobename\n",
    "# Replacement of countries to unifed representation (independant from tongue and typo)\n",
    "replacements=replacements.set_index('originalcountry')\n",
    "replacements.tobename=replacements.tobename.replace(\"\\s\",\"\",regex=True)\n",
    "# Converting to dict\n",
    "replacements=replacements.tobename.to_dict()\n",
    "\n",
    "# Create a single pattern doing all replacement to apply once on every line (for efficency)\n",
    "rep = dict((re.escape(k), v) for k, v in replacements.items()) \n",
    "pattern = re.compile(\"|\".join(rep.keys()))\n"
   ]
  },
  {
   "cell_type": "code",
   "execution_count": 4,
   "id": "7095222b-f352-4766-a091-ec1690be752d",
   "metadata": {},
   "outputs": [],
   "source": [
    "# Function to clean the name of the commany and creating a column for representation of name + country\n",
    "def cleanCountryAndName(df):\n",
    "    dftoreplace=df\n",
    "    dftoreplace.CountryCleansed=dftoreplace.CountryCleansed.mask((dftoreplace.CountryCleansed.isna()) & (dftoreplace.NameCleansed.str.contains( \"\\\\ssa[\\s]*\")),\"france\")\n",
    "    dftoreplace.CountryCleansed=dftoreplace.CountryCleansed.mask((dftoreplace.CountryCleansed.isna()) & (dftoreplace.NameCleansed.str.contains( \"\\\\ssas[\\s]*\")),\"france\")\n",
    "    dftoreplace.CountryCleansed=dftoreplace.CountryCleansed.mask((dftoreplace.CountryCleansed.isna()) & (dftoreplace.NameCleansed.str.contains( \"\\\\ss\\.a\\.s[\\s]*\")),\"france\")\n",
    "    dftoreplace.CountryCleansed=dftoreplace.CountryCleansed.mask((dftoreplace.CountryCleansed.isna()) & (dftoreplace.NameCleansed.str.contains( \"\\\\ssud ouest[\\s]*\")),\"france\")\n",
    "    dftoreplace.CountryCleansed=dftoreplace.CountryCleansed.mask((dftoreplace.CountryCleansed.isna()) & (dftoreplace.NameCleansed.str.contains( \"\\\\ssud-ouest[\\s]*\")),\"france\")\n",
    "    dftoreplace.CountryCleansed=dftoreplace.CountryCleansed.mask((dftoreplace.CountryCleansed.isna()) & (dftoreplace.NameCleansed.str.contains( \"\\\\sfrance[\\s]*\")),\"france\")\n",
    "    dftoreplace.CountryCleansed=dftoreplace.CountryCleansed.mask((dftoreplace.CountryCleansed.isna()) & (dftoreplace.NameCleansed.str.contains( \"[\\\\s]*french[\\s]*\")),\"france\")\n",
    "    dftoreplace.CountryCleansed=dftoreplace.CountryCleansed.mask((dftoreplace.CountryCleansed.isna()) & (dftoreplace.NameCleansed.str.contains( \"[\\\\s]*toulouse[\\s]*\")),\"france\")\n",
    "    dftoreplace.CountryCleansed=dftoreplace.CountryCleansed.mask((dftoreplace.CountryCleansed.isna()) & (dftoreplace.NameCleansed.str.contains( \"\\\\sltd[\\s]*\")),\"united kingdom\")\n",
    "    dftoreplace.CountryCleansed=dftoreplace.CountryCleansed.mask((dftoreplace.CountryCleansed.isna()) & (dftoreplace.NameCleansed.str.contains( \"\\\\slimited[\\s]*\")),\"united kingdom\")\n",
    "    dftoreplace.CountryCleansed=dftoreplace.CountryCleansed.mask((dftoreplace.CountryCleansed.isna()) & (dftoreplace.NameCleansed.str.contains( \"\\\\suk[\\s]*\")),\"united kingdom\")\n",
    "    dftoreplace.CountryCleansed=dftoreplace.CountryCleansed.mask((dftoreplace.CountryCleansed.isna()) & (dftoreplace.NameCleansed.str.contains( \"[\\\\s]*united kingdom[\\s]*\")),\"united kingdom\")\n",
    "    dftoreplace.CountryCleansed=dftoreplace.CountryCleansed.mask((dftoreplace.CountryCleansed.isna()) & (dftoreplace.NameCleansed.str.contains( \"\\\\ssl[\\s]*\")),\"spain\")\n",
    "    dftoreplace.CountryCleansed=dftoreplace.CountryCleansed.mask((dftoreplace.CountryCleansed.isna()) & (dftoreplace.NameCleansed.str.contains( \"\\\\ss\\.l[\\s]*\")),\"spain\")\n",
    "    dftoreplace.CountryCleansed=dftoreplace.CountryCleansed.mask((dftoreplace.CountryCleansed.isna()) & (dftoreplace.NameCleansed.str.contains( \"\\\\ss\\.l\\.[\\s]*\")),\"spain\")\n",
    "    dftoreplace.CountryCleansed=dftoreplace.CountryCleansed.mask((dftoreplace.CountryCleansed.isna()) & (dftoreplace.NameCleansed.str.contains( \"\\\\sslu[\\s]*\")),\"spain\")\n",
    "    dftoreplace.CountryCleansed=dftoreplace.CountryCleansed.mask((dftoreplace.CountryCleansed.isna()) & (dftoreplace.NameCleansed.str.contains( \"[\\\\s]*spanish[\\s]*\")),\"spain\")\n",
    "    dftoreplace.CountryCleansed=dftoreplace.CountryCleansed.mask((dftoreplace.CountryCleansed.isna()) & (dftoreplace.NameCleansed.str.contains( \"[\\\\s]*turkish[\\s]*\")),\"turkey\")\n",
    "    dftoreplace.CountryCleansed=dftoreplace.CountryCleansed.mask((dftoreplace.CountryCleansed.isna()) & (dftoreplace.NameCleansed.str.contains( \"[\\\\s]*german[\\s]*\")),\"germany\")\n",
    "    dftoreplace.CountryCleansed=dftoreplace.CountryCleansed.mask((dftoreplace.CountryCleansed.isna()) & (dftoreplace.NameCleansed.str.contains( \"\\\\sgmbh[\\s]*\")),\"germany\")\n",
    "    dftoreplace.CountryCleansed=dftoreplace.CountryCleansed.mask((dftoreplace.CountryCleansed.isna()) & (dftoreplace.NameCleansed.str.contains( \"\\\\sdeutschland[\\s]*\")),\"germany\")\n",
    "    dftoreplace.CountryCleansed=dftoreplace.CountryCleansed.mask((dftoreplace.CountryCleansed.isna()) & (dftoreplace.NameCleansed.str.contains( \"\\\\sgermany[\\s]*\")),\"germany\")\n",
    "    dftoreplace.CountryCleansed=dftoreplace.CountryCleansed.mask((dftoreplace.CountryCleansed.isna()) & (dftoreplace.NameCleansed.str.contains( \"\\\\sbelgium[\\s]*\")),\"belgium\")\n",
    "    dftoreplace.CountryCleansed=dftoreplace.CountryCleansed.mask((dftoreplace.CountryCleansed.isna()) & (dftoreplace.NameCleansed.str.contains( \"[\\\\s]*belgian[\\s]*\")),\"belgium\")\n",
    "    dftoreplace.CountryCleansed=dftoreplace.CountryCleansed.mask((dftoreplace.CountryCleansed.isna()) & (dftoreplace.NameCleansed.str.contains( \"[\\\\s]*luxembourg[\\s]*\")),\"luxembourg\")\n",
    "    #Remove unrelevant terms from company name \n",
    "    dftoreplace.NameCleansed=dftoreplace.NameCleansed.str.replace(\"\\\\ssas[\\\\s]*\",\" \",regex=True)\n",
    "    dftoreplace.NameCleansed=dftoreplace.NameCleansed.str.replace(\"\\\\ssa[\\\\s]*\",\" \",regex=True)\n",
    "    dftoreplace.NameCleansed=dftoreplace.NameCleansed.str.replace(\"\\\\ssas[\\\\s]*\",\" \",regex=True)\n",
    "    dftoreplace.NameCleansed=dftoreplace.NameCleansed.str.replace(\"\\\\ssas[\\\\s]*\",\" \",regex=True)\n",
    "    dftoreplace.NameCleansed=dftoreplace.NameCleansed.str.replace(\"\\\\ssas[\\\\s]*\",\" \",regex=True)\n",
    "    dftoreplace.NameCleansed=dftoreplace.NameCleansed.str.replace(\"\\\\stoulouse[\\\\s]*\",\" \",regex=True)\n",
    "    dftoreplace.NameCleansed=dftoreplace.NameCleansed.str.replace(\"\\\\sltd[\\\\s]*\",\" \",regex=True)\n",
    "    dftoreplace.NameCleansed=dftoreplace.NameCleansed.str.replace(\"\\\\slimited[\\\\s]*\",\" \",regex=True)\n",
    "    dftoreplace.NameCleansed=dftoreplace.NameCleansed.str.replace(\"\\\\sprivate[\\\\s]*\",\" \",regex=True)\n",
    "    dftoreplace.NameCleansed=dftoreplace.NameCleansed.str.replace(\"[\\\\s]*united kingdom[\\s]*\",\" \",regex=True)\n",
    "    dftoreplace.NameCleansed=dftoreplace.NameCleansed.str.replace(\"[\\\\s]*uk[\\s]*\",\" \",regex=True)\n",
    "    dftoreplace.NameCleansed=dftoreplace.NameCleansed.str.replace(\"\\\\sdeutschland[\\\\s]*\",\" \",regex=True)\n",
    "    dftoreplace.NameCleansed=dftoreplace.NameCleansed.str.replace(\"[\\\\s]*luxembourg[\\\\s]*\",\" \",regex=True)\n",
    "    dftoreplace.NameCleansed=dftoreplace.NameCleansed.str.replace(\"\\\\sgmbh[\\\\s]*\",\" \",regex=True)\n",
    "    dftoreplace[\"CountryCleansed\"].fillna(\"\",inplace=True)\n",
    "    dftoreplace[\"CountryCleansed\"]=dftoreplace[\"CountryCleansed\"].apply(lambda x:pattern.sub(lambda m: rep[re.escape(m.group(0))], x))\n",
    "    dftoreplace[\"CountryCleansed\"].replace(\" \",\"\",regex=True,inplace=True)\n",
    "    dftoreplace[\"CountryCleansed\"].replace(\"-\",\"\",regex=True,inplace=True)\n",
    "    dftoreplace[\"NameCountryCleansed\"]=dftoreplace.NameCleansed+ \" \" +dftoreplace[\"CountryCleansed\"]\n",
    "    return dftoreplace"
   ]
  },
  {
   "cell_type": "code",
   "execution_count": 5,
   "id": "6dcd017e-67c0-465f-aa99-53c542d483ff",
   "metadata": {},
   "outputs": [
    {
     "name": "stdout",
     "output_type": "stream",
     "text": [
      "Tp with no name Empty DataFrame\n",
      "Columns: [FILENAME, LICENSE_NBR, TDPARTY_NAME, TDPARTY_ROLE, TDPARTY_COUNTRY, TDPARTY_ADDRESS, TDPARTY_ARP_ID, ARP_needreview, TDPARTY_FLAG, LICENSE_DIVISION, LICENSE_PROGRAM, TDPARTY_CITY, TDPARTY_POSTAL_CODE, TDPARTY_PROGRAM, index]\n",
      "Index: []\n",
      "Tp with no country\n",
      "20                 ALTRAN Sud Ouest\n",
      "86                 ALTRAN Sud Ouest\n",
      "168                 FLIR System INC\n",
      "301           Airbus Operations SAS\n",
      "611                      Airbus SAS\n",
      "                   ...             \n",
      "8284                     AIRBUS SAS\n",
      "8451      AIRBUS DEFENSE & SPACE SA\n",
      "8534    AIRBUS DEFENCE AND SPACE SA\n",
      "8535    AIRBUS DEFENCE AND SPACE SA\n",
      "8582                     AIRBUS SAS\n",
      "Name: TDPARTY_NAME, Length: 106, dtype: object\n"
     ]
    },
    {
     "data": {
      "text/html": [
       "<b>Unique third party name #:</b>2133"
      ],
      "text/plain": [
       "<IPython.core.display.HTML object>"
      ]
     },
     "metadata": {},
     "output_type": "display_data"
    },
    {
     "data": {
      "text/html": [
       "<b>Removed third party after cleansing #:</b>0"
      ],
      "text/plain": [
       "<IPython.core.display.HTML object>"
      ]
     },
     "metadata": {},
     "output_type": "display_data"
    },
    {
     "data": {
      "text/plain": [
       "0                                  entserv  unitedkingdom\n",
       "1                                cti verwaltungs  germany\n",
       "2       liebherr-aerospace c/o bollore logistics li  f...\n",
       "3          esg elektroniksystem-und-logistik-gmbh germany\n",
       "4                                           airbus france\n",
       "                              ...                        \n",
       "8609                    bae systems vereinigteskönigreich\n",
       "8610                       airbus operations  deutschland\n",
       "8611    ministry of defence udi arabien militärische d...\n",
       "8612                 wincanton plc vereinigteskoenigreich\n",
       "8613                           airbus operations  germany\n",
       "Name: NameCountryCleansed, Length: 8614, dtype: object"
      ]
     },
     "execution_count": 5,
     "metadata": {},
     "output_type": "execute_result"
    }
   ],
   "source": [
    "# We create a cleansed name in the TP referential referential\n",
    "\n",
    "tp[\"index\"]=tp.index\n",
    "#tp=tp[tp.LICENSE_DIVISION==\"AC\"]\n",
    "print(\"Tp with no name\",tp[tp.TDPARTY_NAME.isna()])\n",
    "print(\"Tp with no country\")\n",
    "print(tp[tp.TDPARTY_COUNTRY.isna()][\"TDPARTY_NAME\"])\n",
    "tp=tp[~tp.TDPARTY_NAME.isna()]\n",
    "#Filtrage sur la division\n",
    "tp.to_csv(\"tp-cleansed.csv\")\n",
    "tp[\"NameCleansed\"]=tp.TDPARTY_NAME.str.lower()\n",
    "tp[\"CountryCleansed\"]=tp.TDPARTY_COUNTRY.str.lower()\n",
    "tp[\"usablename\"]=True\n",
    "\n",
    "\n",
    "display(HTML('<b>Unique third party name #:</b>'+str(len(tp[\"NameCleansed\"].unique()))))\n",
    "lenfintp=len(tp)\n",
    "display(HTML('<b>Removed third party after cleansing #:</b>'+str(lenfintp-leninitp)))\n",
    "tp.head()\n",
    "\n",
    "\n",
    "tp=cleanCountryAndName(tp)\n",
    "\n",
    "tp.loc[tp.CountryCleansed.isna(),\"usablename\"]=False\n",
    "\n",
    "tp.NameCountryCleansed\n"
   ]
  },
  {
   "cell_type": "code",
   "execution_count": 6,
   "id": "d4a3eb57-bbf3-47af-91ec-89e7bb885587",
   "metadata": {},
   "outputs": [
    {
     "name": "stdout",
     "output_type": "stream",
     "text": [
      "Nombre de supplier name dans cim 1829\n"
     ]
    },
    {
     "data": {
      "text/plain": [
       "0                 nortel networks germany & co kg germany\n",
       "1             nortel network germany verwaltungs  germany\n",
       "2       australian aerospace military maintenance pty ...\n",
       "3                eurocopter international belgium belgium\n",
       "4       acma, gesellschaft für flugzeuggestützte trage...\n",
       "                              ...                        \n",
       "1878    molim mobilien verwaltungsgesellschaft mbh & c...\n",
       "1879                        eads - cassidian hq g germany\n",
       "1880                        cassidian - hq  unitedkingdom\n",
       "1881                         cassidian - hq france france\n",
       "1882          euro-art advanced radar technology  germany\n",
       "Name: NameCountryCleansed, Length: 1883, dtype: object"
      ]
     },
     "execution_count": 6,
     "metadata": {},
     "output_type": "execute_result"
    }
   ],
   "source": [
    "# We create a cleansed name in the CIM referential\n",
    "cim.columns\n",
    "cim.head()\n",
    "cim[\"index\"]=cim.index\n",
    "cim[['Name','Country Name','Street',\"Zip code\",'City','Country (Address)']]\n",
    "cim=cim[~cim.Name.isna()]\n",
    "cim[\"NameCleansed\"]=cim.Name.str.lower()\n",
    "cim[\"CountryCleansed\"]=cim[\"Country Name\"].str.lower()\n",
    "\n",
    "cim=cleanCountryAndName(cim)\n",
    "\n",
    "print(\"Nombre de supplier name dans cim\",len(cim[\"NameCleansed\"].unique()))\n",
    "\n",
    "cim.NameCountryCleansed\n"
   ]
  },
  {
   "cell_type": "code",
   "execution_count": 7,
   "id": "43fda15d-ff00-476d-bddf-41c05b817787",
   "metadata": {},
   "outputs": [
    {
     "name": "stdout",
     "output_type": "stream",
     "text": [
      "Nombre de supplier name dans sp1 42930\n"
     ]
    },
    {
     "data": {
      "text/plain": [
       "0                 atis iberica derichebourg spain\n",
       "1                                      jvd france\n",
       "2         wolf gustav seil und drahtwerke germany\n",
       "3                                 caillau  france\n",
       "4        gardner aerospace - derby  unitedkingdom\n",
       "                           ...                   \n",
       "49046     aertec industrial engineering slu spain\n",
       "49047           alestis tecnobahia montajes spain\n",
       "49048                ultra precision  switzerland\n",
       "49049                     drosg & co. switzerland\n",
       "49050                              sapelem france\n",
       "Name: NameCountryCleansed, Length: 49051, dtype: object"
      ]
     },
     "execution_count": 7,
     "metadata": {},
     "output_type": "execute_result"
    }
   ],
   "source": [
    "#Nettoyage des supplier name\n",
    "sp1.columns\n",
    "sp1[\"index\"]=sp1.index\n",
    "sp1=sp1[~sp1.supp_name.isna()]\n",
    "\n",
    "sp1[\"NameCleansed\"]=sp1.supp_name.str.lower()\n",
    "sp1[\"CountryCleansed\"]=sp1.supp_country_name_en.str.lower()\n",
    "print(\"Nombre de supplier name dans sp1\",len(sp1[\"NameCleansed\"].unique()))\n",
    "sp1=cleanCountryAndName(sp1)\n",
    "\n",
    "sp1.NameCountryCleansed"
   ]
  },
  {
   "cell_type": "code",
   "execution_count": 8,
   "id": "1cc86517-8cfe-48b6-81bc-4c280a1dd679",
   "metadata": {
    "scrolled": true
   },
   "outputs": [
    {
     "data": {
      "text/plain": [
       "0    nortel networks germany & co kg germany\n",
       "0                     entserv  unitedkingdom\n",
       "0            atis iberica derichebourg spain\n",
       "Name: NameCountryCleansed, dtype: object"
      ]
     },
     "execution_count": 8,
     "metadata": {},
     "output_type": "execute_result"
    }
   ],
   "source": [
    "corpusname=pd.concat([cim.NameCountryCleansed,tp.NameCountryCleansed,sp1.NameCountryCleansed])\n",
    "corpusname[0]\n",
    "\n",
    "\n"
   ]
  },
  {
   "cell_type": "code",
   "execution_count": 9,
   "id": "5685b997-a51f-4a42-8626-b0147306f5a0",
   "metadata": {},
   "outputs": [],
   "source": [
    "#Based on the corpus of name we create a matrix of association\n",
    "from sklearn.feature_extraction.text import CountVectorizer\n",
    "import numpy as np\n",
    "\n",
    "vectorizer = CountVectorizer(strip_accents=\"ascii\")\n",
    "features = vectorizer.fit(corpusname)\n",
    "\n",
    "tpnamevect=vectorizer.transform(tp.NameCountryCleansed)\n",
    "cimnamevect=vectorizer.transform(cim.NameCountryCleansed)\n",
    "sp1namevect=vectorizer.transform(sp1.NameCountryCleansed)\n",
    "\n",
    "# Renormalize so that if country is present twice in name and in country, it is counted only once\n",
    "\n",
    "tpnamevect=(tpnamevect>0)*1\n",
    "cimnamevect=(cimnamevect>0)*1\n",
    "sp1namevect=(sp1namevect>0)*1\n",
    "\n"
   ]
  },
  {
   "cell_type": "code",
   "execution_count": 10,
   "id": "a0f8340c-03a2-45d4-a3ae-b8696d4df2d8",
   "metadata": {},
   "outputs": [
    {
     "data": {
      "text/plain": [
       "'capgemini india  india'"
      ]
     },
     "execution_count": 10,
     "metadata": {},
     "output_type": "execute_result"
    }
   ],
   "source": [
    "tp.NameCountryCleansed[14]"
   ]
  },
  {
   "cell_type": "code",
   "execution_count": 11,
   "id": "32f29525-e369-4c47-af92-72f87fd5ccb4",
   "metadata": {},
   "outputs": [],
   "source": [
    "# We compute a list giving if two name are similar\n",
    "from sklearn.metrics.pairwise import cosine_similarity\n",
    "\n",
    "\n",
    "similaritycim=cosine_similarity(tpnamevect,cimnamevect)\n",
    "similaritysp1=cosine_similarity(tpnamevect,sp1namevect)\n"
   ]
  },
  {
   "cell_type": "code",
   "execution_count": 12,
   "id": "6d2911e4-d830-48c0-9186-22f9e550fa9e",
   "metadata": {},
   "outputs": [
    {
     "data": {
      "image/png": "[encoded data removed]",
      "text/plain": [
       "<Figure size 640x480 with 1 Axes>"
      ]
     },
     "metadata": {},
     "output_type": "display_data"
    },
    {
     "data": {
      "image/png": "[encoded data removed]",
      "text/plain": [
       "<Figure size 640x480 with 1 Axes>"
      ]
     },
     "metadata": {},
     "output_type": "display_data"
    }
   ],
   "source": [
    "import matplotlib.pyplot as plt\n",
    "import numpy as np\n",
    "\n",
    "from matplotlib import colors\n",
    "from matplotlib.ticker import PercentFormatter\n",
    "\n",
    "counts, bins =np.histogram(similaritycim,range=[.6,1])\n",
    "plt.stairs(counts, bins)\n",
    "plt.title(\"CIM matches\")\n",
    "plt.show()\n",
    "\n",
    "counts, bins =np.histogram(similaritysp1,range=[.6,1])\n",
    "plt.stairs(counts, bins)\n",
    "plt.title(\"SP1 matches\")\n",
    "plt.show()\n",
    "#hist"
   ]
  },
  {
   "cell_type": "code",
   "execution_count": 25,
   "id": "30d3c8d2-fe5f-4ad2-9863-ed6f52f8d334",
   "metadata": {},
   "outputs": [
    {
     "name": "stdout",
     "output_type": "stream",
     "text": [
      "Exploration de CIM\n",
      "AIRBUS OPERATIONS LTD\n",
      "Airbus Operations Limited\n",
      "----------\n",
      "HENSOLDT OPTRONICS GMBH\n",
      "Hensoldt Optronics GmbH\n",
      "----------\n",
      "PREMIUM AEROTEC GMBH\n",
      "Premium AEROTEC GmbH\n",
      "----------\n",
      "AIRBUS OPERATIONS GMBH\n",
      "Airbus Operations GmbH\n",
      "----------\n",
      "Airbus Defence and Space Limited\n",
      "Airbus Defence and Space (Newport)\n",
      "----------\n",
      "Airbus Defence and Space Limited\n",
      "AIRBUS Defence and Space Limited\n",
      "----------\n",
      "Hensoldt Sensors GmbH\n",
      "Hensoldt Sensors GmbH\n",
      "----------\n",
      "Stelia Aerospace S.A.S.\n",
      "Stelia Aerospace S.A.S. Deutschland\n",
      "----------\n",
      "AIRBUS DEFENCE AND SPACE GMBH\n",
      "Airbus Defence and Space GmbH\n",
      "----------\n",
      "AIRBUS OPERATIONS SL\n",
      "Airbus Operations SL\n",
      "----------\n",
      "AIRBUS OPERATIONS LTD\n",
      "Airbus Operations Limited\n",
      "----------\n",
      "AIRBUS OPERATIONS GMBH\n",
      "Airbus Operations GmbH\n",
      "----------\n",
      "CIMPA LIMITED\n",
      "Cimpa Limited\n",
      "----------\n",
      "A400M Training Services Limited\n",
      "A400M Training Services Limited\n",
      "----------\n",
      "HENSOLDT SENSORS GMBH\n",
      "Hensoldt Sensors GmbH\n",
      "----------\n",
      "AIRBUS\n",
      "AIRBUS SAS\n",
      "----------\n",
      "AIRBUS\n",
      "Airbus UK Toulouse SAS\n",
      "----------\n",
      "AIRBUS\n",
      "AIRBUS\n",
      "----------\n",
      "AIRBUS OPERATIONS GMBH\n",
      "Airbus Operations GmbH\n",
      "----------\n",
      "Airbus Defence and Space Limited\n",
      "Airbus Defence and Space (Newport)\n",
      "----------\n",
      "Airbus Defence and Space Limited\n",
      "AIRBUS Defence and Space Limited\n",
      "----------\n",
      "AIRBUS OPERATIONS GMBH\n",
      "Airbus Operations GmbH\n",
      "----------\n",
      "AIRBUS OPERATIONS GMBH\n",
      "Airbus Operations GmbH\n",
      "----------\n",
      "AIRBUS OPERATIONS GMBH\n",
      "Airbus Operations GmbH\n",
      "----------\n",
      "Airtanker Services\n",
      "AirTanker Services Limited\n",
      "----------\n",
      "AIRBUS OPERATIONS GMBH \n",
      "Airbus Operations GmbH\n",
      "----------\n",
      "AIRBUS\n",
      "AIRBUS SAS\n",
      "----------\n",
      "AIRBUS\n",
      "Airbus UK Toulouse SAS\n",
      "----------\n",
      "AIRBUS\n",
      "AIRBUS\n",
      "----------\n",
      "Airbus Defence and Space SA\n",
      "AIRBUS DEFENCE AND SPACE, S.A.\n",
      "----------\n",
      "HENSOLDT OPTRONICS GMBH\n",
      "Hensoldt Optronics GmbH\n",
      "----------\n",
      "AIRBUS DEFENCE AND SPACE SA\n",
      "AIRBUS DEFENCE AND SPACE, S.A.\n",
      "----------\n",
      "Airbus Defence and Space GmbH\n",
      "Airbus Defence and Space GmbH\n",
      "----------\n",
      "AIRBUS MILITARY SL\n",
      "Airbus Military SL\n",
      "----------\n",
      "Airbus Defence and Space S.A.\n",
      "AIRBUS DEFENCE AND SPACE, S.A.\n",
      "----------\n",
      "AIRBUS OPERATIONS LTD\n",
      "Airbus Operations Limited\n",
      "----------\n",
      "Hensoldt Sensors GmbH\n",
      "Hensoldt Sensors GmbH\n",
      "----------\n",
      "ArianeGroup SAS\n",
      "ArianeGroup SAS\n",
      "----------\n",
      "CIMPA PLM ESPANA SL\n",
      "Cimpa PLM España SL\n",
      "----------\n",
      "Compania Espanola de Sistemas AeroNauticos S.A.\n",
      "Compania Espanola de Sistemas Aeronauticos SA\n",
      "----------\n",
      "Airbus S.A.S.\n",
      "AIRBUS SAS\n",
      "----------\n",
      "Airbus S.A.S.\n",
      "Airbus UK Toulouse SAS\n",
      "----------\n",
      "Airbus S.A.S.\n",
      "AIRBUS\n",
      "----------\n",
      "AIRBUS OPERATIONS SL\n",
      "Airbus Operations SL\n",
      "----------\n",
      "AIRBUS DEFENCE AND SPACE GMBH\n",
      "Airbus Defence and Space GmbH\n",
      "----------\n",
      "AIRBUS\n",
      "AIRBUS SAS\n",
      "----------\n",
      "AIRBUS\n",
      "Airbus UK Toulouse SAS\n",
      "----------\n",
      "AIRBUS\n",
      "AIRBUS\n",
      "----------\n",
      "CIMPA SAS\n",
      "Cimpa SAS\n",
      "----------\n",
      "AIRBUS OPERATIONS LTD\n",
      "Airbus Operations Limited\n",
      "----------\n",
      "AIRBUS DEFENCE AND SPACE GMBH\n",
      "Airbus Defence and Space GmbH\n",
      "----------\n",
      "Airbus Operations SAS\n",
      "Airbus Operations\n",
      "----------\n",
      "Airbus Operations SAS\n",
      "Airbus Operations SAS\n",
      "----------\n",
      "AIRBUS OPERATIONS LTD\n",
      "Airbus Operations Limited\n",
      "----------\n",
      "Airbus Operations SAS\n",
      "Airbus Operations\n",
      "----------\n",
      "Airbus Operations SAS\n",
      "Airbus Operations SAS\n",
      "----------\n",
      "NAVBLUE LTD\n",
      "NAVBLUE Limited\n",
      "----------\n",
      "AIRBUS OPERATIONS GMBH\n",
      "Airbus Operations GmbH\n",
      "----------\n",
      "AIRBUS\n",
      "AIRBUS SAS\n",
      "----------\n",
      "AIRBUS\n",
      "Airbus UK Toulouse SAS\n",
      "----------\n",
      "AIRBUS\n",
      "AIRBUS\n",
      "----------\n",
      "CIMPA LIMITED\n",
      "Cimpa Limited\n",
      "----------\n",
      "Airbus Defence and Space GmbH\n",
      "Airbus Defence and Space GmbH\n",
      "----------\n",
      "AIRBUS OPERATIONS LTD\n",
      "Airbus Operations Limited\n",
      "----------\n",
      "CIMPA GMBH\n",
      "Cimpa GmbH\n",
      "----------\n",
      "AIRBUS DEFENCE AND SPACE SA\n",
      "AIRBUS DEFENCE AND SPACE, S.A.\n",
      "----------\n",
      "AIRBUS OPERATIONS LTD\n",
      "Airbus Operations Limited\n",
      "----------\n",
      "AIRBUS OPERATIONS LTD\n",
      "Airbus Operations Limited\n",
      "----------\n",
      "AIRBUS OPERATIONS GMBH\n",
      "Airbus Operations GmbH\n",
      "----------\n",
      "Sepang Aircraft Engineering Sdn Bhd\n",
      "Sepang Aircraft Engineering Sdn Bhd\n",
      "----------\n",
      "AIRBUS DEFENCE AND SPACE GMBH\n",
      "Airbus Defence and Space GmbH\n",
      "----------\n",
      "AIRBUS OPERATIONS\n",
      "Airbus Operations\n",
      "----------\n",
      "AIRBUS OPERATIONS\n",
      "Airbus Operations SAS\n",
      "----------\n",
      "AIRBUS DEFENCE AND SPACE SA\n",
      "AIRBUS DEFENCE AND SPACE, S.A.\n",
      "----------\n",
      "AIRBUS OPERATIONS LTD\n",
      "Airbus Operations Limited\n",
      "----------\n",
      "Airbus Operations SAS\n",
      "Airbus Operations\n",
      "----------\n",
      "Airbus Operations SAS\n",
      "Airbus Operations SAS\n",
      "----------\n",
      "AIRBUS DEFENCE AND SPACE GMBH\n",
      "Airbus Defence and Space GmbH\n",
      "----------\n",
      "CIMPA LTD\n",
      "Cimpa Limited\n",
      "----------\n",
      "AIRBUS OPERATIONS GMBH\n",
      "Airbus Operations GmbH\n",
      "----------\n",
      "Airbus Defence and Space SA\n",
      "AIRBUS DEFENCE AND SPACE, S.A.\n",
      "----------\n",
      "Airbus Defence and Space S.A.S.\n",
      "Airbus Defence and Space SAS, x-Airbus Defence and Space Toulouse\n",
      "----------\n",
      "Airbus Defence and Space S.A.S.\n",
      "Airbus Defence and Space Holding France SAS\n",
      "----------\n",
      "Airbus Defence and Space S.A.S.\n",
      "Airbus Defence and Space SAS\n",
      "----------\n",
      "A400M Training Services Limited\n",
      "A400M Training Services Limited\n",
      "----------\n",
      "AIRBUS DEFENCE AND SPACE SA\n",
      "AIRBUS DEFENCE AND SPACE, S.A.\n",
      "----------\n",
      "PREMIUM AEROTEC GMBH\n",
      "Premium AEROTEC GmbH\n",
      "----------\n",
      "TESTIA GmbH\n",
      "TESTIA GmbH\n",
      "----------\n",
      "AIRBUS OPERATIONS GMBH\n",
      "Airbus Operations GmbH\n",
      "----------\n",
      "Airbus DS Airborne Solutions GmbH\n",
      "Airbus DS Airborne Solutions GmbH\n",
      "----------\n",
      "===========\n",
      "Exploration de SP1\n",
      "t-systems itc iberia  spain\n",
      "T-SYSTEMS ITC IBERIA SA\n",
      "----------\n",
      "airbus operations  germany\n",
      "AIRBUS OPERATIONS GMBH\n",
      "----------\n",
      "airbus operations  germany\n",
      "AIRBUS OPERATIONS GMBH\n",
      "----------\n",
      "airbus operations  germany\n",
      "AIRBUS OPERATIONS GMBH\n",
      "----------\n",
      "airbus operations  germany\n",
      "Airbus Operations GmbH\n",
      "----------\n",
      "airbus operations  germany\n",
      "AIRBUS OPERATIONS GMBH\n",
      "----------\n",
      "airbus operations  germany\n",
      "Airbus Operations GmbH\n",
      "----------\n",
      "airbus operations  germany\n",
      "AIRBUS OPERATIONS GMBH\n",
      "----------\n",
      "airbus operations  germany\n",
      "AIRBUS Operations GmbH\n",
      "----------\n",
      "airbus operations  germany\n",
      "AIRBUS OPERATIONS GMBH\n",
      "----------\n",
      "thales  unitedkingdom\n",
      "THALES\n",
      "----------\n",
      "thales  unitedkingdom\n",
      "THALES UK LIMITED\n",
      "----------\n",
      "sogeclair aerospace s.a. spain\n",
      "SOGECLAIR AEROSPACE S.A\n",
      "----------\n",
      "sogeclair aerospace s.a. spain\n",
      "SOGECLAIR AEROSPACE SA\n",
      "----------\n",
      "airbus operations  germany\n",
      "AIRBUS OPERATIONS GMBH\n",
      "----------\n",
      "airbus operations  germany\n",
      "AIRBUS OPERATIONS GMBH\n",
      "----------\n",
      "airbus operations  germany\n",
      "AIRBUS OPERATIONS GMBH\n",
      "----------\n",
      "airbus operations  germany\n",
      "Airbus Operations GmbH\n",
      "----------\n",
      "airbus operations  germany\n",
      "AIRBUS OPERATIONS GMBH\n",
      "----------\n",
      "airbus operations  germany\n",
      "Airbus Operations GmbH\n",
      "----------\n"
     ]
    },
    {
     "data": {
      "text/plain": [
       "(array([0, 0]), array([ 5633, 15642]))"
      ]
     },
     "execution_count": 25,
     "metadata": {},
     "output_type": "execute_result"
    }
   ],
   "source": [
    "similarnamecim=np.where(similaritycim>.9)\n",
    "similarnamesp1=np.where(similaritysp1>.9)\n",
    "#print(similarnamecim)\n",
    "\n",
    "#tp.NameCountryCleansed[14]\n",
    "#cim.NameCountryCleansed[77]\n",
    "\n",
    "print(\"Exploration de CIM\")\n",
    "for i in range (10,100):\n",
    "#    print(tp.NameCountryCleansed.iloc[similarnamecim[0][i]])\n",
    "    print(tp.iloc[similarnamecim[0][i],2])\n",
    "#    print(cim.NameCountryCleansed.iloc[similarnamecim[1][i]])\n",
    "    print(cim.iloc[similarnamecim[1][i],3])\n",
    "    print(\"----------\")\n",
    "\n",
    "print(\"===========\")\n",
    "\n",
    "print(\"Exploration de SP1\")\n",
    "for i in range (10,30):\n",
    "    print(tp.NameCountryCleansed.iloc[similarnamesp1[0][i]])\n",
    "#    print(tp.iloc[similarnamesp1[0][i],2])\n",
    "#    print(sp1.NameCountryCleansed.iloc[similarnamesp1[1][i]])\n",
    "    print(sp1.iloc[similarnamesp1[1][i],1])\n",
    "    print(\"----------\")\n",
    "\n",
    "\n",
    "\n",
    "from scipy import spatial\n",
    "np.where((tpnamevect.getrow(14).toarray()>0))\n",
    "#cimnamevect.getrow(77).toarray()[0]\n",
    "\n",
    "##spatial.distance.cosine(cimnamevect.getrow(14).toarray()[0], tpnamevect.getrow(77).toarray()[0])\n",
    "\n",
    "features.inverse_transform(tpnamevect.getrow(14))\n",
    "features.inverse_transform(cimnamevect.getrow(77))\n",
    "np.where(tpnamevect.getrow(14).toarray()>0)"
   ]
  },
  {
   "cell_type": "code",
   "execution_count": 14,
   "id": "b2147035-abc9-41af-9ffa-a07b440edec3",
   "metadata": {},
   "outputs": [
    {
     "ename": "NameError",
     "evalue": "name 'similarity' is not defined",
     "output_type": "error",
     "traceback": [
      "\u001b[0;31m---------------------------------------------------------------------------\u001b[0m",
      "\u001b[0;31mNameError\u001b[0m                                 Traceback (most recent call last)",
      "Cell \u001b[0;32mIn[14], line 1\u001b[0m\n\u001b[0;32m----> 1\u001b[0m similarname\u001b[38;5;241m=\u001b[39mnp\u001b[38;5;241m.\u001b[39mwhere(\u001b[43msimilarity\u001b[49m\u001b[38;5;241m>\u001b[39m\u001b[38;5;241m.8\u001b[39m)\n\u001b[1;32m      3\u001b[0m tp[\u001b[38;5;124m\"\u001b[39m\u001b[38;5;124midcim\u001b[39m\u001b[38;5;124m\"\u001b[39m]\u001b[38;5;241m=\u001b[39m\u001b[38;5;124m\"\u001b[39m\u001b[38;5;124m\"\u001b[39m\n\u001b[1;32m      4\u001b[0m indexcim\u001b[38;5;241m=\u001b[39mtp\u001b[38;5;241m.\u001b[39mcolumns\u001b[38;5;241m.\u001b[39mget_loc(\u001b[38;5;124m\"\u001b[39m\u001b[38;5;124midcim\u001b[39m\u001b[38;5;124m\"\u001b[39m)\n",
      "\u001b[0;31mNameError\u001b[0m: name 'similarity' is not defined"
     ]
    }
   ],
   "source": [
    "similarname=np.where(similarity>.8)\n",
    "\n",
    "tp[\"idcim\"]=\"\"\n",
    "indexcim=tp.columns.get_loc(\"idcim\")\n",
    "indexcim\n",
    "for i in range(len(similarname[0])):\n",
    "    tp.iloc[similarname[1][i],indexcim]=tp.iloc[similarname[1][i],indexcim]+str(similarname[0][i])+\",\"\n",
    "    print(\"id: \",str(similarname[1][i]),\", name: \",tp.iloc[similarname[1][i],2],\"/id\",similarname[0][i],\" name: \",cim.iloc[similarname[0][i],3])\n",
    "\n",
    "suppliersansrefdanscim=tp[tp.idcim==\"\"]\n",
    "suppliersansrefdanscim=suppliersansrefdanscim[~suppliersansrefdanscim.NameCleansed.str.contains(\"armee\")]\n",
    "suppliersansrefdanscim=suppliersansrefdanscim[~suppliersansrefdanscim.NameCleansed.str.contains(\"armée\")]\n",
    "suppliersansrefdanscim=suppliersansrefdanscim[~suppliersansrefdanscim.NameCleansed.str.contains(\"army\")]\n",
    "suppliersansrefdanscim.TDPARTY_NAME.to_csv(\"suppliersansrefdanscim.csv\")\n",
    "#len(tp[tp.idcim==\"\"])/len(tp)\n",
    "\n",
    "##cim.loc[1478]"
   ]
  },
  {
   "cell_type": "code",
   "execution_count": null,
   "id": "2322ea34-4b09-457b-b4b8-b015e09b6af4",
   "metadata": {},
   "outputs": [],
   "source": [
    "len(tp[tp.idcim==\"\"].TDPARTY_NAME.unique())\n",
    "pd.DataFrame(tp[tp.idcim==\"\"].TDPARTY_NAME.unique()).to_csv(\"Supplier-AC-not-found.csv\")"
   ]
  },
  {
   "cell_type": "code",
   "execution_count": null,
   "id": "8503fda9-b6d5-448b-b0df-96919a1e3e17",
   "metadata": {},
   "outputs": [],
   "source": [
    "tp[\"TDPARTY_FLAG_Cleansed\"]=tp.TDPARTY_FLAG.str.lower()\n",
    "a=tp[tp.idcim==\"\"].TDPARTY_FLAG_Cleansed.value_counts()\n",
    "b=tp.TDPARTY_FLAG_Cleansed.value_counts()\n",
    "m=b.to_frame().join(a.to_frame(),lsuffix='all')\n",
    "m[0:10].plot.bar()"
   ]
  }
 ],
 "metadata": {
  "kernelspec": {
   "display_name": "Python 3 (ipykernel)",
   "language": "python",
   "name": "python3"
  },
  "language_info": {
   "codemirror_mode": {
    "name": "ipython",
    "version": 3
   },
   "file_extension": ".py",
   "mimetype": "text/x-python",
   "name": "python",
   "nbconvert_exporter": "python",
   "pygments_lexer": "ipython3",
   "version": "3.11.6"
  }
 },
 "nbformat": 4,
 "nbformat_minor": 5
}
