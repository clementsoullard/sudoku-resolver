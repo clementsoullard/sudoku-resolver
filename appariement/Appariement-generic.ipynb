{
 "cells": [
  {
   "cell_type": "code",
   "execution_count": 1,
   "id": "e170f231-319f-4f29-bd06-fb39de566fc0",
   "metadata": {
    "editable": true,
    "slideshow": {
     "slide_type": ""
    },
    "tags": []
   },
   "outputs": [],
   "source": [
    "import pandas as pd\n",
    "import numpy as np\n",
    "import re\n",
    "# loading the sources files\n",
    "from IPython.display import display, HTML\n",
    "tp=pd.read_csv(\"20231211-Filtered-TPs.csv\")\n",
    "suppliermaster=pd.read_csv(\"20231221-supplier-master.csv\",dtype={0:\"str\",11:\"str\",16:\"str\",23:\"str\",24:\"str\",30:\"str\",35:\"str\",47:\"str\"})\n",
    "\n",
    "#For future reference\n",
    "leninitp=len(tp)\n",
    "leninisuppliermaster=len(suppliermaster)\n",
    "\n"
   ]
  },
  {
   "cell_type": "code",
   "execution_count": 2,
   "id": "4a5922e3-6298-41d7-a005-9bc5b4c98095",
   "metadata": {},
   "outputs": [],
   "source": [
    "mapnature={'1er destinataire': 'destinataire',\n",
    " 'Foreign Consignee': 'destinataire',\n",
    " 'Approved end user(s)': 'enduser',\n",
    " 'Exportateur/Fournisseur': 'exportateur',\n",
    " 'Destinataire final': 'destinataire',\n",
    " 'Foreign Intermediate Consignee': 'destinataire',\n",
    " 'client': 'client',\n",
    " 'Approved End User(s)': 'enduser',\n",
    " 'Demandeur': 'demandeur',\n",
    " 'Party': 'party',\n",
    " 'U.S. Consignor / Freight Forwarder': 'transport',\n",
    " 'Client': 'client',\n",
    " 'Foreign End User': 'enduser',\n",
    " 'Exportateur': 'exportateur',\n",
    " 'Intermediate Consignee': 'destinataire',\n",
    " 'Ultimate Consignee': 'destinataire',\n",
    " 'Control Authority': 'control',\n",
    " 'Applicant': 'demandeur',\n",
    " 'Supplier': 'exportateur',\n",
    " 'Purchaser': 'acheteur',\n",
    " 'Source of Commodity': 'exportateur',\n",
    " 'Issuing Authority': 'control',\n",
    " 'Intermediate Consignee(s)': 'destinataire',\n",
    " 'Manufacturer of Commodity': 'exportateur',\n",
    " 'Ausführer': 'exportateur',\n",
    " 'Empfänger': 'destinataire',\n",
    " 'Original Ultimate Consignee': 'destinataire',\n",
    " 'U.S. Seller': 'exportateur',\n",
    " 'Consignee': 'destinataire',\n",
    " 'Aproved end user(s)': 'enduser',\n",
    " '1er Destinataire': 'destinataire',\n",
    " '1ers Destinataires': 'destinataire',\n",
    " 'Destinataires finaux': 'destinataire',\n",
    " 'Clients': 'client',\n",
    " '1er Destinataires': 'destinataire',\n",
    " 'Intermédiaires': 'transport',\n",
    " 'Intermédiaire': 'transport',\n",
    " '1er destiantaire': 'destinataire',\n",
    " 'Agent/Vertreter': 'control',\n",
    " 'Ausfürher': 'exportateur',\n",
    " 'Importer': 'destinataire',\n",
    " '1ers destinataires': 'destinataire',\n",
    " 'End User': 'enduser',\n",
    " 'Control Authorithy': 'control',\n",
    " 'Foreign Intermediate Consiegnee': 'destinataire',\n",
    " '1ers Detsinataires': 'destinataire',\n",
    " 'Destinataire Final': 'destinataire',\n",
    " 'Desinataire final': 'destinataire',\n",
    " '1er destinatiare': 'destinataire',\n",
    " 'Exporter': 'exportateur',\n",
    " 'Foreign Conseignee': 'destinataire',\n",
    " 'Destinataires final': 'destinataire',\n",
    " 'Agent Vertreter': 'control',\n",
    " 'Destinataire': 'destinataire',\n",
    " 'Foreign Buyer': 'acheteur'}\n",
    "tp[\"nature\"]=tp.TDPARTY_FLAG.map(mapnature)"
   ]
  },
  {
   "cell_type": "code",
   "execution_count": 3,
   "id": "5744df88-7c8d-43ad-9f74-01473acb920e",
   "metadata": {},
   "outputs": [
    {
     "data": {
      "text/html": [
       "<h1>Stats</h1>"
      ],
      "text/plain": [
       "<IPython.core.display.HTML object>"
      ]
     },
     "metadata": {},
     "output_type": "display_data"
    },
    {
     "data": {
      "text/html": [
       "<b>Third to match # : </b>8614"
      ],
      "text/plain": [
       "<IPython.core.display.HTML object>"
      ]
     },
     "metadata": {},
     "output_type": "display_data"
    },
    {
     "data": {
      "text/html": [
       "<b>Supplier in referential # : </b>138830"
      ],
      "text/plain": [
       "<IPython.core.display.HTML object>"
      ]
     },
     "metadata": {},
     "output_type": "display_data"
    }
   ],
   "source": [
    "#Read third party, filter on AC division\n",
    "# Filtrage uniquement sur les third party AC\n",
    "display(HTML('<h1>Stats</h1>'))\n",
    "display(HTML('<b>Third to match # : </b>'+str(leninitp)))\n",
    "display(HTML('<b>Supplier in referential # : </b>'+str(leninisuppliermaster)))\n"
   ]
  },
  {
   "cell_type": "code",
   "execution_count": 4,
   "id": "bc94aa6b-df2c-49c0-a784-d490ec2acf24",
   "metadata": {},
   "outputs": [
    {
     "name": "stderr",
     "output_type": "stream",
     "text": [
      "/tmp/ipykernel_295/1498682475.py:8: SettingWithCopyWarning: \n",
      "A value is trying to be set on a copy of a slice from a DataFrame.\n",
      "Try using .loc[row_indexer,col_indexer] = value instead\n",
      "\n",
      "See the caveats in the documentation: https://pandas.pydata.org/pandas-docs/stable/user_guide/indexing.html#returning-a-view-versus-a-copy\n",
      "  replacements.originalcountry=replacements.originalcountry\n",
      "/tmp/ipykernel_295/1498682475.py:9: SettingWithCopyWarning: \n",
      "A value is trying to be set on a copy of a slice from a DataFrame.\n",
      "Try using .loc[row_indexer,col_indexer] = value instead\n",
      "\n",
      "See the caveats in the documentation: https://pandas.pydata.org/pandas-docs/stable/user_guide/indexing.html#returning-a-view-versus-a-copy\n",
      "  replacements.tobename=\" \"+replacements.tobename\n"
     ]
    }
   ],
   "source": [
    "# The country file is used to provide a mapping to all country representation (language and typo). \n",
    "countries=pd.read_csv(\"countries.csv\",index_col=0)\n",
    "# Select the countries when there is a need to substitute\n",
    "replacements=countries[countries.originalcountry!=countries.tobename]\n",
    "# Convert the mapping adding some pattern to avoid unwanted replacement \n",
    "# (To avoid Airbus is replaced by Airbus Airbusa because us represent the coutry usa)\n",
    "#replacements.originalcountry=\"[\\\\s^]\"+replacements.originalcountry+\"[\\\\s$]\"\n",
    "replacements.originalcountry=replacements.originalcountry\n",
    "replacements.tobename=\" \"+replacements.tobename\n",
    "# Replacement of countries to unifed representation (independant from tongue and typo)\n",
    "replacements=replacements.set_index('originalcountry')\n",
    "replacements.tobename=replacements.tobename.replace(\"\\s\",\"\",regex=True)\n",
    "# Converting to dict\n",
    "replacements=replacements.tobename.to_dict()\n",
    "\n",
    "# Create a single pattern doing all replacement to apply once on every line (for efficency)\n",
    "rep = dict((re.escape(k), v) for k, v in replacements.items()) \n",
    "pattern = re.compile(\"|\".join(rep.keys()))\n"
   ]
  },
  {
   "cell_type": "code",
   "execution_count": 5,
   "id": "7095222b-f352-4766-a091-ec1690be752d",
   "metadata": {},
   "outputs": [],
   "source": [
    "# This set the country in case where the county information is provided in the name of the thrid party\n",
    "def deduceContryFromNameInformation(df,acronym,country):\n",
    "    df.CountryCleansed=df.CountryCleansed.mask((df.CountryCleansed.isna()) & (df.NameCleansed.str.contains( \"\\\\s\"+acronym+\"[\\s]*\")),country)\n",
    "    df.NameCleansed=df.NameCleansed.str.replace(\"\\\\s\"+acronym+\"[\\\\s]*\",\" \",regex=True)\n",
    "    return df\n",
    "    \n",
    "def removeFromName(df,toremove):\n",
    "    df[\"NameCleansed\"].fillna(\"\",inplace=True)\n",
    "    patterntoreplace=\"\"\n",
    "    for toreplace in toremove:\n",
    "        patterntoreplace=patterntoreplace+\"\\\\s\"+toreplace+\"[\\\\s]*\"+\"|\"\n",
    "    patterntoreplace=patterntoreplace[:-1]\n",
    "    df.NameCleansed=df.NameCleansed.str.replace(patterntoreplace,\" \",regex=True)\n",
    "    return df\n",
    "\n",
    "def removeFromNameCountry(df,toremove):\n",
    "    df.NameCountryCleansed=df.NameCountryCleansed.str.replace(df,\" \",regex=True)\n",
    "    return df\n",
    "\n",
    "# Function to clean the name of the commany and creating a column for representation of name + country\n",
    "def cleanCountryAndName(df):\n",
    "    dftoreplace=df\n",
    "    print(\"#1\",time.time())\n",
    "    dftoreplace=deduceContryFromNameInformation(dftoreplace,\"sas\",\"france\")\n",
    "    dftoreplace=deduceContryFromNameInformation(dftoreplace,\"s\\.a\\.s\",\"france\")\n",
    "    dftoreplace=deduceContryFromNameInformation(dftoreplace,\"france\",\"france\")\n",
    "    dftoreplace=deduceContryFromNameInformation(dftoreplace,\"french\",\"france\")\n",
    "    dftoreplace=deduceContryFromNameInformation(dftoreplace,\"ltd\",\"united kingdom\")\n",
    "    dftoreplace=deduceContryFromNameInformation(dftoreplace,\"limited\",\"united kingdom\")\n",
    "    dftoreplace=deduceContryFromNameInformation(dftoreplace,\"united kingdom\",\"united kingdom\")\n",
    "    dftoreplace=deduceContryFromNameInformation(dftoreplace, \"s\\.l\",\"spain\")\n",
    "    dftoreplace=deduceContryFromNameInformation(dftoreplace,\"s\\.l\\.\",\"spain\")\n",
    "    dftoreplace=deduceContryFromNameInformation(dftoreplace, \"slu\",\"spain\")\n",
    "    dftoreplace=deduceContryFromNameInformation(dftoreplace,\"spanish\",\"spain\")\n",
    "    dftoreplace=deduceContryFromNameInformation(dftoreplace,\"turkish*\",\"turkey\")\n",
    "    dftoreplace=deduceContryFromNameInformation(dftoreplace,\"german*\",\"germany\")\n",
    "    dftoreplace=deduceContryFromNameInformation(dftoreplace,\"gmbh*\",\"germany\")\n",
    "    dftoreplace=deduceContryFromNameInformation(dftoreplace,\"deutschland*\",\"germany\")\n",
    "    dftoreplace=deduceContryFromNameInformation(dftoreplace,\"verwaltungs*\",\"germany\")\n",
    "    dftoreplace=deduceContryFromNameInformation(dftoreplace, \"germany*\",\"germany\")\n",
    "    dftoreplace=deduceContryFromNameInformation(dftoreplace,\"belgium*\",\"belgium\")\n",
    "    dftoreplace=deduceContryFromNameInformation(dftoreplace,\"belgian\",\"belgium\")\n",
    "    dftoreplace=deduceContryFromNameInformation(dftoreplace, \"luxembourg\",\"luxembourg\")\n",
    "    print(\"#2\",time.time())\n",
    "    \n",
    "    \n",
    "    dftoreplace.CountryCleansed=dftoreplace.CountryCleansed.mask((dftoreplace.CountryCleansed.isna()) & (dftoreplace.NameCleansed.str.contains( \"\\\\ssud ouest[\\s]*\")),\"france\")\n",
    "    dftoreplace.CountryCleansed=dftoreplace.CountryCleansed.mask((dftoreplace.CountryCleansed.isna()) & (dftoreplace.NameCleansed.str.contains( \"\\\\ssud-ouest[\\s]*\")),\"france\")    \n",
    "    dftoreplace.CountryCleansed=dftoreplace.CountryCleansed.mask((dftoreplace.CountryCleansed.isna()) & (dftoreplace.NameCleansed.str.contains( \"[\\\\s]*toulouse[\\s]*\")),\"france\")\n",
    "    dftoreplace.CountryCleansed=dftoreplace.CountryCleansed.mask((dftoreplace.CountryCleansed.isna()) & (dftoreplace.NameCleansed.str.contains( \"\\\\ssl[\\s]*\")),\"spain\")\n",
    "    print(\"#3\",time.time())\n",
    "    #Remove unrelevant terms from company name \n",
    "    dftoreplace.NameCleansed=dftoreplace.NameCleansed.str.replace(\"\\\\sprivate[\\\\s]*\",\" \",regex=True)\n",
    "\n",
    "    \n",
    "    dftoreplace=removeFromName(dftoreplace,countries.originalcountry.to_list())\n",
    "    \n",
    "    print(\"#4\",time.time())       \n",
    "    # Clean the country name use only english\n",
    "    dftoreplace[\"CountryCleansed\"].fillna(\"\",inplace=True)\n",
    "    dftoreplace[\"CountryCleansed\"]=dftoreplace[\"CountryCleansed\"].apply(lambda x:pattern.sub(lambda m: rep[re.escape(m.group(0))], x))\n",
    "    dftoreplace[\"CountryCleansed\"].replace(\" \",\"\",regex=True,inplace=True)\n",
    "    dftoreplace[\"CountryCleansed\"].replace(\"-\",\"\",regex=True,inplace=True)\n",
    "    dftoreplace=removeFromName(dftoreplace,[\"sa\",\"gmbh\",\"ltd\",\"limited\",\"sl\",\"private\",\"co\",\"kg\",\"verwaltungs\",\"gesellschaft\",\"in\"])\n",
    "    dftoreplace[\"NameCountryCleansed\"]=dftoreplace.NameCleansed+ \" \" +dftoreplace[\"CountryCleansed\"]\n",
    "    df.NameCountryCleansed=df.NameCountryCleansed.str.replace(\"-\",\" \")\n",
    "    return dftoreplace"
   ]
  },
  {
   "cell_type": "code",
   "execution_count": 6,
   "id": "0786db5c-8a54-4db2-8ad4-fcfe15872826",
   "metadata": {},
   "outputs": [],
   "source": [
    "def createCleansedFields(dfsource,countryField,nameField,addressField):\n",
    "    # We create a cleansed name in the TP referential referential\n",
    "    dfsource.loc[:,addressField]=dfsource.loc[:,addressField].fillna(\"\")\n",
    "    dfsource[\"indexcol\"]=dfsource.index\n",
    "    #print(\"Tp with no name\",dfsource[dfsource[nameField].isna()])\n",
    "    #print(\"Tp with no country\",dfsource[dfsource[countryField].isna()])\n",
    "    dfsource=dfsource[~dfsource[nameField].isna()]\n",
    "    dfsource[\"NameCleansed\"]=dfsource[nameField].str.lower()\n",
    "    dfsource[\"CountryCleansed\"]=dfsource[countryField].str.lower()\n",
    "    dfsource['CleansedAddress'] = dfsource[addressField].agg(' '.join, axis=1)\n",
    "    dfsource[\"CleansedAddress\"]=dfsource[\"CleansedAddress\"].str.lower()\n",
    "    return dfsource\n"
   ]
  },
  {
   "cell_type": "code",
   "execution_count": 7,
   "id": "ec29ed30-8090-43bc-ad73-fcfc2db170a7",
   "metadata": {},
   "outputs": [
    {
     "name": "stdout",
     "output_type": "stream",
     "text": [
      "Create clean fields to match 0.07926297187805176\n",
      "#1 1703671886.989357\n",
      "#2 1703671887.3393025\n",
      "#3 1703671887.3763454\n",
      "#4 1703671887.4316907\n",
      "Clean country to match 0.49155139923095703\n"
     ]
    },
    {
     "name": "stderr",
     "output_type": "stream",
     "text": [
      "/tmp/ipykernel_295/4274902129.py:8: SettingWithCopyWarning: \n",
      "A value is trying to be set on a copy of a slice from a DataFrame.\n",
      "Try using .loc[row_indexer,col_indexer] = value instead\n",
      "\n",
      "See the caveats in the documentation: https://pandas.pydata.org/pandas-docs/stable/user_guide/indexing.html#returning-a-view-versus-a-copy\n",
      "  dfsource[\"NameCleansed\"]=dfsource[nameField].str.lower()\n",
      "/tmp/ipykernel_295/4274902129.py:9: SettingWithCopyWarning: \n",
      "A value is trying to be set on a copy of a slice from a DataFrame.\n",
      "Try using .loc[row_indexer,col_indexer] = value instead\n",
      "\n",
      "See the caveats in the documentation: https://pandas.pydata.org/pandas-docs/stable/user_guide/indexing.html#returning-a-view-versus-a-copy\n",
      "  dfsource[\"CountryCleansed\"]=dfsource[countryField].str.lower()\n",
      "/tmp/ipykernel_295/4274902129.py:10: SettingWithCopyWarning: \n",
      "A value is trying to be set on a copy of a slice from a DataFrame.\n",
      "Try using .loc[row_indexer,col_indexer] = value instead\n",
      "\n",
      "See the caveats in the documentation: https://pandas.pydata.org/pandas-docs/stable/user_guide/indexing.html#returning-a-view-versus-a-copy\n",
      "  dfsource['CleansedAddress'] = dfsource[addressField].agg(' '.join, axis=1)\n",
      "/tmp/ipykernel_295/4274902129.py:11: SettingWithCopyWarning: \n",
      "A value is trying to be set on a copy of a slice from a DataFrame.\n",
      "Try using .loc[row_indexer,col_indexer] = value instead\n",
      "\n",
      "See the caveats in the documentation: https://pandas.pydata.org/pandas-docs/stable/user_guide/indexing.html#returning-a-view-versus-a-copy\n",
      "  dfsource[\"CleansedAddress\"]=dfsource[\"CleansedAddress\"].str.lower()\n",
      "/tmp/ipykernel_295/943526568.py:3: SettingWithCopyWarning: \n",
      "A value is trying to be set on a copy of a slice from a DataFrame.\n",
      "Try using .loc[row_indexer,col_indexer] = value instead\n",
      "\n",
      "See the caveats in the documentation: https://pandas.pydata.org/pandas-docs/stable/user_guide/indexing.html#returning-a-view-versus-a-copy\n",
      "  df.CountryCleansed=df.CountryCleansed.mask((df.CountryCleansed.isna()) & (df.NameCleansed.str.contains( \"\\\\s\"+acronym+\"[\\s]*\")),country)\n"
     ]
    },
    {
     "name": "stdout",
     "output_type": "stream",
     "text": [
      "Create clean fields ref 0.9769346714019775\n",
      "#1 1703671888.4585345\n"
     ]
    },
    {
     "name": "stderr",
     "output_type": "stream",
     "text": [
      "/tmp/ipykernel_295/943526568.py:4: SettingWithCopyWarning: \n",
      "A value is trying to be set on a copy of a slice from a DataFrame.\n",
      "Try using .loc[row_indexer,col_indexer] = value instead\n",
      "\n",
      "See the caveats in the documentation: https://pandas.pydata.org/pandas-docs/stable/user_guide/indexing.html#returning-a-view-versus-a-copy\n",
      "  df.NameCleansed=df.NameCleansed.str.replace(\"\\\\s\"+acronym+\"[\\\\s]*\",\" \",regex=True)\n"
     ]
    },
    {
     "name": "stdout",
     "output_type": "stream",
     "text": [
      "#2 1703671892.3350637\n"
     ]
    },
    {
     "name": "stderr",
     "output_type": "stream",
     "text": [
      "/tmp/ipykernel_295/943526568.py:47: SettingWithCopyWarning: \n",
      "A value is trying to be set on a copy of a slice from a DataFrame.\n",
      "Try using .loc[row_indexer,col_indexer] = value instead\n",
      "\n",
      "See the caveats in the documentation: https://pandas.pydata.org/pandas-docs/stable/user_guide/indexing.html#returning-a-view-versus-a-copy\n",
      "  dftoreplace.CountryCleansed=dftoreplace.CountryCleansed.mask((dftoreplace.CountryCleansed.isna()) & (dftoreplace.NameCleansed.str.contains( \"\\\\ssud ouest[\\s]*\")),\"france\")\n",
      "/tmp/ipykernel_295/943526568.py:48: SettingWithCopyWarning: \n",
      "A value is trying to be set on a copy of a slice from a DataFrame.\n",
      "Try using .loc[row_indexer,col_indexer] = value instead\n",
      "\n",
      "See the caveats in the documentation: https://pandas.pydata.org/pandas-docs/stable/user_guide/indexing.html#returning-a-view-versus-a-copy\n",
      "  dftoreplace.CountryCleansed=dftoreplace.CountryCleansed.mask((dftoreplace.CountryCleansed.isna()) & (dftoreplace.NameCleansed.str.contains( \"\\\\ssud-ouest[\\s]*\")),\"france\")\n",
      "/tmp/ipykernel_295/943526568.py:49: SettingWithCopyWarning: \n",
      "A value is trying to be set on a copy of a slice from a DataFrame.\n",
      "Try using .loc[row_indexer,col_indexer] = value instead\n",
      "\n",
      "See the caveats in the documentation: https://pandas.pydata.org/pandas-docs/stable/user_guide/indexing.html#returning-a-view-versus-a-copy\n",
      "  dftoreplace.CountryCleansed=dftoreplace.CountryCleansed.mask((dftoreplace.CountryCleansed.isna()) & (dftoreplace.NameCleansed.str.contains( \"[\\\\s]*toulouse[\\s]*\")),\"france\")\n",
      "/tmp/ipykernel_295/943526568.py:50: SettingWithCopyWarning: \n",
      "A value is trying to be set on a copy of a slice from a DataFrame.\n",
      "Try using .loc[row_indexer,col_indexer] = value instead\n",
      "\n",
      "See the caveats in the documentation: https://pandas.pydata.org/pandas-docs/stable/user_guide/indexing.html#returning-a-view-versus-a-copy\n",
      "  dftoreplace.CountryCleansed=dftoreplace.CountryCleansed.mask((dftoreplace.CountryCleansed.isna()) & (dftoreplace.NameCleansed.str.contains( \"\\\\ssl[\\s]*\")),\"spain\")\n",
      "/tmp/ipykernel_295/943526568.py:53: SettingWithCopyWarning: \n",
      "A value is trying to be set on a copy of a slice from a DataFrame.\n",
      "Try using .loc[row_indexer,col_indexer] = value instead\n",
      "\n",
      "See the caveats in the documentation: https://pandas.pydata.org/pandas-docs/stable/user_guide/indexing.html#returning-a-view-versus-a-copy\n",
      "  dftoreplace.NameCleansed=dftoreplace.NameCleansed.str.replace(\"\\\\sprivate[\\\\s]*\",\" \",regex=True)\n",
      "/tmp/ipykernel_295/943526568.py:8: SettingWithCopyWarning: \n",
      "A value is trying to be set on a copy of a slice from a DataFrame\n",
      "\n",
      "See the caveats in the documentation: https://pandas.pydata.org/pandas-docs/stable/user_guide/indexing.html#returning-a-view-versus-a-copy\n",
      "  df[\"NameCleansed\"].fillna(\"\",inplace=True)\n"
     ]
    },
    {
     "name": "stdout",
     "output_type": "stream",
     "text": [
      "#3 1703671892.7075481\n"
     ]
    },
    {
     "name": "stderr",
     "output_type": "stream",
     "text": [
      "/tmp/ipykernel_295/943526568.py:13: SettingWithCopyWarning: \n",
      "A value is trying to be set on a copy of a slice from a DataFrame.\n",
      "Try using .loc[row_indexer,col_indexer] = value instead\n",
      "\n",
      "See the caveats in the documentation: https://pandas.pydata.org/pandas-docs/stable/user_guide/indexing.html#returning-a-view-versus-a-copy\n",
      "  df.NameCleansed=df.NameCleansed.str.replace(patterntoreplace,\" \",regex=True)\n",
      "/tmp/ipykernel_295/943526568.py:60: SettingWithCopyWarning: \n",
      "A value is trying to be set on a copy of a slice from a DataFrame\n",
      "\n",
      "See the caveats in the documentation: https://pandas.pydata.org/pandas-docs/stable/user_guide/indexing.html#returning-a-view-versus-a-copy\n",
      "  dftoreplace[\"CountryCleansed\"].fillna(\"\",inplace=True)\n"
     ]
    },
    {
     "name": "stdout",
     "output_type": "stream",
     "text": [
      "#4 1703671893.1542306\n"
     ]
    },
    {
     "name": "stderr",
     "output_type": "stream",
     "text": [
      "/tmp/ipykernel_295/943526568.py:61: SettingWithCopyWarning: \n",
      "A value is trying to be set on a copy of a slice from a DataFrame.\n",
      "Try using .loc[row_indexer,col_indexer] = value instead\n",
      "\n",
      "See the caveats in the documentation: https://pandas.pydata.org/pandas-docs/stable/user_guide/indexing.html#returning-a-view-versus-a-copy\n",
      "  dftoreplace[\"CountryCleansed\"]=dftoreplace[\"CountryCleansed\"].apply(lambda x:pattern.sub(lambda m: rep[re.escape(m.group(0))], x))\n",
      "/tmp/ipykernel_295/943526568.py:62: SettingWithCopyWarning: \n",
      "A value is trying to be set on a copy of a slice from a DataFrame\n",
      "\n",
      "See the caveats in the documentation: https://pandas.pydata.org/pandas-docs/stable/user_guide/indexing.html#returning-a-view-versus-a-copy\n",
      "  dftoreplace[\"CountryCleansed\"].replace(\" \",\"\",regex=True,inplace=True)\n",
      "/tmp/ipykernel_295/943526568.py:63: SettingWithCopyWarning: \n",
      "A value is trying to be set on a copy of a slice from a DataFrame\n",
      "\n",
      "See the caveats in the documentation: https://pandas.pydata.org/pandas-docs/stable/user_guide/indexing.html#returning-a-view-versus-a-copy\n",
      "  dftoreplace[\"CountryCleansed\"].replace(\"-\",\"\",regex=True,inplace=True)\n"
     ]
    },
    {
     "name": "stdout",
     "output_type": "stream",
     "text": [
      "Clean country ref 5.366580247879028\n"
     ]
    },
    {
     "name": "stderr",
     "output_type": "stream",
     "text": [
      "/tmp/ipykernel_295/943526568.py:65: SettingWithCopyWarning: \n",
      "A value is trying to be set on a copy of a slice from a DataFrame.\n",
      "Try using .loc[row_indexer,col_indexer] = value instead\n",
      "\n",
      "See the caveats in the documentation: https://pandas.pydata.org/pandas-docs/stable/user_guide/indexing.html#returning-a-view-versus-a-copy\n",
      "  dftoreplace[\"NameCountryCleansed\"]=dftoreplace.NameCleansed+ \" \" +dftoreplace[\"CountryCleansed\"]\n",
      "/tmp/ipykernel_295/943526568.py:66: SettingWithCopyWarning: \n",
      "A value is trying to be set on a copy of a slice from a DataFrame.\n",
      "Try using .loc[row_indexer,col_indexer] = value instead\n",
      "\n",
      "See the caveats in the documentation: https://pandas.pydata.org/pandas-docs/stable/user_guide/indexing.html#returning-a-view-versus-a-copy\n",
      "  df.NameCountryCleansed=df.NameCountryCleansed.str.replace(\"-\",\" \")\n"
     ]
    }
   ],
   "source": [
    "referentialnamefield=\"name1\"\n",
    "import time\n",
    "\n",
    "tomatchnamefield=\"TDPARTY_NAME\"\n",
    "start=time.time()\n",
    "tomatch=createCleansedFields(tp,\"TDPARTY_COUNTRY\",tomatchnamefield,['TDPARTY_ADDRESS','TDPARTY_POSTAL_CODE','TDPARTY_CITY'])\n",
    "end=time.time()\n",
    "timeelapsed=end-start\n",
    "print(\"Create clean fields to match\" , timeelapsed)\n",
    "start=time.time()\n",
    "tomatch=cleanCountryAndName(tomatch)\n",
    "end=time.time()\n",
    "timeelapsed=end-start\n",
    "print(\"Clean country to match\" , timeelapsed)\n",
    "start=time.time()\n",
    "referential=createCleansedFields(suppliermaster,'country_description',referentialnamefield,['address','street2','postal_code','city'])\n",
    "end=time.time()\n",
    "timeelapsed=end-start\n",
    "print(\"Create clean fields ref\" , timeelapsed)\n",
    "start=time.time()\n",
    "referential=cleanCountryAndName(referential)\n",
    "end=time.time()\n",
    "timeelapsed=end-start\n",
    "print(\"Clean country ref\" , timeelapsed)\n"
   ]
  },
  {
   "cell_type": "code",
   "execution_count": null,
   "id": "e612e4d6-8a44-4620-b4c1-ad81ef3b5e30",
   "metadata": {},
   "outputs": [],
   "source": []
  },
  {
   "cell_type": "code",
   "execution_count": 8,
   "id": "1cc86517-8cfe-48b6-81bc-4c280a1dd679",
   "metadata": {
    "scrolled": true
   },
   "outputs": [],
   "source": [
    "corpusname=pd.concat([tomatch.NameCountryCleansed,referential.NameCountryCleansed])\n"
   ]
  },
  {
   "cell_type": "code",
   "execution_count": 9,
   "id": "5685b997-a51f-4a42-8626-b0147306f5a0",
   "metadata": {},
   "outputs": [],
   "source": [
    "#Based on the corpus of name we create a matrix of association\n",
    "from sklearn.feature_extraction.text import CountVectorizer\n",
    "import numpy as np\n",
    "\n",
    "vectorizer = CountVectorizer(strip_accents=\"ascii\")\n",
    "features = vectorizer.fit(corpusname)\n",
    "\n",
    "tomatchnamevect=vectorizer.transform(tomatch.NameCountryCleansed)\n",
    "referentialnamevect=vectorizer.transform(referential.NameCountryCleansed)\n",
    "\n",
    "tomatchnamevect=(tomatchnamevect>0)*1\n",
    "referentialnamevect=(referentialnamevect>0)*1\n"
   ]
  },
  {
   "cell_type": "code",
   "execution_count": 10,
   "id": "32f29525-e369-4c47-af92-72f87fd5ccb4",
   "metadata": {},
   "outputs": [],
   "source": [
    "# We compute a list giving if two name are similar\n",
    "from sklearn.metrics.pairwise import cosine_similarity\n",
    "\n",
    "similarityname=cosine_similarity(tomatchnamevect,referentialnamevect)\n"
   ]
  },
  {
   "cell_type": "code",
   "execution_count": 11,
   "id": "6d2911e4-d830-48c0-9186-22f9e550fa9e",
   "metadata": {},
   "outputs": [
    {
     "data": {
      "image/png": "[encoded data removed]",
      "text/plain": [
       "<Figure size 640x480 with 1 Axes>"
      ]
     },
     "metadata": {},
     "output_type": "display_data"
    }
   ],
   "source": [
    "import matplotlib.pyplot as plt\n",
    "import numpy as np\n",
    "\n",
    "from matplotlib import colors\n",
    "from matplotlib.ticker import PercentFormatter\n",
    "\n",
    "counts, bins =np.histogram(similarityname,range=[.6,1])\n",
    "plt.stairs(counts, bins)\n",
    "plt.title(\"Similarity in name distribution\")\n",
    "plt.show()\n",
    "\n"
   ]
  },
  {
   "cell_type": "raw",
   "id": "da8c4fe8-8bf1-4652-a354-e7d382ca4865",
   "metadata": {
    "editable": true,
    "slideshow": {
     "slide_type": ""
    },
    "tags": []
   },
   "source": [
    "seuil=.82\n",
    "similarnamecim=np.where(similaritycim>seuil)\n",
    "similarnamesp1=np.where(similaritysp1>seuil)\n",
    "maxsimilarnamecim=np.argmax(similaritycim,axis=1)\n",
    "maxsimilarnamesp1=np.argmax(similaritysp1,axis=1)\n",
    "\n",
    "\n",
    "\n",
    "print(\"Exploration de CIM\")\n",
    "for i in range (1,2):\n",
    "#    print(tp.NameCountryCleansed.iloc[similarnamecim[0][i]])\n",
    "    print(tp.iloc[similarnamecim[0][i],2])\n",
    "#    print(cim.NameCountryCleansed.iloc[similarnamecim[1][i]])\n",
    "    print(cim.iloc[similarnamecim[1][i],3])\n",
    "    print(\"----------\")\n",
    "\n",
    "print(\"===========\")\n",
    "\n",
    "print(\"Exploration de SP1\")\n",
    "for i in range (1,2):\n",
    "    print(tp.NameCountryCleansed.iloc[similarnamesp1[0][i]])\n",
    "    print(sp1.iloc[similarnamesp1[1][i],1])\n",
    "    print(\"----------\")\n",
    "\n",
    "\n"
   ]
  },
  {
   "cell_type": "code",
   "execution_count": 12,
   "id": "bab6ea33-c0a7-4d67-b104-b9533d518746",
   "metadata": {},
   "outputs": [],
   "source": [
    "corpusaddress=pd.concat([tomatch.CleansedAddress,referential.CleansedAddress])\n",
    "corpusaddress=corpusaddress.dropna()"
   ]
  },
  {
   "cell_type": "code",
   "execution_count": 13,
   "id": "6d8dd011-2b46-48b6-a514-04672a9a0354",
   "metadata": {},
   "outputs": [],
   "source": [
    "#Based on the corpus of name we create a matrix of association\n",
    "from sklearn.feature_extraction.text import CountVectorizer\n",
    "import numpy as np\n",
    "\n",
    "vectorizeraddress = CountVectorizer(strip_accents=\"ascii\")\n",
    "features = vectorizeraddress.fit(corpusaddress)\n",
    "\n",
    "tomatchaddressvect=vectorizer.transform(tomatch.CleansedAddress)\n",
    "referentialaddressvect=vectorizer.transform(referential.CleansedAddress)\n",
    "\n",
    "\n",
    "# Renormalize so that if country is present twice in name and in country, it is counted only once\n",
    "\n",
    "tomatchaddressvect=(tomatchaddressvect>0)*1\n",
    "referentialaddressvect=(referentialaddressvect>0)*1\n"
   ]
  },
  {
   "cell_type": "code",
   "execution_count": null,
   "id": "4ded0e9d-5227-4313-9220-ffd5745ae67f",
   "metadata": {},
   "outputs": [],
   "source": []
  },
  {
   "cell_type": "code",
   "execution_count": 14,
   "id": "b889bf3f-a66f-4389-b3f1-63d6efce80fa",
   "metadata": {},
   "outputs": [
    {
     "data": {
      "text/plain": [
       "array([1.70710678, 2.        , 2.34519123, ..., 1.        , 1.76976911,\n",
       "       3.        ])"
      ]
     },
     "execution_count": 14,
     "metadata": {},
     "output_type": "execute_result"
    }
   ],
   "source": [
    "similarityaddress=cosine_similarity(tomatchaddressvect,referentialaddressvect)\n",
    "globalsimilarity=similarityname*2+similarityaddress\n",
    "argmaxglobalsimilarity=np.argmax(globalsimilarity,axis=1)\n",
    "\n",
    "valuemaxglobalsimilarity=np.zeros(len(argmaxglobalsimilarity))\n",
    "for i in range(len(argmaxglobalsimilarity)):\n",
    "    valuemaxglobalsimilarity[i]=globalsimilarity[i,argmaxglobalsimilarity[i]]\n",
    "\n",
    "for i in range(len(argmaxglobalsimilarity)):\n",
    "    globalsimilarity[i,argmaxglobalsimilarity[i]]=0\n",
    "\n",
    "secondargmaxglobalsimilarity=np.argmax(globalsimilarity,axis=1)\n",
    "secondvaluemaxglobalsimilarity=np.zeros(len(secondargmaxglobalsimilarity))\n",
    "\n",
    "for i in range(len(secondargmaxglobalsimilarity)):\n",
    "    secondvaluemaxglobalsimilarity[i]=globalsimilarity[i,secondargmaxglobalsimilarity[i]]\n",
    "secondvaluemaxglobalsimilarity\n"
   ]
  },
  {
   "cell_type": "raw",
   "id": "4b7a7263-07b5-43f4-89f5-f4e531b7cb92",
   "metadata": {},
   "source": [
    "\n",
    "# Pour le client\n",
    "\n",
    "\n",
    "premiereprop=[]\n",
    "sdeprop=[]\n",
    "\n",
    "ceilgreen=2.64\n",
    "ceilamber=2.0\n",
    "matchrate=np.zeros(len(tomatch))\n",
    "\n",
    "with open(\"proposition-master-supplier.html\", \"w\") as my_file:\n",
    "    my_file.write(\"<head>\")\n",
    "    my_file.write(\"<style>\")\n",
    "    my_file.write(\".green{background-color: #DAF7A6; }\")\n",
    "    my_file.write(\".red{background-color:  #f7bccd ; }\")\n",
    "    my_file.write(\".amber{background-color: #FFC300; }\")\n",
    "    my_file.write(\"</style>\")\n",
    "    my_file.write(\"<head>\")\n",
    "    my_file.write(\"<body>\")\n",
    "    my_file.write(\"<table>\\n\")\n",
    "    my_file.write(\"<tr>\\n\")\n",
    "    my_file.write(\"<th width=300>Name License Third party\")\n",
    "    my_file.write(\"</th>\")\n",
    "    my_file.write(\"<th width=400>Address License Third Party\")\n",
    "    my_file.write(\"</th>\")\n",
    "    my_file.write(\"<th width=300>Name Referential\")\n",
    "    my_file.write(\"</th>\")\n",
    "    my_file.write(\"<th width=400>Address Referential\")\n",
    "    my_file.write(\"</th>\")\n",
    "    my_file.write(\"<th width=30>Rating\")\n",
    "    my_file.write(\"</th>\")\n",
    "    my_file.write(\"</tr>\")\n",
    "    bestmatch=[]\n",
    "    for i in range(len(tomatch)):\n",
    "        idxtomatch=tomatch.iloc[i,:].name\n",
    "        j=argmaxglobalsimilarity[i]\n",
    "        rate=globalsimilarity[i,j]\n",
    "        matchrate[i]=rate\n",
    "        if rate>ceilgreen:\n",
    "            style=\"green\"\n",
    "        elif rate>ceilamber:\n",
    "            style=\"amber\"\n",
    "        else :\n",
    "            style=\"red\"\n",
    "        my_file.write(\"<tr class=\\\"\"+style+\"\\\">\\n\")\n",
    "        idxreferential=referential.iloc[j,:].name\n",
    "        tupletpreferential=(idxtomatch,idxtomatch)\n",
    "        bestmatch.append(tupletpreferential)\n",
    "        my_file.write(\"<td rowspan=2>\")\n",
    "        my_file.write(tomatch.loc[idxtomatch,tomatchnamefield])\n",
    "        my_file.write(\"</td>\")\n",
    "        my_file.write(\"<td rowspan=2>\")\n",
    "        my_file.write(tomatch.loc[idxtomatch,\"CleansedAddress\"])\n",
    "        my_file.write(\"</td>\")\n",
    "        my_file.write(\"<td>\")\n",
    "        my_file.write(referential.loc[idxreferential,referentialnamefield])\n",
    "        my_file.write(\"</td>\")\n",
    "        my_file.write(\"<td>\")\n",
    "        my_file.write(referential.loc[idxreferential,\"CleansedAddress\"])\n",
    "        my_file.write(\"</td>\")\n",
    "        my_file.write(\"<td>\")\n",
    "        my_file.write('{0:.2f}'.format(rate))\n",
    "        my_file.write(\"</td>\")\n",
    "        my_file.write(\"</tr>\\n\")\n",
    "\n",
    "        j=secondargmaxglobalsimilarity[i]\n",
    "        rate=globalsimilarity[i,j]\n",
    "        if rate>ceilgreen:\n",
    "            style=\"green\"\n",
    "        elif rate>ceilamber:\n",
    "            style=\"amber\"\n",
    "        else :\n",
    "            style=\"red\"\n",
    "        my_file.write(\"<tr class=\\\"\"+style+\"\\\">\\n\")\n",
    "        idxreferential=referential.iloc[j,:].name\n",
    "        my_file.write(\"<td>\")\n",
    "        my_file.write(referential.loc[idxreferential,referentialnamefield])\n",
    "        my_file.write(\"</td>\")\n",
    "        my_file.write(\"<td>\")\n",
    "        my_file.write(referential.loc[idxreferential,\"CleansedAddress\"])\n",
    "        my_file.write(\"</td>\")\n",
    "        my_file.write(\"<td>\")\n",
    "        my_file.write('{0:.2f}'.format(rate))\n",
    "        my_file.write(\"</td>\")\n",
    "        my_file.write(\"</tr>\\n\")\n",
    "\n",
    "    my_file.write(\"</table>\\n\")\n",
    "    my_file.write(\"</body>\\n\")\n",
    "    my_file.close()"
   ]
  },
  {
   "cell_type": "code",
   "execution_count": null,
   "id": "d0971d68-040f-48e4-b7c6-232d87c39d92",
   "metadata": {},
   "outputs": [],
   "source": []
  },
  {
   "cell_type": "code",
   "execution_count": 15,
   "id": "aa41ee65-c9ba-4572-8168-8d258ffdc860",
   "metadata": {},
   "outputs": [
    {
     "name": "stderr",
     "output_type": "stream",
     "text": [
      "/tmp/ipykernel_295/2726794271.py:45: FutureWarning: Setting an item of incompatible dtype is deprecated and will raise in a future error of pandas. Value '2.9999999999999996' has dtype incompatible with int64, please explicitly cast to a compatible dtype first.\n",
      "  tomatch.loc[idxtomatch,\"matchrate\"]=rate\n"
     ]
    }
   ],
   "source": [
    "# Pour le débug\n",
    "\n",
    "premiereprop=[]\n",
    "sdeprop=[]\n",
    "\n",
    "ceilgreen=2.4\n",
    "ceilamber=1.59\n",
    "nbred=0\n",
    "nbgreen=0\n",
    "nbamber=0\n",
    "matchrate=np.zeros(len(tomatch))\n",
    "\n",
    "tomatch['matchrate']=0\n",
    "\n",
    "with open(\"proposition-master-supplier-debug.html\", \"w\") as report_file:\n",
    "    report_file.write(\"<head>\")\n",
    "    report_file.write(\"<style>\")\n",
    "    report_file.write(\".green{background-color: #DAF7A6; }\")\n",
    "    report_file.write(\".red{background-color:  #f7bccd ; }\")\n",
    "    report_file.write(\".amber{background-color: #FFC300; }\")\n",
    "    report_file.write(\"</style>\")\n",
    "    report_file.write(\"<head>\")\n",
    "    report_file.write(\"<body>\")\n",
    "    report_file.write(\"<table>\\n\")\n",
    "    report_file.write(\"<tr>\\n\")\n",
    "    report_file.write(\"<th width=300>Name License Third party\")\n",
    "    report_file.write(\"</th>\")\n",
    "    report_file.write(\"<th width=400>Address License Third Party\")\n",
    "    report_file.write(\"</th>\")\n",
    "    report_file.write(\"<th width=300>Name Referential\")\n",
    "    report_file.write(\"</th>\")\n",
    "    report_file.write(\"<th width=400>Address Referential\")\n",
    "    report_file.write(\"</th>\")\n",
    "    report_file.write(\"<th width=30>Rating\")\n",
    "    report_file.write(\"</th>\")\n",
    "    report_file.write(\"<th width=30>Nature\")\n",
    "    report_file.write(\"</th>\")\n",
    "    report_file.write(\"</tr>\")\n",
    "    bestmatch=[]\n",
    "    for i in range(len(tomatch)):\n",
    "        idxtomatch=tomatch.iloc[i,:].name\n",
    "        j=argmaxglobalsimilarity[i]\n",
    "        rate=valuemaxglobalsimilarity[i]\n",
    "        matchrate[i]=rate\n",
    "        tomatch.loc[idxtomatch,\"matchrate\"]=rate\n",
    "        if rate>ceilgreen:\n",
    "            style=\"green\"\n",
    "            nbgreen=nbgreen+1\n",
    "        elif rate>ceilamber:\n",
    "            style=\"amber\"\n",
    "            nbamber=nbamber+1\n",
    "        else :\n",
    "            style=\"red\"\n",
    "            nbred=nbred+1\n",
    "        report_file.write(\"<tr class=\\\"\"+style+\"\\\">\\n\")\n",
    "        idxreferential=referential.iloc[j,:].name\n",
    "        tupletpreferential=(idxtomatch,idxtomatch)\n",
    "        bestmatch.append(tupletpreferential)\n",
    "        report_file.write(\"<td rowspan=2>\")\n",
    "        report_file.write(tomatch.loc[idxtomatch,\"NameCountryCleansed\"])    \n",
    "        report_file.write(\"</td>\")\n",
    "        report_file.write(\"<td rowspan=2>\")\n",
    "        report_file.write(tomatch.loc[idxtomatch,\"CleansedAddress\"])\n",
    "        report_file.write(\"</td>\")\n",
    "        report_file.write(\"<td>\")\n",
    "        report_file.write(referential.loc[idxreferential,\"NameCountryCleansed\"])\n",
    "        report_file.write(\"</td>\")\n",
    "        report_file.write(\"<td>\")\n",
    "        report_file.write(referential.loc[idxreferential,\"CleansedAddress\"])\n",
    "        report_file.write(\"</td>\")\n",
    "        report_file.write(\"<td>\")\n",
    "        report_file.write('{0:.2f}'.format(rate))\n",
    "        report_file.write(\"</td>\")\n",
    "        report_file.write(\"<td rowspan=2>\")\n",
    "        report_file.write(str(tomatch.loc[idxtomatch,\"nature\"]))\n",
    "        report_file.write(\"</td>\")\n",
    "        report_file.write(\"</tr>\\n\")\n",
    "\n",
    "        j=secondargmaxglobalsimilarity[i]\n",
    "        rate=secondvaluemaxglobalsimilarity[i]\n",
    "        if rate>ceilgreen:\n",
    "            style=\"green\"\n",
    "        elif rate>ceilamber:\n",
    "            style=\"amber\"\n",
    "        else :\n",
    "            style=\"red\"\n",
    "        report_file.write(\"<tr class=\\\"\"+style+\"\\\">\\n\")\n",
    "        idxreferential=referential.iloc[j,:].name\n",
    "        report_file.write(\"<td>\")\n",
    "        report_file.write(referential.loc[idxreferential,\"NameCountryCleansed\"])\n",
    "        report_file.write(\"</td>\")\n",
    "        report_file.write(\"<td>\")\n",
    "        report_file.write(referential.loc[idxreferential,\"CleansedAddress\"])\n",
    "        report_file.write(\"</td>\")\n",
    "        report_file.write(\"<td>\")\n",
    "        report_file.write('{0:.2f}'.format(rate))\n",
    "        report_file.write(\"</td>\")\n",
    "        report_file.write(\"</tr>\\n\")\n",
    "\n",
    "    report_file.write(\"</table>\\n\")\n",
    "    report_file.write(\"</body>\\n\")\n",
    "    report_file.close()\n",
    "\n"
   ]
  },
  {
   "cell_type": "code",
   "execution_count": 16,
   "id": "076055df-617b-49c1-a0aa-91a57109ef0d",
   "metadata": {},
   "outputs": [
    {
     "data": {
      "text/plain": [
       "<BarContainer object of 3 artists>"
      ]
     },
     "execution_count": 16,
     "metadata": {},
     "output_type": "execute_result"
    },
    {
     "data": {
      "image/png": "[encoded data removed]",
      "text/plain": [
       "<Figure size 640x480 with 1 Axes>"
      ]
     },
     "metadata": {},
     "output_type": "display_data"
    }
   ],
   "source": [
    "plt.bar(x=[\"OK\",\"To check\",\"KO\"],height=[nbgreen,nbamber,nbred],color=['g','orange','r'])"
   ]
  },
  {
   "cell_type": "code",
   "execution_count": 17,
   "id": "92d7971f-ebbf-47ab-b521-d790c13c3765",
   "metadata": {},
   "outputs": [
    {
     "data": {
      "text/plain": [
       "(array([ 944.,  360.,  334.,  678.,  922.,  744., 1850.,  715.,  830.,\n",
       "        1237.]),\n",
       " array([0.4472136 , 0.70249224, 0.95777088, 1.21304952, 1.46832816,\n",
       "        1.7236068 , 1.97888544, 2.23416408, 2.48944272, 2.74472136,\n",
       "        3.        ]),\n",
       " <BarContainer object of 10 artists>)"
      ]
     },
     "execution_count": 17,
     "metadata": {},
     "output_type": "execute_result"
    },
    {
     "data": {
      "image/png": "[encoded data removed]",
      "text/plain": [
       "<Figure size 640x480 with 1 Axes>"
      ]
     },
     "metadata": {},
     "output_type": "display_data"
    }
   ],
   "source": [
    "plt.hist(tomatch.matchrate)"
   ]
  },
  {
   "cell_type": "code",
   "execution_count": 18,
   "id": "8d37d3a1-5902-4de4-8adf-5a2b54165680",
   "metadata": {},
   "outputs": [
    {
     "data": {
      "text/plain": [
       "(array([1559., 3567., 2099.]),\n",
       " array([0.  , 1.59, 2.4 , 3.  ]),\n",
       " <BarContainer object of 3 artists>)"
      ]
     },
     "execution_count": 18,
     "metadata": {},
     "output_type": "execute_result"
    },
    {
     "data": {
      "image/png": "[encoded data removed]",
      "text/plain": [
       "<Figure size 640x480 with 1 Axes>"
      ]
     },
     "metadata": {},
     "output_type": "display_data"
    }
   ],
   "source": [
    "\n",
    "tomatch.nature.mask(tomatch.NameCountryCleansed.str.contains(\"gouvernement\"),\"gouvernement\",inplace=True)\n",
    "\n",
    "tomatch[tomatch.nature!=\"gouvernement\"].sort_values(by='matchrate')[['nature','NameCountryCleansed']][:200]\n",
    "\n",
    "\n",
    "plt.hist(tomatch[tomatch.nature!=\"gouvernement\"].matchrate,bins=[0,ceilamber,ceilgreen,3])\n",
    "\n"
   ]
  },
  {
   "cell_type": "code",
   "execution_count": 19,
   "id": "8368331b-52c2-422d-8046-0e68e14e1141",
   "metadata": {},
   "outputs": [
    {
     "data": {
      "text/plain": [
       "Text(0.5, 1.0, 'Pairing  third parties in licenses\\nusing master suppliers referential\\nAll divisions considered (incl. ADS)\\nExcl. Gvts')"
      ]
     },
     "execution_count": 19,
     "metadata": {},
     "output_type": "execute_result"
    },
    {
     "data": {
      "image/png": "[encoded data removed]",
      "text/plain": [
       "<Figure size 640x480 with 1 Axes>"
      ]
     },
     "metadata": {},
     "output_type": "display_data"
    }
   ],
   "source": [
    "x,y=np.histogram(tomatch[tomatch.nature!=\"gouvernement\"].matchrate,bins=[0,ceilamber,ceilgreen,3])\n",
    "plt.bar(x=[\"KO\",\"Proposal \\nto validate\",\"OK\"],height=x,color=['r','orange','g'])\n",
    "plt.title(\"Pairing  third parties in licenses\\nusing master suppliers referential\\nAll divisions considered (incl. ADS)\\nExcl. Gvts\")\n",
    "\n"
   ]
  }
 ],
 "metadata": {
  "kernelspec": {
   "display_name": "Python 3 (ipykernel)",
   "language": "python",
   "name": "python3"
  },
  "language_info": {
   "codemirror_mode": {
    "name": "ipython",
    "version": 3
   },
   "file_extension": ".py",
   "mimetype": "text/x-python",
   "name": "python",
   "nbconvert_exporter": "python",
   "pygments_lexer": "ipython3",
   "version": "3.11.6"
  }
 },
 "nbformat": 4,
 "nbformat_minor": 5
}
